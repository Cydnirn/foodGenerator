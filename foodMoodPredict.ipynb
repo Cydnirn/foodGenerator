{
 "cells": [
  {
   "cell_type": "code",
   "execution_count": 1,
   "metadata": {},
   "outputs": [],
   "source": [
    "import numpy as np\n",
    "import seaborn as sns\n",
    "import pandas as pd\n",
    "from sklearn.tree import DecisionTreeRegressor"
   ]
  },
  {
   "cell_type": "code",
   "execution_count": 8,
   "metadata": {},
   "outputs": [
    {
     "data": {
      "text/html": [
       "<div>\n",
       "<style scoped>\n",
       "    .dataframe tbody tr th:only-of-type {\n",
       "        vertical-align: middle;\n",
       "    }\n",
       "\n",
       "    .dataframe tbody tr th {\n",
       "        vertical-align: top;\n",
       "    }\n",
       "\n",
       "    .dataframe thead th {\n",
       "        text-align: right;\n",
       "    }\n",
       "</style>\n",
       "<table border=\"1\" class=\"dataframe\">\n",
       "  <thead>\n",
       "    <tr style=\"text-align: right;\">\n",
       "      <th></th>\n",
       "      <th>Jenis Kelamin</th>\n",
       "      <th>Umur</th>\n",
       "      <th>Lokasi</th>\n",
       "      <th>Mood</th>\n",
       "      <th>Rekomendasi Makanan</th>\n",
       "      <th>Rekomendasi Minuman</th>\n",
       "    </tr>\n",
       "  </thead>\n",
       "  <tbody>\n",
       "    <tr>\n",
       "      <th>0</th>\n",
       "      <td>Laki - Laki</td>\n",
       "      <td>17</td>\n",
       "      <td>NaN</td>\n",
       "      <td>Senang</td>\n",
       "      <td>Nasi goreng</td>\n",
       "      <td>Minuman bersoda</td>\n",
       "    </tr>\n",
       "    <tr>\n",
       "      <th>1</th>\n",
       "      <td>Laki - Laki</td>\n",
       "      <td>17</td>\n",
       "      <td>NaN</td>\n",
       "      <td>Senang</td>\n",
       "      <td>Cokelat</td>\n",
       "      <td>Minuman bersoda</td>\n",
       "    </tr>\n",
       "    <tr>\n",
       "      <th>2</th>\n",
       "      <td>Laki - Laki</td>\n",
       "      <td>17</td>\n",
       "      <td>NaN</td>\n",
       "      <td>Marah</td>\n",
       "      <td>Mie pedas</td>\n",
       "      <td>Air mineral</td>\n",
       "    </tr>\n",
       "    <tr>\n",
       "      <th>3</th>\n",
       "      <td>Laki - Laki</td>\n",
       "      <td>20</td>\n",
       "      <td>NaN</td>\n",
       "      <td>Marah</td>\n",
       "      <td>Seblak</td>\n",
       "      <td>Air mineral</td>\n",
       "    </tr>\n",
       "    <tr>\n",
       "      <th>4</th>\n",
       "      <td>Laki - Laki</td>\n",
       "      <td>25</td>\n",
       "      <td>NaN</td>\n",
       "      <td>Sedih</td>\n",
       "      <td>Sayur-sayuran</td>\n",
       "      <td>Teh</td>\n",
       "    </tr>\n",
       "  </tbody>\n",
       "</table>\n",
       "</div>"
      ],
      "text/plain": [
       "  Jenis Kelamin  Umur Lokasi    Mood Rekomendasi Makanan Rekomendasi Minuman\n",
       "0   Laki - Laki    17    NaN  Senang         Nasi goreng     Minuman bersoda\n",
       "1   Laki - Laki    17    NaN  Senang             Cokelat     Minuman bersoda\n",
       "2   Laki - Laki    17    NaN   Marah           Mie pedas         Air mineral\n",
       "3   Laki - Laki    20    NaN   Marah              Seblak         Air mineral\n",
       "4   Laki - Laki    25    NaN   Sedih       Sayur-sayuran                 Teh"
      ]
     },
     "execution_count": 8,
     "metadata": {},
     "output_type": "execute_result"
    }
   ],
   "source": [
    "data = pd.read_csv(\"model/survey.csv\")\n",
    "data.head()"
   ]
  },
  {
   "cell_type": "code",
   "execution_count": 14,
   "metadata": {},
   "outputs": [],
   "source": [
    "sex = data[\"Jenis Kelamin\"]\n",
    "age = data[\"Umur\"]\n",
    "mood = data[\"Mood\"]\n",
    "food = data[\"Rekomendasi Makanan\"]\n",
    "drink = data['Rekomendasi Minuman']"
   ]
  },
  {
   "cell_type": "code",
   "execution_count": 5,
   "metadata": {},
   "outputs": [
    {
     "data": {
      "text/html": [
       "<div>\n",
       "<style scoped>\n",
       "    .dataframe tbody tr th:only-of-type {\n",
       "        vertical-align: middle;\n",
       "    }\n",
       "\n",
       "    .dataframe tbody tr th {\n",
       "        vertical-align: top;\n",
       "    }\n",
       "\n",
       "    .dataframe thead th {\n",
       "        text-align: right;\n",
       "    }\n",
       "</style>\n",
       "<table border=\"1\" class=\"dataframe\">\n",
       "  <thead>\n",
       "    <tr style=\"text-align: right;\">\n",
       "      <th></th>\n",
       "      <th>Jenis Kelamin</th>\n",
       "      <th>Umur</th>\n",
       "      <th>Lokasi</th>\n",
       "      <th>Mood</th>\n",
       "      <th>Rekomendasi Makanan</th>\n",
       "      <th>Rekomendasi Minuman</th>\n",
       "    </tr>\n",
       "  </thead>\n",
       "  <tbody>\n",
       "    <tr>\n",
       "      <th>0</th>\n",
       "      <td>Laki - Laki</td>\n",
       "      <td>17</td>\n",
       "      <td>Tidak Tersedia</td>\n",
       "      <td>Senang</td>\n",
       "      <td>Nasi goreng</td>\n",
       "      <td>Minuman bersoda</td>\n",
       "    </tr>\n",
       "    <tr>\n",
       "      <th>1</th>\n",
       "      <td>Laki - Laki</td>\n",
       "      <td>17</td>\n",
       "      <td>Tidak Tersedia</td>\n",
       "      <td>Senang</td>\n",
       "      <td>Cokelat</td>\n",
       "      <td>Minuman bersoda</td>\n",
       "    </tr>\n",
       "    <tr>\n",
       "      <th>2</th>\n",
       "      <td>Laki - Laki</td>\n",
       "      <td>17</td>\n",
       "      <td>Tidak Tersedia</td>\n",
       "      <td>Marah</td>\n",
       "      <td>Mie pedas</td>\n",
       "      <td>Air mineral</td>\n",
       "    </tr>\n",
       "    <tr>\n",
       "      <th>3</th>\n",
       "      <td>Laki - Laki</td>\n",
       "      <td>20</td>\n",
       "      <td>Tidak Tersedia</td>\n",
       "      <td>Marah</td>\n",
       "      <td>Seblak</td>\n",
       "      <td>Air mineral</td>\n",
       "    </tr>\n",
       "    <tr>\n",
       "      <th>4</th>\n",
       "      <td>Laki - Laki</td>\n",
       "      <td>25</td>\n",
       "      <td>Tidak Tersedia</td>\n",
       "      <td>Sedih</td>\n",
       "      <td>Sayur-sayuran</td>\n",
       "      <td>Teh</td>\n",
       "    </tr>\n",
       "  </tbody>\n",
       "</table>\n",
       "</div>"
      ],
      "text/plain": [
       "  Jenis Kelamin  Umur          Lokasi    Mood Rekomendasi Makanan  \\\n",
       "0   Laki - Laki    17  Tidak Tersedia  Senang         Nasi goreng   \n",
       "1   Laki - Laki    17  Tidak Tersedia  Senang             Cokelat   \n",
       "2   Laki - Laki    17  Tidak Tersedia   Marah           Mie pedas   \n",
       "3   Laki - Laki    20  Tidak Tersedia   Marah              Seblak   \n",
       "4   Laki - Laki    25  Tidak Tersedia   Sedih       Sayur-sayuran   \n",
       "\n",
       "  Rekomendasi Minuman  \n",
       "0     Minuman bersoda  \n",
       "1     Minuman bersoda  \n",
       "2         Air mineral  \n",
       "3         Air mineral  \n",
       "4                 Teh  "
      ]
     },
     "execution_count": 5,
     "metadata": {},
     "output_type": "execute_result"
    }
   ],
   "source": [
    "data['Lokasi'] = data['Lokasi'].fillna(\"Tidak Tersedia\")\n",
    "data.head()"
   ]
  },
  {
   "cell_type": "markdown",
   "metadata": {},
   "source": [
    "Encoding "
   ]
  },
  {
   "cell_type": "code",
   "execution_count": null,
   "metadata": {},
   "outputs": [],
   "source": [
    "def simplify_age (age):\n",
    "    if age > 0 and age < 6:\n",
    "        return \"Balita\"\n",
    "    elif age > 6 and age < 12:\n",
    "        return \"Anak - anak\"\n",
    "    elif age > 12 and age < 18:\n",
    "        return \"Remaja\"\n",
    "    elif age > 18 and age < 65:\n",
    "        return \"Dewasa\"\n",
    "    elif age > 65 and age < 200:\n",
    "        return \"lansia\"\n",
    "    return \"Tidak normal\"\n",
    "\n",
    "data[\"Umur\"] = data[\"Umur\"].apply(simplify_age)\n",
    "data[\"Umur\"].unique()"
   ]
  },
  {
   "cell_type": "code",
   "execution_count": 23,
   "metadata": {},
   "outputs": [
    {
     "data": {
      "text/html": [
       "<div>\n",
       "<style scoped>\n",
       "    .dataframe tbody tr th:only-of-type {\n",
       "        vertical-align: middle;\n",
       "    }\n",
       "\n",
       "    .dataframe tbody tr th {\n",
       "        vertical-align: top;\n",
       "    }\n",
       "\n",
       "    .dataframe thead th {\n",
       "        text-align: right;\n",
       "    }\n",
       "</style>\n",
       "<table border=\"1\" class=\"dataframe\">\n",
       "  <thead>\n",
       "    <tr style=\"text-align: right;\">\n",
       "      <th></th>\n",
       "      <th>Jenis Kelamin</th>\n",
       "      <th>Umur</th>\n",
       "      <th>Lokasi</th>\n",
       "      <th>Mood</th>\n",
       "      <th>Rekomendasi Makanan</th>\n",
       "      <th>Rekomendasi Minuman</th>\n",
       "      <th>umur</th>\n",
       "    </tr>\n",
       "  </thead>\n",
       "  <tbody>\n",
       "    <tr>\n",
       "      <th>0</th>\n",
       "      <td>0</td>\n",
       "      <td>3</td>\n",
       "      <td>NaN</td>\n",
       "      <td>Senang</td>\n",
       "      <td>Nasi goreng</td>\n",
       "      <td>Minuman bersoda</td>\n",
       "      <td>Remaja</td>\n",
       "    </tr>\n",
       "    <tr>\n",
       "      <th>1</th>\n",
       "      <td>0</td>\n",
       "      <td>3</td>\n",
       "      <td>NaN</td>\n",
       "      <td>Senang</td>\n",
       "      <td>Cokelat</td>\n",
       "      <td>Minuman bersoda</td>\n",
       "      <td>Remaja</td>\n",
       "    </tr>\n",
       "    <tr>\n",
       "      <th>2</th>\n",
       "      <td>0</td>\n",
       "      <td>3</td>\n",
       "      <td>NaN</td>\n",
       "      <td>Marah</td>\n",
       "      <td>Mie pedas</td>\n",
       "      <td>Air mineral</td>\n",
       "      <td>Remaja</td>\n",
       "    </tr>\n",
       "    <tr>\n",
       "      <th>3</th>\n",
       "      <td>0</td>\n",
       "      <td>2</td>\n",
       "      <td>NaN</td>\n",
       "      <td>Marah</td>\n",
       "      <td>Seblak</td>\n",
       "      <td>Air mineral</td>\n",
       "      <td>Dewasa</td>\n",
       "    </tr>\n",
       "    <tr>\n",
       "      <th>4</th>\n",
       "      <td>0</td>\n",
       "      <td>2</td>\n",
       "      <td>NaN</td>\n",
       "      <td>Sedih</td>\n",
       "      <td>Sayur-sayuran</td>\n",
       "      <td>Teh</td>\n",
       "      <td>Dewasa</td>\n",
       "    </tr>\n",
       "  </tbody>\n",
       "</table>\n",
       "</div>"
      ],
      "text/plain": [
       "   Jenis Kelamin  Umur Lokasi    Mood Rekomendasi Makanan Rekomendasi Minuman  \\\n",
       "0              0     3    NaN  Senang         Nasi goreng     Minuman bersoda   \n",
       "1              0     3    NaN  Senang             Cokelat     Minuman bersoda   \n",
       "2              0     3    NaN   Marah           Mie pedas         Air mineral   \n",
       "3              0     2    NaN   Marah              Seblak         Air mineral   \n",
       "4              0     2    NaN   Sedih       Sayur-sayuran                 Teh   \n",
       "\n",
       "     umur  \n",
       "0  Remaja  \n",
       "1  Remaja  \n",
       "2  Remaja  \n",
       "3  Dewasa  \n",
       "4  Dewasa  "
      ]
     },
     "execution_count": 23,
     "metadata": {},
     "output_type": "execute_result"
    }
   ],
   "source": [
    "data.head()"
   ]
  },
  {
   "cell_type": "code",
   "execution_count": 15,
   "metadata": {},
   "outputs": [
    {
     "data": {
      "text/plain": [
       "array([0, 1])"
      ]
     },
     "execution_count": 15,
     "metadata": {},
     "output_type": "execute_result"
    }
   ],
   "source": [
    "from sklearn.preprocessing import LabelEncoder\n",
    "le_sex = LabelEncoder()\n",
    "data['Jenis Kelamin'] = le_sex.fit_transform(data['Jenis Kelamin'])\n",
    "data[\"Jenis Kelamin\"].unique()"
   ]
  },
  {
   "cell_type": "code",
   "execution_count": 24,
   "metadata": {},
   "outputs": [
    {
     "data": {
      "text/plain": [
       "array([3, 2, 4, 0, 1, 5], dtype=int64)"
      ]
     },
     "execution_count": 24,
     "metadata": {},
     "output_type": "execute_result"
    }
   ],
   "source": [
    "le_age = LabelEncoder()\n",
    "data[\"Umur\"] = le_age.fit_transform(data[\"Umur\"])\n",
    "data[\"Umur\"].unique()"
   ]
  },
  {
   "cell_type": "code",
   "execution_count": 25,
   "metadata": {},
   "outputs": [
    {
     "data": {
      "text/plain": [
       "array([3, 2, 4, 0, 1, 5], dtype=int64)"
      ]
     },
     "execution_count": 25,
     "metadata": {},
     "output_type": "execute_result"
    }
   ],
   "source": [
    "le_mood = LabelEncoder()\n",
    "data[\"Mood\"] = le_mood.fit_transform(data[\"Umur\"])\n",
    "data[\"Mood\"].unique()"
   ]
  },
  {
   "cell_type": "code",
   "execution_count": null,
   "metadata": {},
   "outputs": [],
   "source": []
  },
  {
   "cell_type": "code",
   "execution_count": 6,
   "metadata": {},
   "outputs": [
    {
     "ename": "KeyError",
     "evalue": "('Jenis Kelamin', 'Umur', 'Mood')",
     "output_type": "error",
     "traceback": [
      "\u001b[1;31m---------------------------------------------------------------------------\u001b[0m",
      "\u001b[1;31mKeyError\u001b[0m                                  Traceback (most recent call last)",
      "File \u001b[1;32mc:\\Users\\senoa.DESKTOP-TRKAE2C\\AppData\\Local\\Programs\\Python\\Python310\\lib\\site-packages\\pandas\\core\\indexes\\base.py:3621\u001b[0m, in \u001b[0;36mIndex.get_loc\u001b[1;34m(self, key, method, tolerance)\u001b[0m\n\u001b[0;32m   3620\u001b[0m \u001b[39mtry\u001b[39;00m:\n\u001b[1;32m-> 3621\u001b[0m     \u001b[39mreturn\u001b[39;00m \u001b[39mself\u001b[39;49m\u001b[39m.\u001b[39;49m_engine\u001b[39m.\u001b[39;49mget_loc(casted_key)\n\u001b[0;32m   3622\u001b[0m \u001b[39mexcept\u001b[39;00m \u001b[39mKeyError\u001b[39;00m \u001b[39mas\u001b[39;00m err:\n",
      "File \u001b[1;32mc:\\Users\\senoa.DESKTOP-TRKAE2C\\AppData\\Local\\Programs\\Python\\Python310\\lib\\site-packages\\pandas\\_libs\\index.pyx:136\u001b[0m, in \u001b[0;36mpandas._libs.index.IndexEngine.get_loc\u001b[1;34m()\u001b[0m\n",
      "File \u001b[1;32mc:\\Users\\senoa.DESKTOP-TRKAE2C\\AppData\\Local\\Programs\\Python\\Python310\\lib\\site-packages\\pandas\\_libs\\index.pyx:163\u001b[0m, in \u001b[0;36mpandas._libs.index.IndexEngine.get_loc\u001b[1;34m()\u001b[0m\n",
      "File \u001b[1;32mpandas\\_libs\\hashtable_class_helper.pxi:5198\u001b[0m, in \u001b[0;36mpandas._libs.hashtable.PyObjectHashTable.get_item\u001b[1;34m()\u001b[0m\n",
      "File \u001b[1;32mpandas\\_libs\\hashtable_class_helper.pxi:5206\u001b[0m, in \u001b[0;36mpandas._libs.hashtable.PyObjectHashTable.get_item\u001b[1;34m()\u001b[0m\n",
      "\u001b[1;31mKeyError\u001b[0m: ('Jenis Kelamin', 'Umur', 'Mood')",
      "\nThe above exception was the direct cause of the following exception:\n",
      "\u001b[1;31mKeyError\u001b[0m                                  Traceback (most recent call last)",
      "\u001b[1;32mg:\\Project\\Website\\foodGenerator\\foodMoodPredict.ipynb Cell 4\u001b[0m in \u001b[0;36m<cell line: 1>\u001b[1;34m()\u001b[0m\n\u001b[1;32m----> <a href='vscode-notebook-cell:/g%3A/Project/Website/foodGenerator/foodMoodPredict.ipynb#ch0000004?line=0'>1</a>\u001b[0m x \u001b[39m=\u001b[39m data[\u001b[39m\"\u001b[39;49m\u001b[39mJenis Kelamin\u001b[39;49m\u001b[39m\"\u001b[39;49m, \u001b[39m\"\u001b[39;49m\u001b[39mUmur\u001b[39;49m\u001b[39m\"\u001b[39;49m, \u001b[39m\"\u001b[39;49m\u001b[39mMood\u001b[39;49m\u001b[39m\"\u001b[39;49m]\n\u001b[0;32m      <a href='vscode-notebook-cell:/g%3A/Project/Website/foodGenerator/foodMoodPredict.ipynb#ch0000004?line=1'>2</a>\u001b[0m y \u001b[39m=\u001b[39m data[\u001b[39m\"\u001b[39m\u001b[39mRekomendasi Makanan\u001b[39m\u001b[39m\"\u001b[39m, \u001b[39m\"\u001b[39m\u001b[39mRekomendasi Minuman\u001b[39m\u001b[39m\"\u001b[39m]\n",
      "File \u001b[1;32mc:\\Users\\senoa.DESKTOP-TRKAE2C\\AppData\\Local\\Programs\\Python\\Python310\\lib\\site-packages\\pandas\\core\\frame.py:3505\u001b[0m, in \u001b[0;36mDataFrame.__getitem__\u001b[1;34m(self, key)\u001b[0m\n\u001b[0;32m   3503\u001b[0m \u001b[39mif\u001b[39;00m \u001b[39mself\u001b[39m\u001b[39m.\u001b[39mcolumns\u001b[39m.\u001b[39mnlevels \u001b[39m>\u001b[39m \u001b[39m1\u001b[39m:\n\u001b[0;32m   3504\u001b[0m     \u001b[39mreturn\u001b[39;00m \u001b[39mself\u001b[39m\u001b[39m.\u001b[39m_getitem_multilevel(key)\n\u001b[1;32m-> 3505\u001b[0m indexer \u001b[39m=\u001b[39m \u001b[39mself\u001b[39;49m\u001b[39m.\u001b[39;49mcolumns\u001b[39m.\u001b[39;49mget_loc(key)\n\u001b[0;32m   3506\u001b[0m \u001b[39mif\u001b[39;00m is_integer(indexer):\n\u001b[0;32m   3507\u001b[0m     indexer \u001b[39m=\u001b[39m [indexer]\n",
      "File \u001b[1;32mc:\\Users\\senoa.DESKTOP-TRKAE2C\\AppData\\Local\\Programs\\Python\\Python310\\lib\\site-packages\\pandas\\core\\indexes\\base.py:3623\u001b[0m, in \u001b[0;36mIndex.get_loc\u001b[1;34m(self, key, method, tolerance)\u001b[0m\n\u001b[0;32m   3621\u001b[0m     \u001b[39mreturn\u001b[39;00m \u001b[39mself\u001b[39m\u001b[39m.\u001b[39m_engine\u001b[39m.\u001b[39mget_loc(casted_key)\n\u001b[0;32m   3622\u001b[0m \u001b[39mexcept\u001b[39;00m \u001b[39mKeyError\u001b[39;00m \u001b[39mas\u001b[39;00m err:\n\u001b[1;32m-> 3623\u001b[0m     \u001b[39mraise\u001b[39;00m \u001b[39mKeyError\u001b[39;00m(key) \u001b[39mfrom\u001b[39;00m \u001b[39merr\u001b[39;00m\n\u001b[0;32m   3624\u001b[0m \u001b[39mexcept\u001b[39;00m \u001b[39mTypeError\u001b[39;00m:\n\u001b[0;32m   3625\u001b[0m     \u001b[39m# If we have a listlike key, _check_indexing_error will raise\u001b[39;00m\n\u001b[0;32m   3626\u001b[0m     \u001b[39m#  InvalidIndexError. Otherwise we fall through and re-raise\u001b[39;00m\n\u001b[0;32m   3627\u001b[0m     \u001b[39m#  the TypeError.\u001b[39;00m\n\u001b[0;32m   3628\u001b[0m     \u001b[39mself\u001b[39m\u001b[39m.\u001b[39m_check_indexing_error(key)\n",
      "\u001b[1;31mKeyError\u001b[0m: ('Jenis Kelamin', 'Umur', 'Mood')"
     ]
    }
   ],
   "source": [
    "x = data[\"Jenis Kelamin\", \"Umur\", \"Mood\"]\n",
    "y = data[\"Rekomendasi Makanan\", \"Rekomendasi Minuman\"]"
   ]
  },
  {
   "cell_type": "code",
   "execution_count": 4,
   "metadata": {},
   "outputs": [
    {
     "ename": "NameError",
     "evalue": "name 'X' is not defined",
     "output_type": "error",
     "traceback": [
      "\u001b[1;31m---------------------------------------------------------------------------\u001b[0m",
      "\u001b[1;31mNameError\u001b[0m                                 Traceback (most recent call last)",
      "\u001b[1;32mg:\\Project\\Website\\foodGenerator\\foodMoodPredict.ipynb Cell 4\u001b[0m in \u001b[0;36m<cell line: 2>\u001b[1;34m()\u001b[0m\n\u001b[0;32m      <a href='vscode-notebook-cell:/g%3A/Project/Website/foodGenerator/foodMoodPredict.ipynb#ch0000003?line=0'>1</a>\u001b[0m regressor \u001b[39m=\u001b[39m DecisionTreeRegressor(random_state\u001b[39m=\u001b[39m\u001b[39m0\u001b[39m)\n\u001b[1;32m----> <a href='vscode-notebook-cell:/g%3A/Project/Website/foodGenerator/foodMoodPredict.ipynb#ch0000003?line=1'>2</a>\u001b[0m regressor\u001b[39m.\u001b[39mfit(X, y)\n",
      "\u001b[1;31mNameError\u001b[0m: name 'X' is not defined"
     ]
    }
   ],
   "source": [
    "regressor = DecisionTreeRegressor(random_state=0)\n",
    "regressor.fit(X, y)"
   ]
  }
 ],
 "metadata": {
  "kernelspec": {
   "display_name": "Python 3.10.5 64-bit",
   "language": "python",
   "name": "python3"
  },
  "language_info": {
   "codemirror_mode": {
    "name": "ipython",
    "version": 3
   },
   "file_extension": ".py",
   "mimetype": "text/x-python",
   "name": "python",
   "nbconvert_exporter": "python",
   "pygments_lexer": "ipython3",
   "version": "3.10.5"
  },
  "orig_nbformat": 4,
  "vscode": {
   "interpreter": {
    "hash": "6adba92ea4630946933a208615a617445025cd010f5fb1bae6c958b3be96bffd"
   }
  }
 },
 "nbformat": 4,
 "nbformat_minor": 2
}
