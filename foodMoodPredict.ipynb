{
  "cells": [
    {
      "cell_type": "markdown",
      "metadata": {
        "id": "1drx2OXuaRCd"
      },
      "source": [
        "# Read Only, Don't Execute"
      ]
    },
    {
      "cell_type": "markdown",
      "metadata": {
        "id": "e7x2dKQG9kB8"
      },
      "source": [
        "Change \";\" into \",\""
      ]
    },
    {
      "cell_type": "code",
      "execution_count": null,
      "metadata": {
        "id": "RZb96UKF9kCG"
      },
      "outputs": [],
      "source": [
        "import os\n",
        "with open('model/test.csv', 'r') as file:\n",
        "    filedata = file.read()\n",
        "    filedata = filedata.replace(';', ',')\n",
        "\n",
        "    with open('model/test.csv', 'w') as file:\n",
        "        file.write(filedata)"
      ]
    },
    {
      "cell_type": "markdown",
      "metadata": {
        "id": "D5e7FEtUaXFz"
      },
      "source": [
        "To inverse Label encoding, simply run\n",
        "\n",
        "<font color = 'red'>[corresponding Label Encoder variable]</font>.inverse_transform(<font color = 'red'>[value]</font>)\n",
        "\n",
        "Example"
      ]
    },
    {
      "cell_type": "code",
      "execution_count": null,
      "metadata": {
        "id": "tBS1nSf8asJM"
      },
      "outputs": [],
      "source": [
        "#leA = Label Encoder for age\n",
        "#leA.inverse_transform([0])\n",
        "#will print out \"Anak - anak\""
      ]
    },
    {
      "cell_type": "markdown",
      "metadata": {
        "id": "NYqcPK-SdGof"
      },
      "source": [
        "To inverse OneHotEncoder however:"
      ]
    },
    {
      "cell_type": "code",
      "execution_count": null,
      "metadata": {
        "id": "2gjPxH4Mc-Hb"
      },
      "outputs": [],
      "source": [
        "#y is the variable that's already encoded\n",
        "#for i in y:\n",
        "  #i = np.argmax(i)"
      ]
    },
    {
      "cell_type": "markdown",
      "metadata": {
        "id": "RqWB4rOU9kCL"
      },
      "source": [
        "# CODE STARTS HERE"
      ]
    },
    {
      "cell_type": "code",
      "execution_count": 1,
      "metadata": {
        "id": "67YFBqjJ9kCM"
      },
      "outputs": [],
      "source": [
        "import numpy as np\n",
        "import seaborn as sns\n",
        "import pandas as pd\n",
        "from sklearn.tree import DecisionTreeRegressor\n",
        "from sklearn.tree import DecisionTreeClassifier\n",
        "from sklearn.ensemble import RandomForestClassifier"
      ]
    },
    {
      "cell_type": "code",
      "execution_count": 2,
      "metadata": {
        "colab": {
          "base_uri": "https://localhost:8080/",
          "height": 206
        },
        "id": "Mowm9AcC9kCO",
        "outputId": "1610c118-5a9e-4be5-860e-b4f788a8c50d"
      },
      "outputs": [
        {
          "data": {
            "text/html": [
              "<div>\n",
              "<style scoped>\n",
              "    .dataframe tbody tr th:only-of-type {\n",
              "        vertical-align: middle;\n",
              "    }\n",
              "\n",
              "    .dataframe tbody tr th {\n",
              "        vertical-align: top;\n",
              "    }\n",
              "\n",
              "    .dataframe thead th {\n",
              "        text-align: right;\n",
              "    }\n",
              "</style>\n",
              "<table border=\"1\" class=\"dataframe\">\n",
              "  <thead>\n",
              "    <tr style=\"text-align: right;\">\n",
              "      <th></th>\n",
              "      <th>Jenis Kelamin</th>\n",
              "      <th>Umur</th>\n",
              "      <th>Lokasi</th>\n",
              "      <th>Mood</th>\n",
              "      <th>Rekomendasi Makanan</th>\n",
              "      <th>Rekomendasi Minuman</th>\n",
              "    </tr>\n",
              "  </thead>\n",
              "  <tbody>\n",
              "    <tr>\n",
              "      <th>0</th>\n",
              "      <td>Laki - Laki</td>\n",
              "      <td>17</td>\n",
              "      <td>NaN</td>\n",
              "      <td>Senang</td>\n",
              "      <td>Nasi goreng</td>\n",
              "      <td>Minuman bersoda</td>\n",
              "    </tr>\n",
              "    <tr>\n",
              "      <th>1</th>\n",
              "      <td>Laki - Laki</td>\n",
              "      <td>17</td>\n",
              "      <td>NaN</td>\n",
              "      <td>Senang</td>\n",
              "      <td>Cokelat</td>\n",
              "      <td>Minuman bersoda</td>\n",
              "    </tr>\n",
              "    <tr>\n",
              "      <th>2</th>\n",
              "      <td>Laki - Laki</td>\n",
              "      <td>17</td>\n",
              "      <td>NaN</td>\n",
              "      <td>Marah</td>\n",
              "      <td>Mie pedas</td>\n",
              "      <td>Air mineral</td>\n",
              "    </tr>\n",
              "    <tr>\n",
              "      <th>3</th>\n",
              "      <td>Laki - Laki</td>\n",
              "      <td>20</td>\n",
              "      <td>NaN</td>\n",
              "      <td>Marah</td>\n",
              "      <td>Seblak</td>\n",
              "      <td>Air mineral</td>\n",
              "    </tr>\n",
              "    <tr>\n",
              "      <th>4</th>\n",
              "      <td>Laki - Laki</td>\n",
              "      <td>25</td>\n",
              "      <td>NaN</td>\n",
              "      <td>Sedih</td>\n",
              "      <td>Sayur-sayuran</td>\n",
              "      <td>Teh</td>\n",
              "    </tr>\n",
              "  </tbody>\n",
              "</table>\n",
              "</div>"
            ],
            "text/plain": [
              "  Jenis Kelamin  Umur Lokasi    Mood Rekomendasi Makanan Rekomendasi Minuman\n",
              "0   Laki - Laki    17    NaN  Senang         Nasi goreng     Minuman bersoda\n",
              "1   Laki - Laki    17    NaN  Senang             Cokelat     Minuman bersoda\n",
              "2   Laki - Laki    17    NaN   Marah           Mie pedas         Air mineral\n",
              "3   Laki - Laki    20    NaN   Marah              Seblak         Air mineral\n",
              "4   Laki - Laki    25    NaN   Sedih       Sayur-sayuran                 Teh"
            ]
          },
          "execution_count": 2,
          "metadata": {},
          "output_type": "execute_result"
        }
      ],
      "source": [
        "data = pd.read_csv(\"model/survey.csv\")\n",
        "data.head()"
      ]
    },
    {
      "cell_type": "code",
      "execution_count": 3,
      "metadata": {
        "colab": {
          "base_uri": "https://localhost:8080/",
          "height": 206
        },
        "id": "FSltkiom9kCS",
        "outputId": "c10d9a65-19b6-41b2-993e-fcc3c6c52b68"
      },
      "outputs": [
        {
          "data": {
            "text/html": [
              "<div>\n",
              "<style scoped>\n",
              "    .dataframe tbody tr th:only-of-type {\n",
              "        vertical-align: middle;\n",
              "    }\n",
              "\n",
              "    .dataframe tbody tr th {\n",
              "        vertical-align: top;\n",
              "    }\n",
              "\n",
              "    .dataframe thead th {\n",
              "        text-align: right;\n",
              "    }\n",
              "</style>\n",
              "<table border=\"1\" class=\"dataframe\">\n",
              "  <thead>\n",
              "    <tr style=\"text-align: right;\">\n",
              "      <th></th>\n",
              "      <th>Jenis Kelamin</th>\n",
              "      <th>Umur</th>\n",
              "      <th>Lokasi</th>\n",
              "      <th>Mood</th>\n",
              "      <th>Rekomendasi Makanan</th>\n",
              "      <th>Rekomendasi Minuman</th>\n",
              "    </tr>\n",
              "  </thead>\n",
              "  <tbody>\n",
              "    <tr>\n",
              "      <th>0</th>\n",
              "      <td>Laki - Laki</td>\n",
              "      <td>17</td>\n",
              "      <td>Tidak Tersedia</td>\n",
              "      <td>Senang</td>\n",
              "      <td>Nasi goreng</td>\n",
              "      <td>Minuman bersoda</td>\n",
              "    </tr>\n",
              "    <tr>\n",
              "      <th>1</th>\n",
              "      <td>Laki - Laki</td>\n",
              "      <td>17</td>\n",
              "      <td>Tidak Tersedia</td>\n",
              "      <td>Senang</td>\n",
              "      <td>Cokelat</td>\n",
              "      <td>Minuman bersoda</td>\n",
              "    </tr>\n",
              "    <tr>\n",
              "      <th>2</th>\n",
              "      <td>Laki - Laki</td>\n",
              "      <td>17</td>\n",
              "      <td>Tidak Tersedia</td>\n",
              "      <td>Marah</td>\n",
              "      <td>Mie pedas</td>\n",
              "      <td>Air mineral</td>\n",
              "    </tr>\n",
              "    <tr>\n",
              "      <th>3</th>\n",
              "      <td>Laki - Laki</td>\n",
              "      <td>20</td>\n",
              "      <td>Tidak Tersedia</td>\n",
              "      <td>Marah</td>\n",
              "      <td>Seblak</td>\n",
              "      <td>Air mineral</td>\n",
              "    </tr>\n",
              "    <tr>\n",
              "      <th>4</th>\n",
              "      <td>Laki - Laki</td>\n",
              "      <td>25</td>\n",
              "      <td>Tidak Tersedia</td>\n",
              "      <td>Sedih</td>\n",
              "      <td>Sayur-sayuran</td>\n",
              "      <td>Teh</td>\n",
              "    </tr>\n",
              "  </tbody>\n",
              "</table>\n",
              "</div>"
            ],
            "text/plain": [
              "  Jenis Kelamin  Umur          Lokasi    Mood Rekomendasi Makanan  \\\n",
              "0   Laki - Laki    17  Tidak Tersedia  Senang         Nasi goreng   \n",
              "1   Laki - Laki    17  Tidak Tersedia  Senang             Cokelat   \n",
              "2   Laki - Laki    17  Tidak Tersedia   Marah           Mie pedas   \n",
              "3   Laki - Laki    20  Tidak Tersedia   Marah              Seblak   \n",
              "4   Laki - Laki    25  Tidak Tersedia   Sedih       Sayur-sayuran   \n",
              "\n",
              "  Rekomendasi Minuman  \n",
              "0     Minuman bersoda  \n",
              "1     Minuman bersoda  \n",
              "2         Air mineral  \n",
              "3         Air mineral  \n",
              "4                 Teh  "
            ]
          },
          "execution_count": 3,
          "metadata": {},
          "output_type": "execute_result"
        }
      ],
      "source": [
        "data['Lokasi'] = data['Lokasi'].fillna(\"Tidak Tersedia\")\n",
        "data.head()"
      ]
    },
    {
      "cell_type": "markdown",
      "metadata": {
        "id": "Szoorwa49kCU"
      },
      "source": [
        "## Encoding "
      ]
    },
    {
      "cell_type": "code",
      "execution_count": 4,
      "metadata": {
        "colab": {
          "base_uri": "https://localhost:8080/"
        },
        "id": "41u8MXgKb-1R",
        "outputId": "79c82290-8533-4dbc-fb62-6e34bcf2d355"
      },
      "outputs": [
        {
          "data": {
            "text/plain": [
              "array([17, 20, 25, 18, 11, 12, 15,  7,  8,  6, 10, 30, 16,  5, 70, 75, 28,\n",
              "       60, 80, 90, 35, 27, 50, 55, 21, 24, 37], dtype=int64)"
            ]
          },
          "execution_count": 4,
          "metadata": {},
          "output_type": "execute_result"
        }
      ],
      "source": [
        "data[\"Umur\"].unique()"
      ]
    },
    {
      "cell_type": "code",
      "execution_count": 5,
      "metadata": {
        "colab": {
          "base_uri": "https://localhost:8080/"
        },
        "id": "K7J7n17N9kCV",
        "outputId": "c397aa89-0723-4e18-a6fc-94bfb925c26c"
      },
      "outputs": [
        {
          "data": {
            "text/plain": [
              "array(['Remaja', 'Dewasa', 'Anak - anak', 'Balita', 'lansia'],\n",
              "      dtype=object)"
            ]
          },
          "execution_count": 5,
          "metadata": {},
          "output_type": "execute_result"
        }
      ],
      "source": [
        "def simplify_age (age):\n",
        "    if age > 0 and age <= 6:\n",
        "        return \"Balita\"\n",
        "    elif age > 6 and age <= 12:\n",
        "        return \"Anak - anak\"\n",
        "    elif age > 12 and age <= 18:\n",
        "        return \"Remaja\"\n",
        "    elif age > 18 and age <= 65:\n",
        "        return \"Dewasa\"\n",
        "    elif age > 65 and age <= 200:\n",
        "        return \"lansia\"\n",
        "    else:\n",
        "        return \"Tidak normal\"\n",
        "\n",
        "data[\"Umur\"] = data[\"Umur\"].apply(simplify_age)\n",
        "data[\"Umur\"].unique()"
      ]
    },
    {
      "cell_type": "code",
      "execution_count": 6,
      "metadata": {
        "id": "PG2OxexC9kCX"
      },
      "outputs": [],
      "source": [
        "sex = data[\"Jenis Kelamin\"]\n",
        "age = data[\"Umur\"]\n",
        "mood = data[\"Mood\"]\n",
        "food = data[\"Rekomendasi Makanan\"]\n",
        "drink = data['Rekomendasi Minuman']"
      ]
    },
    {
      "cell_type": "code",
      "execution_count": 7,
      "metadata": {
        "id": "wE-WGpEs9kCe"
      },
      "outputs": [],
      "source": [
        "data.loc[drink == 'susu', 'Rekomendasi Minuman'] = 'Susu'"
      ]
    },
    {
      "cell_type": "code",
      "execution_count": 8,
      "metadata": {
        "colab": {
          "base_uri": "https://localhost:8080/"
        },
        "id": "8M42da2T9kCZ",
        "outputId": "8176ce51-0ec4-4f6b-d9d4-1d8c42758741"
      },
      "outputs": [
        {
          "data": {
            "text/plain": [
              "Perempuan      55\n",
              "Laki - Laki    44\n",
              "Name: Jenis Kelamin, dtype: int64"
            ]
          },
          "execution_count": 8,
          "metadata": {},
          "output_type": "execute_result"
        }
      ],
      "source": [
        "sex.value_counts()"
      ]
    },
    {
      "cell_type": "code",
      "execution_count": 9,
      "metadata": {
        "colab": {
          "base_uri": "https://localhost:8080/"
        },
        "id": "2Yq-OY3A9kCc",
        "outputId": "b231fbe3-5f32-4664-cd24-4102d0b4b2b1"
      },
      "outputs": [
        {
          "data": {
            "text/plain": [
              "Remaja         49\n",
              "Dewasa         24\n",
              "Anak - anak    16\n",
              "lansia          7\n",
              "Balita          3\n",
              "Name: Umur, dtype: int64"
            ]
          },
          "execution_count": 9,
          "metadata": {},
          "output_type": "execute_result"
        }
      ],
      "source": [
        "age.value_counts()"
      ]
    },
    {
      "cell_type": "code",
      "execution_count": 10,
      "metadata": {
        "colab": {
          "base_uri": "https://localhost:8080/"
        },
        "id": "9BGPCsThLf6O",
        "outputId": "09ca966b-bacb-40bc-eabd-44cd8fea99bd"
      },
      "outputs": [
        {
          "data": {
            "text/plain": [
              "Cokelat            17\n",
              "Nasi goreng        16\n",
              "Seblak             16\n",
              "Mie pedas          14\n",
              "Daging             10\n",
              "Sayur-sayuran       8\n",
              "Ikan-ikanan         6\n",
              "Telur               5\n",
              "Makanan laut        4\n",
              "Kacang-kacangan     3\n",
              "Name: Rekomendasi Makanan, dtype: int64"
            ]
          },
          "execution_count": 10,
          "metadata": {},
          "output_type": "execute_result"
        }
      ],
      "source": [
        "food.value_counts()"
      ]
    },
    {
      "cell_type": "code",
      "execution_count": 11,
      "metadata": {
        "colab": {
          "base_uri": "https://localhost:8080/"
        },
        "id": "XA82oUlnLpv-",
        "outputId": "05a10d24-0728-48ae-89eb-aed8669a7579"
      },
      "outputs": [
        {
          "data": {
            "text/plain": [
              "Air mineral        21\n",
              "Minuman bersoda    18\n",
              "Es krim            18\n",
              "Teh                13\n",
              "Kopi               12\n",
              "Susu                8\n",
              "Air kelapa          5\n",
              "Jus                 4\n",
              "Name: Rekomendasi Minuman, dtype: int64"
            ]
          },
          "execution_count": 11,
          "metadata": {},
          "output_type": "execute_result"
        }
      ],
      "source": [
        "drink.value_counts()"
      ]
    },
    {
      "cell_type": "code",
      "execution_count": 12,
      "metadata": {
        "colab": {
          "base_uri": "https://localhost:8080/",
          "height": 175
        },
        "id": "FX9LI3He9kCf",
        "outputId": "32324512-e964-4345-9dd5-6562c876b0a8"
      },
      "outputs": [
        {
          "data": {
            "text/html": [
              "<div>\n",
              "<style scoped>\n",
              "    .dataframe tbody tr th:only-of-type {\n",
              "        vertical-align: middle;\n",
              "    }\n",
              "\n",
              "    .dataframe tbody tr th {\n",
              "        vertical-align: top;\n",
              "    }\n",
              "\n",
              "    .dataframe thead th {\n",
              "        text-align: right;\n",
              "    }\n",
              "</style>\n",
              "<table border=\"1\" class=\"dataframe\">\n",
              "  <thead>\n",
              "    <tr style=\"text-align: right;\">\n",
              "      <th></th>\n",
              "      <th>Jenis Kelamin</th>\n",
              "      <th>Umur</th>\n",
              "      <th>Lokasi</th>\n",
              "      <th>Mood</th>\n",
              "      <th>Rekomendasi Makanan</th>\n",
              "      <th>Rekomendasi Minuman</th>\n",
              "    </tr>\n",
              "  </thead>\n",
              "  <tbody>\n",
              "    <tr>\n",
              "      <th>count</th>\n",
              "      <td>99</td>\n",
              "      <td>99</td>\n",
              "      <td>99</td>\n",
              "      <td>99</td>\n",
              "      <td>99</td>\n",
              "      <td>99</td>\n",
              "    </tr>\n",
              "    <tr>\n",
              "      <th>unique</th>\n",
              "      <td>2</td>\n",
              "      <td>5</td>\n",
              "      <td>36</td>\n",
              "      <td>3</td>\n",
              "      <td>10</td>\n",
              "      <td>8</td>\n",
              "    </tr>\n",
              "    <tr>\n",
              "      <th>top</th>\n",
              "      <td>Perempuan</td>\n",
              "      <td>Remaja</td>\n",
              "      <td>Amogus</td>\n",
              "      <td>Senang</td>\n",
              "      <td>Cokelat</td>\n",
              "      <td>Air mineral</td>\n",
              "    </tr>\n",
              "    <tr>\n",
              "      <th>freq</th>\n",
              "      <td>55</td>\n",
              "      <td>49</td>\n",
              "      <td>29</td>\n",
              "      <td>52</td>\n",
              "      <td>17</td>\n",
              "      <td>21</td>\n",
              "    </tr>\n",
              "  </tbody>\n",
              "</table>\n",
              "</div>"
            ],
            "text/plain": [
              "       Jenis Kelamin    Umur  Lokasi    Mood Rekomendasi Makanan  \\\n",
              "count             99      99      99      99                  99   \n",
              "unique             2       5      36       3                  10   \n",
              "top        Perempuan  Remaja  Amogus  Senang             Cokelat   \n",
              "freq              55      49      29      52                  17   \n",
              "\n",
              "       Rekomendasi Minuman  \n",
              "count                   99  \n",
              "unique                   8  \n",
              "top            Air mineral  \n",
              "freq                    21  "
            ]
          },
          "execution_count": 12,
          "metadata": {},
          "output_type": "execute_result"
        }
      ],
      "source": [
        "data.head()\n",
        "data.describe()"
      ]
    },
    {
      "cell_type": "code",
      "execution_count": 13,
      "metadata": {
        "id": "Evm-Q5Eh9kCg"
      },
      "outputs": [],
      "source": [
        "from sklearn.preprocessing import LabelEncoder, OneHotEncoder, OrdinalEncoder\n",
        "ohS = OneHotEncoder()\n",
        "ohM = OneHotEncoder()\n",
        "ohF = OneHotEncoder()\n",
        "ohD = OneHotEncoder()\n",
        "leA = OrdinalEncoder()\n",
        "leF = LabelEncoder()\n",
        "leD = LabelEncoder()"
      ]
    },
    {
      "cell_type": "markdown",
      "metadata": {
        "id": "0FwoEhIbHXLX"
      },
      "source": [
        "## CHANGE DATATYPE TO CATEGORY"
      ]
    },
    {
      "cell_type": "code",
      "execution_count": 14,
      "metadata": {
        "id": "KMkFBnRgHWt2"
      },
      "outputs": [],
      "source": [
        "data[[\"Jenis Kelamin\", \"Umur\", \"Mood\", \"Rekomendasi Makanan\", \"Rekomendasi Minuman\"]] = data[[\"Jenis Kelamin\", \"Umur\", \"Mood\", \"Rekomendasi Makanan\", \"Rekomendasi Minuman\"]].astype('category')"
      ]
    },
    {
      "cell_type": "code",
      "execution_count": 15,
      "metadata": {
        "colab": {
          "base_uri": "https://localhost:8080/"
        },
        "id": "vWnyT8f3J5ms",
        "outputId": "067b2ae8-a529-443e-e998-d71671f757bf"
      },
      "outputs": [
        {
          "name": "stdout",
          "output_type": "stream",
          "text": [
            "Jenis Kelamin:  ['Laki - Laki' 'Perempuan']\n",
            "Umur:  ['Remaja' 'Dewasa' 'Anak - anak' 'Balita' 'lansia']\n",
            "Mood:  ['Senang' 'Marah' 'Sedih']\n",
            "Makanan:  ['Nasi goreng' 'Cokelat' 'Mie pedas' 'Seblak' 'Sayur-sayuran' 'Daging'\n",
            " 'Kacang-kacangan' 'Telur' 'Makanan laut' 'Ikan-ikanan']\n",
            "Minuman:  ['Minuman bersoda' 'Air mineral' 'Teh' 'Es krim' 'Kopi' 'Air kelapa'\n",
            " 'Susu' 'Jus']\n"
          ]
        }
      ],
      "source": [
        "print(f\"Jenis Kelamin: \", sex.unique())\n",
        "print(f\"Umur: \", age.unique())\n",
        "print(f\"Mood: \", mood.unique())\n",
        "print(f\"Makanan: \", food.unique())\n",
        "print(f\"Minuman: \", drink.unique())"
      ]
    },
    {
      "cell_type": "code",
      "execution_count": 16,
      "metadata": {
        "id": "qWRGgrzX9kCg"
      },
      "outputs": [],
      "source": [
        "data[\"sex_LE\"] = data[\"Jenis Kelamin\"]\n",
        "data[\"age_LE\"] = leA.set_params(categories=[['Balita', 'Anak - anak', 'Remaja', 'Dewasa', 'lansia']]).fit_transform(data[[\"Umur\"]])\n",
        "data[\"mood_LE\"] = data[\"Mood\"]\n",
        "data[\"food_LE\"] = leF.fit_transform(data[\"Rekomendasi Makanan\"])\n",
        "data[\"drink_LE\"] = leD.fit_transform(data[\"Rekomendasi Minuman\"])"
      ]
    },
    {
      "cell_type": "code",
      "execution_count": 17,
      "metadata": {
        "colab": {
          "base_uri": "https://localhost:8080/",
          "height": 354
        },
        "id": "hSQWJlRw9kCh",
        "outputId": "b5a00fc2-add6-4e4a-e657-190eb662c85e"
      },
      "outputs": [
        {
          "data": {
            "text/html": [
              "<div>\n",
              "<style scoped>\n",
              "    .dataframe tbody tr th:only-of-type {\n",
              "        vertical-align: middle;\n",
              "    }\n",
              "\n",
              "    .dataframe tbody tr th {\n",
              "        vertical-align: top;\n",
              "    }\n",
              "\n",
              "    .dataframe thead th {\n",
              "        text-align: right;\n",
              "    }\n",
              "</style>\n",
              "<table border=\"1\" class=\"dataframe\">\n",
              "  <thead>\n",
              "    <tr style=\"text-align: right;\">\n",
              "      <th></th>\n",
              "      <th>Jenis Kelamin</th>\n",
              "      <th>Umur</th>\n",
              "      <th>Lokasi</th>\n",
              "      <th>Mood</th>\n",
              "      <th>Rekomendasi Makanan</th>\n",
              "      <th>Rekomendasi Minuman</th>\n",
              "      <th>sex_LE</th>\n",
              "      <th>age_LE</th>\n",
              "      <th>mood_LE</th>\n",
              "      <th>food_LE</th>\n",
              "      <th>drink_LE</th>\n",
              "    </tr>\n",
              "  </thead>\n",
              "  <tbody>\n",
              "    <tr>\n",
              "      <th>0</th>\n",
              "      <td>Laki - Laki</td>\n",
              "      <td>Remaja</td>\n",
              "      <td>Tidak Tersedia</td>\n",
              "      <td>Senang</td>\n",
              "      <td>Nasi goreng</td>\n",
              "      <td>Minuman bersoda</td>\n",
              "      <td>Laki - Laki</td>\n",
              "      <td>2.0</td>\n",
              "      <td>Senang</td>\n",
              "      <td>6</td>\n",
              "      <td>5</td>\n",
              "    </tr>\n",
              "    <tr>\n",
              "      <th>1</th>\n",
              "      <td>Laki - Laki</td>\n",
              "      <td>Remaja</td>\n",
              "      <td>Tidak Tersedia</td>\n",
              "      <td>Senang</td>\n",
              "      <td>Cokelat</td>\n",
              "      <td>Minuman bersoda</td>\n",
              "      <td>Laki - Laki</td>\n",
              "      <td>2.0</td>\n",
              "      <td>Senang</td>\n",
              "      <td>0</td>\n",
              "      <td>5</td>\n",
              "    </tr>\n",
              "    <tr>\n",
              "      <th>2</th>\n",
              "      <td>Laki - Laki</td>\n",
              "      <td>Remaja</td>\n",
              "      <td>Tidak Tersedia</td>\n",
              "      <td>Marah</td>\n",
              "      <td>Mie pedas</td>\n",
              "      <td>Air mineral</td>\n",
              "      <td>Laki - Laki</td>\n",
              "      <td>2.0</td>\n",
              "      <td>Marah</td>\n",
              "      <td>5</td>\n",
              "      <td>1</td>\n",
              "    </tr>\n",
              "    <tr>\n",
              "      <th>3</th>\n",
              "      <td>Laki - Laki</td>\n",
              "      <td>Dewasa</td>\n",
              "      <td>Tidak Tersedia</td>\n",
              "      <td>Marah</td>\n",
              "      <td>Seblak</td>\n",
              "      <td>Air mineral</td>\n",
              "      <td>Laki - Laki</td>\n",
              "      <td>3.0</td>\n",
              "      <td>Marah</td>\n",
              "      <td>8</td>\n",
              "      <td>1</td>\n",
              "    </tr>\n",
              "    <tr>\n",
              "      <th>4</th>\n",
              "      <td>Laki - Laki</td>\n",
              "      <td>Dewasa</td>\n",
              "      <td>Tidak Tersedia</td>\n",
              "      <td>Sedih</td>\n",
              "      <td>Sayur-sayuran</td>\n",
              "      <td>Teh</td>\n",
              "      <td>Laki - Laki</td>\n",
              "      <td>3.0</td>\n",
              "      <td>Sedih</td>\n",
              "      <td>7</td>\n",
              "      <td>7</td>\n",
              "    </tr>\n",
              "  </tbody>\n",
              "</table>\n",
              "</div>"
            ],
            "text/plain": [
              "  Jenis Kelamin    Umur          Lokasi    Mood Rekomendasi Makanan  \\\n",
              "0   Laki - Laki  Remaja  Tidak Tersedia  Senang         Nasi goreng   \n",
              "1   Laki - Laki  Remaja  Tidak Tersedia  Senang             Cokelat   \n",
              "2   Laki - Laki  Remaja  Tidak Tersedia   Marah           Mie pedas   \n",
              "3   Laki - Laki  Dewasa  Tidak Tersedia   Marah              Seblak   \n",
              "4   Laki - Laki  Dewasa  Tidak Tersedia   Sedih       Sayur-sayuran   \n",
              "\n",
              "  Rekomendasi Minuman       sex_LE  age_LE mood_LE  food_LE  drink_LE  \n",
              "0     Minuman bersoda  Laki - Laki     2.0  Senang        6         5  \n",
              "1     Minuman bersoda  Laki - Laki     2.0  Senang        0         5  \n",
              "2         Air mineral  Laki - Laki     2.0   Marah        5         1  \n",
              "3         Air mineral  Laki - Laki     3.0   Marah        8         1  \n",
              "4                 Teh  Laki - Laki     3.0   Sedih        7         7  "
            ]
          },
          "execution_count": 17,
          "metadata": {},
          "output_type": "execute_result"
        }
      ],
      "source": [
        "data.head()"
      ]
    },
    {
      "cell_type": "markdown",
      "metadata": {
        "id": "JBvjzGBG9kCk"
      },
      "source": [
        "# MACHINE LEARNING START HERE"
      ]
    },
    {
      "cell_type": "code",
      "execution_count": null,
      "metadata": {
        "colab": {
          "base_uri": "https://localhost:8080/",
          "height": 354
        },
        "id": "3gOklGp09kCl",
        "outputId": "b3ded758-cf89-464b-dfd1-26dff04b5036"
      },
      "outputs": [
        {
          "data": {
            "text/html": [
              "\n",
              "  <div id=\"df-444a23a7-2382-4c05-a48a-05e672d1729f\">\n",
              "    <div class=\"colab-df-container\">\n",
              "      <div>\n",
              "<style scoped>\n",
              "    .dataframe tbody tr th:only-of-type {\n",
              "        vertical-align: middle;\n",
              "    }\n",
              "\n",
              "    .dataframe tbody tr th {\n",
              "        vertical-align: top;\n",
              "    }\n",
              "\n",
              "    .dataframe thead th {\n",
              "        text-align: right;\n",
              "    }\n",
              "</style>\n",
              "<table border=\"1\" class=\"dataframe\">\n",
              "  <thead>\n",
              "    <tr style=\"text-align: right;\">\n",
              "      <th></th>\n",
              "      <th>Jenis Kelamin</th>\n",
              "      <th>Umur</th>\n",
              "      <th>Lokasi</th>\n",
              "      <th>Mood</th>\n",
              "      <th>Rekomendasi Makanan</th>\n",
              "      <th>Rekomendasi Minuman</th>\n",
              "      <th>sex_LE</th>\n",
              "      <th>age_LE</th>\n",
              "      <th>mood_LE</th>\n",
              "      <th>food_LE</th>\n",
              "      <th>drink_LE</th>\n",
              "    </tr>\n",
              "  </thead>\n",
              "  <tbody>\n",
              "    <tr>\n",
              "      <th>0</th>\n",
              "      <td>Laki - Laki</td>\n",
              "      <td>Remaja</td>\n",
              "      <td>Tidak Tersedia</td>\n",
              "      <td>Senang</td>\n",
              "      <td>Nasi goreng</td>\n",
              "      <td>Minuman bersoda</td>\n",
              "      <td>Laki - Laki</td>\n",
              "      <td>2.0</td>\n",
              "      <td>Senang</td>\n",
              "      <td>6</td>\n",
              "      <td>5</td>\n",
              "    </tr>\n",
              "    <tr>\n",
              "      <th>1</th>\n",
              "      <td>Laki - Laki</td>\n",
              "      <td>Remaja</td>\n",
              "      <td>Tidak Tersedia</td>\n",
              "      <td>Senang</td>\n",
              "      <td>Cokelat</td>\n",
              "      <td>Minuman bersoda</td>\n",
              "      <td>Laki - Laki</td>\n",
              "      <td>2.0</td>\n",
              "      <td>Senang</td>\n",
              "      <td>0</td>\n",
              "      <td>5</td>\n",
              "    </tr>\n",
              "    <tr>\n",
              "      <th>2</th>\n",
              "      <td>Laki - Laki</td>\n",
              "      <td>Remaja</td>\n",
              "      <td>Tidak Tersedia</td>\n",
              "      <td>Marah</td>\n",
              "      <td>Mie pedas</td>\n",
              "      <td>Air mineral</td>\n",
              "      <td>Laki - Laki</td>\n",
              "      <td>2.0</td>\n",
              "      <td>Marah</td>\n",
              "      <td>5</td>\n",
              "      <td>1</td>\n",
              "    </tr>\n",
              "    <tr>\n",
              "      <th>3</th>\n",
              "      <td>Laki - Laki</td>\n",
              "      <td>Dewasa</td>\n",
              "      <td>Tidak Tersedia</td>\n",
              "      <td>Marah</td>\n",
              "      <td>Seblak</td>\n",
              "      <td>Air mineral</td>\n",
              "      <td>Laki - Laki</td>\n",
              "      <td>3.0</td>\n",
              "      <td>Marah</td>\n",
              "      <td>8</td>\n",
              "      <td>1</td>\n",
              "    </tr>\n",
              "    <tr>\n",
              "      <th>4</th>\n",
              "      <td>Laki - Laki</td>\n",
              "      <td>Dewasa</td>\n",
              "      <td>Tidak Tersedia</td>\n",
              "      <td>Sedih</td>\n",
              "      <td>Sayur-sayuran</td>\n",
              "      <td>Teh</td>\n",
              "      <td>Laki - Laki</td>\n",
              "      <td>3.0</td>\n",
              "      <td>Sedih</td>\n",
              "      <td>7</td>\n",
              "      <td>7</td>\n",
              "    </tr>\n",
              "  </tbody>\n",
              "</table>\n",
              "</div>\n",
              "      <button class=\"colab-df-convert\" onclick=\"convertToInteractive('df-444a23a7-2382-4c05-a48a-05e672d1729f')\"\n",
              "              title=\"Convert this dataframe to an interactive table.\"\n",
              "              style=\"display:none;\">\n",
              "        \n",
              "  <svg xmlns=\"http://www.w3.org/2000/svg\" height=\"24px\"viewBox=\"0 0 24 24\"\n",
              "       width=\"24px\">\n",
              "    <path d=\"M0 0h24v24H0V0z\" fill=\"none\"/>\n",
              "    <path d=\"M18.56 5.44l.94 2.06.94-2.06 2.06-.94-2.06-.94-.94-2.06-.94 2.06-2.06.94zm-11 1L8.5 8.5l.94-2.06 2.06-.94-2.06-.94L8.5 2.5l-.94 2.06-2.06.94zm10 10l.94 2.06.94-2.06 2.06-.94-2.06-.94-.94-2.06-.94 2.06-2.06.94z\"/><path d=\"M17.41 7.96l-1.37-1.37c-.4-.4-.92-.59-1.43-.59-.52 0-1.04.2-1.43.59L10.3 9.45l-7.72 7.72c-.78.78-.78 2.05 0 2.83L4 21.41c.39.39.9.59 1.41.59.51 0 1.02-.2 1.41-.59l7.78-7.78 2.81-2.81c.8-.78.8-2.07 0-2.86zM5.41 20L4 18.59l7.72-7.72 1.47 1.35L5.41 20z\"/>\n",
              "  </svg>\n",
              "      </button>\n",
              "      \n",
              "  <style>\n",
              "    .colab-df-container {\n",
              "      display:flex;\n",
              "      flex-wrap:wrap;\n",
              "      gap: 12px;\n",
              "    }\n",
              "\n",
              "    .colab-df-convert {\n",
              "      background-color: #E8F0FE;\n",
              "      border: none;\n",
              "      border-radius: 50%;\n",
              "      cursor: pointer;\n",
              "      display: none;\n",
              "      fill: #1967D2;\n",
              "      height: 32px;\n",
              "      padding: 0 0 0 0;\n",
              "      width: 32px;\n",
              "    }\n",
              "\n",
              "    .colab-df-convert:hover {\n",
              "      background-color: #E2EBFA;\n",
              "      box-shadow: 0px 1px 2px rgba(60, 64, 67, 0.3), 0px 1px 3px 1px rgba(60, 64, 67, 0.15);\n",
              "      fill: #174EA6;\n",
              "    }\n",
              "\n",
              "    [theme=dark] .colab-df-convert {\n",
              "      background-color: #3B4455;\n",
              "      fill: #D2E3FC;\n",
              "    }\n",
              "\n",
              "    [theme=dark] .colab-df-convert:hover {\n",
              "      background-color: #434B5C;\n",
              "      box-shadow: 0px 1px 3px 1px rgba(0, 0, 0, 0.15);\n",
              "      filter: drop-shadow(0px 1px 2px rgba(0, 0, 0, 0.3));\n",
              "      fill: #FFFFFF;\n",
              "    }\n",
              "  </style>\n",
              "\n",
              "      <script>\n",
              "        const buttonEl =\n",
              "          document.querySelector('#df-444a23a7-2382-4c05-a48a-05e672d1729f button.colab-df-convert');\n",
              "        buttonEl.style.display =\n",
              "          google.colab.kernel.accessAllowed ? 'block' : 'none';\n",
              "\n",
              "        async function convertToInteractive(key) {\n",
              "          const element = document.querySelector('#df-444a23a7-2382-4c05-a48a-05e672d1729f');\n",
              "          const dataTable =\n",
              "            await google.colab.kernel.invokeFunction('convertToInteractive',\n",
              "                                                     [key], {});\n",
              "          if (!dataTable) return;\n",
              "\n",
              "          const docLinkHtml = 'Like what you see? Visit the ' +\n",
              "            '<a target=\"_blank\" href=https://colab.research.google.com/notebooks/data_table.ipynb>data table notebook</a>'\n",
              "            + ' to learn more about interactive tables.';\n",
              "          element.innerHTML = '';\n",
              "          dataTable['output_type'] = 'display_data';\n",
              "          await google.colab.output.renderOutput(dataTable, element);\n",
              "          const docLink = document.createElement('div');\n",
              "          docLink.innerHTML = docLinkHtml;\n",
              "          element.appendChild(docLink);\n",
              "        }\n",
              "      </script>\n",
              "    </div>\n",
              "  </div>\n",
              "  "
            ],
            "text/plain": [
              "  Jenis Kelamin    Umur          Lokasi    Mood Rekomendasi Makanan  \\\n",
              "0   Laki - Laki  Remaja  Tidak Tersedia  Senang         Nasi goreng   \n",
              "1   Laki - Laki  Remaja  Tidak Tersedia  Senang             Cokelat   \n",
              "2   Laki - Laki  Remaja  Tidak Tersedia   Marah           Mie pedas   \n",
              "3   Laki - Laki  Dewasa  Tidak Tersedia   Marah              Seblak   \n",
              "4   Laki - Laki  Dewasa  Tidak Tersedia   Sedih       Sayur-sayuran   \n",
              "\n",
              "  Rekomendasi Minuman       sex_LE  age_LE mood_LE  food_LE  drink_LE  \n",
              "0     Minuman bersoda  Laki - Laki     2.0  Senang        6         5  \n",
              "1     Minuman bersoda  Laki - Laki     2.0  Senang        0         5  \n",
              "2         Air mineral  Laki - Laki     2.0   Marah        5         1  \n",
              "3         Air mineral  Laki - Laki     3.0   Marah        8         1  \n",
              "4                 Teh  Laki - Laki     3.0   Sedih        7         7  "
            ]
          },
          "execution_count": 21,
          "metadata": {},
          "output_type": "execute_result"
        }
      ],
      "source": [
        "data.head()"
      ]
    },
    {
      "cell_type": "code",
      "execution_count": 18,
      "metadata": {
        "id": "7ppHDAuSeIrR"
      },
      "outputs": [],
      "source": [
        "from sklearn.model_selection import train_test_split"
      ]
    },
    {
      "cell_type": "markdown",
      "metadata": {
        "id": "EIVUPDaYycgi"
      },
      "source": [
        "Put data into variable and make new dataframe"
      ]
    },
    {
      "cell_type": "code",
      "execution_count": 19,
      "metadata": {
        "id": "aA_HBeuP-VP_"
      },
      "outputs": [],
      "source": [
        "sX = data[\"sex_LE\"].values\n",
        "mX = data[\"mood_LE\"].values\n",
        "aX = data[\"age_LE\"].values"
      ]
    },
    {
      "cell_type": "code",
      "execution_count": 20,
      "metadata": {
        "id": "WGLHXa_mhsAP"
      },
      "outputs": [],
      "source": [
        "d_ohe ={\"sex\": sX, \"mood\": mX, \"age\": aX}"
      ]
    },
    {
      "cell_type": "code",
      "execution_count": 21,
      "metadata": {
        "id": "VKM6GKinhZYD"
      },
      "outputs": [],
      "source": [
        "data_ohe = pd.DataFrame(d_ohe)"
      ]
    },
    {
      "cell_type": "code",
      "execution_count": 22,
      "metadata": {
        "colab": {
          "base_uri": "https://localhost:8080/",
          "height": 206
        },
        "id": "LqCgji25hn97",
        "outputId": "b4f7edef-c307-484c-a601-8bfd964e860b"
      },
      "outputs": [
        {
          "data": {
            "text/html": [
              "<div>\n",
              "<style scoped>\n",
              "    .dataframe tbody tr th:only-of-type {\n",
              "        vertical-align: middle;\n",
              "    }\n",
              "\n",
              "    .dataframe tbody tr th {\n",
              "        vertical-align: top;\n",
              "    }\n",
              "\n",
              "    .dataframe thead th {\n",
              "        text-align: right;\n",
              "    }\n",
              "</style>\n",
              "<table border=\"1\" class=\"dataframe\">\n",
              "  <thead>\n",
              "    <tr style=\"text-align: right;\">\n",
              "      <th></th>\n",
              "      <th>sex</th>\n",
              "      <th>mood</th>\n",
              "      <th>age</th>\n",
              "    </tr>\n",
              "  </thead>\n",
              "  <tbody>\n",
              "    <tr>\n",
              "      <th>0</th>\n",
              "      <td>Laki - Laki</td>\n",
              "      <td>Senang</td>\n",
              "      <td>2.0</td>\n",
              "    </tr>\n",
              "    <tr>\n",
              "      <th>1</th>\n",
              "      <td>Laki - Laki</td>\n",
              "      <td>Senang</td>\n",
              "      <td>2.0</td>\n",
              "    </tr>\n",
              "    <tr>\n",
              "      <th>2</th>\n",
              "      <td>Laki - Laki</td>\n",
              "      <td>Marah</td>\n",
              "      <td>2.0</td>\n",
              "    </tr>\n",
              "    <tr>\n",
              "      <th>3</th>\n",
              "      <td>Laki - Laki</td>\n",
              "      <td>Marah</td>\n",
              "      <td>3.0</td>\n",
              "    </tr>\n",
              "    <tr>\n",
              "      <th>4</th>\n",
              "      <td>Laki - Laki</td>\n",
              "      <td>Sedih</td>\n",
              "      <td>3.0</td>\n",
              "    </tr>\n",
              "  </tbody>\n",
              "</table>\n",
              "</div>"
            ],
            "text/plain": [
              "           sex    mood  age\n",
              "0  Laki - Laki  Senang  2.0\n",
              "1  Laki - Laki  Senang  2.0\n",
              "2  Laki - Laki   Marah  2.0\n",
              "3  Laki - Laki   Marah  3.0\n",
              "4  Laki - Laki   Sedih  3.0"
            ]
          },
          "execution_count": 22,
          "metadata": {},
          "output_type": "execute_result"
        }
      ],
      "source": [
        "data_ohe.head()"
      ]
    },
    {
      "cell_type": "code",
      "execution_count": 23,
      "metadata": {
        "id": "p-RdGDb1iCOu"
      },
      "outputs": [],
      "source": [
        "fY = data[\"food_LE\"].values\n",
        "dZ = data[\"drink_LE\"].values"
      ]
    },
    {
      "cell_type": "code",
      "execution_count": 24,
      "metadata": {
        "id": "0y8oQ1JoiKpI"
      },
      "outputs": [],
      "source": [
        "y_d_ohe = {\"food\": fY}\n",
        "z_d_ohe = {\"drink\": dZ}"
      ]
    },
    {
      "cell_type": "code",
      "execution_count": 25,
      "metadata": {
        "id": "FtYFxn2ZiWv3"
      },
      "outputs": [],
      "source": [
        "data_y_ohe = pd.DataFrame(y_d_ohe)\n",
        "data_z_ohe = pd.DataFrame(z_d_ohe)"
      ]
    },
    {
      "cell_type": "code",
      "execution_count": null,
      "metadata": {
        "colab": {
          "base_uri": "https://localhost:8080/",
          "height": 206
        },
        "id": "hTclGg8YjjU3",
        "outputId": "6aecc659-7a77-4364-8fbe-294738bf86af"
      },
      "outputs": [
        {
          "data": {
            "text/html": [
              "\n",
              "  <div id=\"df-3ea9b853-5f5e-4a75-ba7d-16f9e8fb2486\">\n",
              "    <div class=\"colab-df-container\">\n",
              "      <div>\n",
              "<style scoped>\n",
              "    .dataframe tbody tr th:only-of-type {\n",
              "        vertical-align: middle;\n",
              "    }\n",
              "\n",
              "    .dataframe tbody tr th {\n",
              "        vertical-align: top;\n",
              "    }\n",
              "\n",
              "    .dataframe thead th {\n",
              "        text-align: right;\n",
              "    }\n",
              "</style>\n",
              "<table border=\"1\" class=\"dataframe\">\n",
              "  <thead>\n",
              "    <tr style=\"text-align: right;\">\n",
              "      <th></th>\n",
              "      <th>food</th>\n",
              "    </tr>\n",
              "  </thead>\n",
              "  <tbody>\n",
              "    <tr>\n",
              "      <th>0</th>\n",
              "      <td>6</td>\n",
              "    </tr>\n",
              "    <tr>\n",
              "      <th>1</th>\n",
              "      <td>0</td>\n",
              "    </tr>\n",
              "    <tr>\n",
              "      <th>2</th>\n",
              "      <td>5</td>\n",
              "    </tr>\n",
              "    <tr>\n",
              "      <th>3</th>\n",
              "      <td>8</td>\n",
              "    </tr>\n",
              "    <tr>\n",
              "      <th>4</th>\n",
              "      <td>7</td>\n",
              "    </tr>\n",
              "  </tbody>\n",
              "</table>\n",
              "</div>\n",
              "      <button class=\"colab-df-convert\" onclick=\"convertToInteractive('df-3ea9b853-5f5e-4a75-ba7d-16f9e8fb2486')\"\n",
              "              title=\"Convert this dataframe to an interactive table.\"\n",
              "              style=\"display:none;\">\n",
              "        \n",
              "  <svg xmlns=\"http://www.w3.org/2000/svg\" height=\"24px\"viewBox=\"0 0 24 24\"\n",
              "       width=\"24px\">\n",
              "    <path d=\"M0 0h24v24H0V0z\" fill=\"none\"/>\n",
              "    <path d=\"M18.56 5.44l.94 2.06.94-2.06 2.06-.94-2.06-.94-.94-2.06-.94 2.06-2.06.94zm-11 1L8.5 8.5l.94-2.06 2.06-.94-2.06-.94L8.5 2.5l-.94 2.06-2.06.94zm10 10l.94 2.06.94-2.06 2.06-.94-2.06-.94-.94-2.06-.94 2.06-2.06.94z\"/><path d=\"M17.41 7.96l-1.37-1.37c-.4-.4-.92-.59-1.43-.59-.52 0-1.04.2-1.43.59L10.3 9.45l-7.72 7.72c-.78.78-.78 2.05 0 2.83L4 21.41c.39.39.9.59 1.41.59.51 0 1.02-.2 1.41-.59l7.78-7.78 2.81-2.81c.8-.78.8-2.07 0-2.86zM5.41 20L4 18.59l7.72-7.72 1.47 1.35L5.41 20z\"/>\n",
              "  </svg>\n",
              "      </button>\n",
              "      \n",
              "  <style>\n",
              "    .colab-df-container {\n",
              "      display:flex;\n",
              "      flex-wrap:wrap;\n",
              "      gap: 12px;\n",
              "    }\n",
              "\n",
              "    .colab-df-convert {\n",
              "      background-color: #E8F0FE;\n",
              "      border: none;\n",
              "      border-radius: 50%;\n",
              "      cursor: pointer;\n",
              "      display: none;\n",
              "      fill: #1967D2;\n",
              "      height: 32px;\n",
              "      padding: 0 0 0 0;\n",
              "      width: 32px;\n",
              "    }\n",
              "\n",
              "    .colab-df-convert:hover {\n",
              "      background-color: #E2EBFA;\n",
              "      box-shadow: 0px 1px 2px rgba(60, 64, 67, 0.3), 0px 1px 3px 1px rgba(60, 64, 67, 0.15);\n",
              "      fill: #174EA6;\n",
              "    }\n",
              "\n",
              "    [theme=dark] .colab-df-convert {\n",
              "      background-color: #3B4455;\n",
              "      fill: #D2E3FC;\n",
              "    }\n",
              "\n",
              "    [theme=dark] .colab-df-convert:hover {\n",
              "      background-color: #434B5C;\n",
              "      box-shadow: 0px 1px 3px 1px rgba(0, 0, 0, 0.15);\n",
              "      filter: drop-shadow(0px 1px 2px rgba(0, 0, 0, 0.3));\n",
              "      fill: #FFFFFF;\n",
              "    }\n",
              "  </style>\n",
              "\n",
              "      <script>\n",
              "        const buttonEl =\n",
              "          document.querySelector('#df-3ea9b853-5f5e-4a75-ba7d-16f9e8fb2486 button.colab-df-convert');\n",
              "        buttonEl.style.display =\n",
              "          google.colab.kernel.accessAllowed ? 'block' : 'none';\n",
              "\n",
              "        async function convertToInteractive(key) {\n",
              "          const element = document.querySelector('#df-3ea9b853-5f5e-4a75-ba7d-16f9e8fb2486');\n",
              "          const dataTable =\n",
              "            await google.colab.kernel.invokeFunction('convertToInteractive',\n",
              "                                                     [key], {});\n",
              "          if (!dataTable) return;\n",
              "\n",
              "          const docLinkHtml = 'Like what you see? Visit the ' +\n",
              "            '<a target=\"_blank\" href=https://colab.research.google.com/notebooks/data_table.ipynb>data table notebook</a>'\n",
              "            + ' to learn more about interactive tables.';\n",
              "          element.innerHTML = '';\n",
              "          dataTable['output_type'] = 'display_data';\n",
              "          await google.colab.output.renderOutput(dataTable, element);\n",
              "          const docLink = document.createElement('div');\n",
              "          docLink.innerHTML = docLinkHtml;\n",
              "          element.appendChild(docLink);\n",
              "        }\n",
              "      </script>\n",
              "    </div>\n",
              "  </div>\n",
              "  "
            ],
            "text/plain": [
              "   food\n",
              "0     6\n",
              "1     0\n",
              "2     5\n",
              "3     8\n",
              "4     7"
            ]
          },
          "execution_count": 26,
          "metadata": {},
          "output_type": "execute_result"
        }
      ],
      "source": [
        "data_y_ohe.head()"
      ]
    },
    {
      "cell_type": "code",
      "execution_count": null,
      "metadata": {
        "colab": {
          "base_uri": "https://localhost:8080/",
          "height": 206
        },
        "id": "wOTka3NWifmS",
        "outputId": "8470311d-a714-454d-9f89-592a6a833c91"
      },
      "outputs": [
        {
          "data": {
            "text/html": [
              "\n",
              "  <div id=\"df-f6c00ef9-3a71-423b-b604-09be4c1d83e9\">\n",
              "    <div class=\"colab-df-container\">\n",
              "      <div>\n",
              "<style scoped>\n",
              "    .dataframe tbody tr th:only-of-type {\n",
              "        vertical-align: middle;\n",
              "    }\n",
              "\n",
              "    .dataframe tbody tr th {\n",
              "        vertical-align: top;\n",
              "    }\n",
              "\n",
              "    .dataframe thead th {\n",
              "        text-align: right;\n",
              "    }\n",
              "</style>\n",
              "<table border=\"1\" class=\"dataframe\">\n",
              "  <thead>\n",
              "    <tr style=\"text-align: right;\">\n",
              "      <th></th>\n",
              "      <th>drink</th>\n",
              "    </tr>\n",
              "  </thead>\n",
              "  <tbody>\n",
              "    <tr>\n",
              "      <th>0</th>\n",
              "      <td>5</td>\n",
              "    </tr>\n",
              "    <tr>\n",
              "      <th>1</th>\n",
              "      <td>5</td>\n",
              "    </tr>\n",
              "    <tr>\n",
              "      <th>2</th>\n",
              "      <td>1</td>\n",
              "    </tr>\n",
              "    <tr>\n",
              "      <th>3</th>\n",
              "      <td>1</td>\n",
              "    </tr>\n",
              "    <tr>\n",
              "      <th>4</th>\n",
              "      <td>7</td>\n",
              "    </tr>\n",
              "  </tbody>\n",
              "</table>\n",
              "</div>\n",
              "      <button class=\"colab-df-convert\" onclick=\"convertToInteractive('df-f6c00ef9-3a71-423b-b604-09be4c1d83e9')\"\n",
              "              title=\"Convert this dataframe to an interactive table.\"\n",
              "              style=\"display:none;\">\n",
              "        \n",
              "  <svg xmlns=\"http://www.w3.org/2000/svg\" height=\"24px\"viewBox=\"0 0 24 24\"\n",
              "       width=\"24px\">\n",
              "    <path d=\"M0 0h24v24H0V0z\" fill=\"none\"/>\n",
              "    <path d=\"M18.56 5.44l.94 2.06.94-2.06 2.06-.94-2.06-.94-.94-2.06-.94 2.06-2.06.94zm-11 1L8.5 8.5l.94-2.06 2.06-.94-2.06-.94L8.5 2.5l-.94 2.06-2.06.94zm10 10l.94 2.06.94-2.06 2.06-.94-2.06-.94-.94-2.06-.94 2.06-2.06.94z\"/><path d=\"M17.41 7.96l-1.37-1.37c-.4-.4-.92-.59-1.43-.59-.52 0-1.04.2-1.43.59L10.3 9.45l-7.72 7.72c-.78.78-.78 2.05 0 2.83L4 21.41c.39.39.9.59 1.41.59.51 0 1.02-.2 1.41-.59l7.78-7.78 2.81-2.81c.8-.78.8-2.07 0-2.86zM5.41 20L4 18.59l7.72-7.72 1.47 1.35L5.41 20z\"/>\n",
              "  </svg>\n",
              "      </button>\n",
              "      \n",
              "  <style>\n",
              "    .colab-df-container {\n",
              "      display:flex;\n",
              "      flex-wrap:wrap;\n",
              "      gap: 12px;\n",
              "    }\n",
              "\n",
              "    .colab-df-convert {\n",
              "      background-color: #E8F0FE;\n",
              "      border: none;\n",
              "      border-radius: 50%;\n",
              "      cursor: pointer;\n",
              "      display: none;\n",
              "      fill: #1967D2;\n",
              "      height: 32px;\n",
              "      padding: 0 0 0 0;\n",
              "      width: 32px;\n",
              "    }\n",
              "\n",
              "    .colab-df-convert:hover {\n",
              "      background-color: #E2EBFA;\n",
              "      box-shadow: 0px 1px 2px rgba(60, 64, 67, 0.3), 0px 1px 3px 1px rgba(60, 64, 67, 0.15);\n",
              "      fill: #174EA6;\n",
              "    }\n",
              "\n",
              "    [theme=dark] .colab-df-convert {\n",
              "      background-color: #3B4455;\n",
              "      fill: #D2E3FC;\n",
              "    }\n",
              "\n",
              "    [theme=dark] .colab-df-convert:hover {\n",
              "      background-color: #434B5C;\n",
              "      box-shadow: 0px 1px 3px 1px rgba(0, 0, 0, 0.15);\n",
              "      filter: drop-shadow(0px 1px 2px rgba(0, 0, 0, 0.3));\n",
              "      fill: #FFFFFF;\n",
              "    }\n",
              "  </style>\n",
              "\n",
              "      <script>\n",
              "        const buttonEl =\n",
              "          document.querySelector('#df-f6c00ef9-3a71-423b-b604-09be4c1d83e9 button.colab-df-convert');\n",
              "        buttonEl.style.display =\n",
              "          google.colab.kernel.accessAllowed ? 'block' : 'none';\n",
              "\n",
              "        async function convertToInteractive(key) {\n",
              "          const element = document.querySelector('#df-f6c00ef9-3a71-423b-b604-09be4c1d83e9');\n",
              "          const dataTable =\n",
              "            await google.colab.kernel.invokeFunction('convertToInteractive',\n",
              "                                                     [key], {});\n",
              "          if (!dataTable) return;\n",
              "\n",
              "          const docLinkHtml = 'Like what you see? Visit the ' +\n",
              "            '<a target=\"_blank\" href=https://colab.research.google.com/notebooks/data_table.ipynb>data table notebook</a>'\n",
              "            + ' to learn more about interactive tables.';\n",
              "          element.innerHTML = '';\n",
              "          dataTable['output_type'] = 'display_data';\n",
              "          await google.colab.output.renderOutput(dataTable, element);\n",
              "          const docLink = document.createElement('div');\n",
              "          docLink.innerHTML = docLinkHtml;\n",
              "          element.appendChild(docLink);\n",
              "        }\n",
              "      </script>\n",
              "    </div>\n",
              "  </div>\n",
              "  "
            ],
            "text/plain": [
              "   drink\n",
              "0      5\n",
              "1      5\n",
              "2      1\n",
              "3      1\n",
              "4      7"
            ]
          },
          "execution_count": 27,
          "metadata": {},
          "output_type": "execute_result"
        }
      ],
      "source": [
        "data_z_ohe.head()"
      ]
    },
    {
      "cell_type": "markdown",
      "metadata": {
        "id": "k4ByCZuhmY2H"
      },
      "source": [
        "One Hot Encoded dataframe"
      ]
    },
    {
      "cell_type": "code",
      "execution_count": 26,
      "metadata": {
        "colab": {
          "base_uri": "https://localhost:8080/",
          "height": 206
        },
        "id": "MT5FlMd-mdz9",
        "outputId": "50d8fad3-1810-474d-9615-f13ac86a1294"
      },
      "outputs": [
        {
          "data": {
            "text/html": [
              "<div>\n",
              "<style scoped>\n",
              "    .dataframe tbody tr th:only-of-type {\n",
              "        vertical-align: middle;\n",
              "    }\n",
              "\n",
              "    .dataframe tbody tr th {\n",
              "        vertical-align: top;\n",
              "    }\n",
              "\n",
              "    .dataframe thead th {\n",
              "        text-align: right;\n",
              "    }\n",
              "</style>\n",
              "<table border=\"1\" class=\"dataframe\">\n",
              "  <thead>\n",
              "    <tr style=\"text-align: right;\">\n",
              "      <th></th>\n",
              "      <th>sex</th>\n",
              "      <th>mood</th>\n",
              "      <th>age</th>\n",
              "      <th>sex_Laki - Laki</th>\n",
              "      <th>sex_Perempuan</th>\n",
              "    </tr>\n",
              "  </thead>\n",
              "  <tbody>\n",
              "    <tr>\n",
              "      <th>0</th>\n",
              "      <td>Laki - Laki</td>\n",
              "      <td>Senang</td>\n",
              "      <td>2.0</td>\n",
              "      <td>1</td>\n",
              "      <td>0</td>\n",
              "    </tr>\n",
              "    <tr>\n",
              "      <th>1</th>\n",
              "      <td>Laki - Laki</td>\n",
              "      <td>Senang</td>\n",
              "      <td>2.0</td>\n",
              "      <td>1</td>\n",
              "      <td>0</td>\n",
              "    </tr>\n",
              "    <tr>\n",
              "      <th>2</th>\n",
              "      <td>Laki - Laki</td>\n",
              "      <td>Marah</td>\n",
              "      <td>2.0</td>\n",
              "      <td>1</td>\n",
              "      <td>0</td>\n",
              "    </tr>\n",
              "    <tr>\n",
              "      <th>3</th>\n",
              "      <td>Laki - Laki</td>\n",
              "      <td>Marah</td>\n",
              "      <td>3.0</td>\n",
              "      <td>1</td>\n",
              "      <td>0</td>\n",
              "    </tr>\n",
              "    <tr>\n",
              "      <th>4</th>\n",
              "      <td>Laki - Laki</td>\n",
              "      <td>Sedih</td>\n",
              "      <td>3.0</td>\n",
              "      <td>1</td>\n",
              "      <td>0</td>\n",
              "    </tr>\n",
              "  </tbody>\n",
              "</table>\n",
              "</div>"
            ],
            "text/plain": [
              "           sex    mood  age  sex_Laki - Laki  sex_Perempuan\n",
              "0  Laki - Laki  Senang  2.0                1              0\n",
              "1  Laki - Laki  Senang  2.0                1              0\n",
              "2  Laki - Laki   Marah  2.0                1              0\n",
              "3  Laki - Laki   Marah  3.0                1              0\n",
              "4  Laki - Laki   Sedih  3.0                1              0"
            ]
          },
          "execution_count": 26,
          "metadata": {},
          "output_type": "execute_result"
        }
      ],
      "source": [
        "data_ohe_oh = pd.get_dummies(data_ohe[[\"sex\"]])\n",
        "data_ohe = pd.concat([data_ohe, data_ohe_oh], axis = 1)\n",
        "data_ohe.head()"
      ]
    },
    {
      "cell_type": "code",
      "execution_count": 27,
      "metadata": {
        "colab": {
          "base_uri": "https://localhost:8080/",
          "height": 206
        },
        "id": "1GzzHtsAnkbe",
        "outputId": "363b0d3d-103f-40a2-b847-02b82d43a4be"
      },
      "outputs": [
        {
          "data": {
            "text/html": [
              "<div>\n",
              "<style scoped>\n",
              "    .dataframe tbody tr th:only-of-type {\n",
              "        vertical-align: middle;\n",
              "    }\n",
              "\n",
              "    .dataframe tbody tr th {\n",
              "        vertical-align: top;\n",
              "    }\n",
              "\n",
              "    .dataframe thead th {\n",
              "        text-align: right;\n",
              "    }\n",
              "</style>\n",
              "<table border=\"1\" class=\"dataframe\">\n",
              "  <thead>\n",
              "    <tr style=\"text-align: right;\">\n",
              "      <th></th>\n",
              "      <th>sex</th>\n",
              "      <th>mood</th>\n",
              "      <th>age</th>\n",
              "      <th>sex_Laki - Laki</th>\n",
              "      <th>sex_Perempuan</th>\n",
              "      <th>mood_Marah</th>\n",
              "      <th>mood_Sedih</th>\n",
              "      <th>mood_Senang</th>\n",
              "    </tr>\n",
              "  </thead>\n",
              "  <tbody>\n",
              "    <tr>\n",
              "      <th>0</th>\n",
              "      <td>Laki - Laki</td>\n",
              "      <td>Senang</td>\n",
              "      <td>2.0</td>\n",
              "      <td>1</td>\n",
              "      <td>0</td>\n",
              "      <td>0</td>\n",
              "      <td>0</td>\n",
              "      <td>1</td>\n",
              "    </tr>\n",
              "    <tr>\n",
              "      <th>1</th>\n",
              "      <td>Laki - Laki</td>\n",
              "      <td>Senang</td>\n",
              "      <td>2.0</td>\n",
              "      <td>1</td>\n",
              "      <td>0</td>\n",
              "      <td>0</td>\n",
              "      <td>0</td>\n",
              "      <td>1</td>\n",
              "    </tr>\n",
              "    <tr>\n",
              "      <th>2</th>\n",
              "      <td>Laki - Laki</td>\n",
              "      <td>Marah</td>\n",
              "      <td>2.0</td>\n",
              "      <td>1</td>\n",
              "      <td>0</td>\n",
              "      <td>1</td>\n",
              "      <td>0</td>\n",
              "      <td>0</td>\n",
              "    </tr>\n",
              "    <tr>\n",
              "      <th>3</th>\n",
              "      <td>Laki - Laki</td>\n",
              "      <td>Marah</td>\n",
              "      <td>3.0</td>\n",
              "      <td>1</td>\n",
              "      <td>0</td>\n",
              "      <td>1</td>\n",
              "      <td>0</td>\n",
              "      <td>0</td>\n",
              "    </tr>\n",
              "    <tr>\n",
              "      <th>4</th>\n",
              "      <td>Laki - Laki</td>\n",
              "      <td>Sedih</td>\n",
              "      <td>3.0</td>\n",
              "      <td>1</td>\n",
              "      <td>0</td>\n",
              "      <td>0</td>\n",
              "      <td>1</td>\n",
              "      <td>0</td>\n",
              "    </tr>\n",
              "  </tbody>\n",
              "</table>\n",
              "</div>"
            ],
            "text/plain": [
              "           sex    mood  age  sex_Laki - Laki  sex_Perempuan  mood_Marah  \\\n",
              "0  Laki - Laki  Senang  2.0                1              0           0   \n",
              "1  Laki - Laki  Senang  2.0                1              0           0   \n",
              "2  Laki - Laki   Marah  2.0                1              0           1   \n",
              "3  Laki - Laki   Marah  3.0                1              0           1   \n",
              "4  Laki - Laki   Sedih  3.0                1              0           0   \n",
              "\n",
              "   mood_Sedih  mood_Senang  \n",
              "0           0            1  \n",
              "1           0            1  \n",
              "2           0            0  \n",
              "3           0            0  \n",
              "4           1            0  "
            ]
          },
          "execution_count": 27,
          "metadata": {},
          "output_type": "execute_result"
        }
      ],
      "source": [
        "data_ohe_oh = pd.get_dummies(data_ohe[[\"mood\"]])\n",
        "data_ohe = pd.concat([data_ohe, data_ohe_oh], axis = 1)\n",
        "data_ohe.head()"
      ]
    },
    {
      "cell_type": "code",
      "execution_count": 28,
      "metadata": {
        "colab": {
          "base_uri": "https://localhost:8080/",
          "height": 206
        },
        "id": "Hnswh5wBnqfz",
        "outputId": "181773f7-2516-4c92-8b96-45b3a5e8fa01"
      },
      "outputs": [
        {
          "data": {
            "text/html": [
              "<div>\n",
              "<style scoped>\n",
              "    .dataframe tbody tr th:only-of-type {\n",
              "        vertical-align: middle;\n",
              "    }\n",
              "\n",
              "    .dataframe tbody tr th {\n",
              "        vertical-align: top;\n",
              "    }\n",
              "\n",
              "    .dataframe thead th {\n",
              "        text-align: right;\n",
              "    }\n",
              "</style>\n",
              "<table border=\"1\" class=\"dataframe\">\n",
              "  <thead>\n",
              "    <tr style=\"text-align: right;\">\n",
              "      <th></th>\n",
              "      <th>food</th>\n",
              "      <th>0</th>\n",
              "      <th>1</th>\n",
              "      <th>2</th>\n",
              "      <th>3</th>\n",
              "      <th>4</th>\n",
              "      <th>5</th>\n",
              "      <th>6</th>\n",
              "      <th>7</th>\n",
              "      <th>8</th>\n",
              "      <th>9</th>\n",
              "    </tr>\n",
              "  </thead>\n",
              "  <tbody>\n",
              "    <tr>\n",
              "      <th>0</th>\n",
              "      <td>6</td>\n",
              "      <td>0.0</td>\n",
              "      <td>0.0</td>\n",
              "      <td>0.0</td>\n",
              "      <td>0.0</td>\n",
              "      <td>0.0</td>\n",
              "      <td>0.0</td>\n",
              "      <td>1.0</td>\n",
              "      <td>0.0</td>\n",
              "      <td>0.0</td>\n",
              "      <td>0.0</td>\n",
              "    </tr>\n",
              "    <tr>\n",
              "      <th>1</th>\n",
              "      <td>0</td>\n",
              "      <td>1.0</td>\n",
              "      <td>0.0</td>\n",
              "      <td>0.0</td>\n",
              "      <td>0.0</td>\n",
              "      <td>0.0</td>\n",
              "      <td>0.0</td>\n",
              "      <td>0.0</td>\n",
              "      <td>0.0</td>\n",
              "      <td>0.0</td>\n",
              "      <td>0.0</td>\n",
              "    </tr>\n",
              "    <tr>\n",
              "      <th>2</th>\n",
              "      <td>5</td>\n",
              "      <td>0.0</td>\n",
              "      <td>0.0</td>\n",
              "      <td>0.0</td>\n",
              "      <td>0.0</td>\n",
              "      <td>0.0</td>\n",
              "      <td>1.0</td>\n",
              "      <td>0.0</td>\n",
              "      <td>0.0</td>\n",
              "      <td>0.0</td>\n",
              "      <td>0.0</td>\n",
              "    </tr>\n",
              "    <tr>\n",
              "      <th>3</th>\n",
              "      <td>8</td>\n",
              "      <td>0.0</td>\n",
              "      <td>0.0</td>\n",
              "      <td>0.0</td>\n",
              "      <td>0.0</td>\n",
              "      <td>0.0</td>\n",
              "      <td>0.0</td>\n",
              "      <td>0.0</td>\n",
              "      <td>0.0</td>\n",
              "      <td>1.0</td>\n",
              "      <td>0.0</td>\n",
              "    </tr>\n",
              "    <tr>\n",
              "      <th>4</th>\n",
              "      <td>7</td>\n",
              "      <td>0.0</td>\n",
              "      <td>0.0</td>\n",
              "      <td>0.0</td>\n",
              "      <td>0.0</td>\n",
              "      <td>0.0</td>\n",
              "      <td>0.0</td>\n",
              "      <td>0.0</td>\n",
              "      <td>1.0</td>\n",
              "      <td>0.0</td>\n",
              "      <td>0.0</td>\n",
              "    </tr>\n",
              "  </tbody>\n",
              "</table>\n",
              "</div>"
            ],
            "text/plain": [
              "   food    0    1    2    3    4    5    6    7    8    9\n",
              "0     6  0.0  0.0  0.0  0.0  0.0  0.0  1.0  0.0  0.0  0.0\n",
              "1     0  1.0  0.0  0.0  0.0  0.0  0.0  0.0  0.0  0.0  0.0\n",
              "2     5  0.0  0.0  0.0  0.0  0.0  1.0  0.0  0.0  0.0  0.0\n",
              "3     8  0.0  0.0  0.0  0.0  0.0  0.0  0.0  0.0  1.0  0.0\n",
              "4     7  0.0  0.0  0.0  0.0  0.0  0.0  0.0  1.0  0.0  0.0"
            ]
          },
          "execution_count": 28,
          "metadata": {},
          "output_type": "execute_result"
        }
      ],
      "source": [
        "data_y_ohe_oh = pd.DataFrame(ohF.fit_transform(data_y_ohe[[\"food\"]]).toarray())\n",
        "data_y_ohe = pd.concat([data_y_ohe, data_y_ohe_oh], axis=1)\n",
        "data_y_ohe.head()"
      ]
    },
    {
      "cell_type": "code",
      "execution_count": 29,
      "metadata": {
        "colab": {
          "base_uri": "https://localhost:8080/",
          "height": 206
        },
        "id": "oM-fHl2rfflJ",
        "outputId": "518162f5-3a6d-4be9-c27d-328fdcb82c44"
      },
      "outputs": [
        {
          "data": {
            "text/html": [
              "<div>\n",
              "<style scoped>\n",
              "    .dataframe tbody tr th:only-of-type {\n",
              "        vertical-align: middle;\n",
              "    }\n",
              "\n",
              "    .dataframe tbody tr th {\n",
              "        vertical-align: top;\n",
              "    }\n",
              "\n",
              "    .dataframe thead th {\n",
              "        text-align: right;\n",
              "    }\n",
              "</style>\n",
              "<table border=\"1\" class=\"dataframe\">\n",
              "  <thead>\n",
              "    <tr style=\"text-align: right;\">\n",
              "      <th></th>\n",
              "      <th>food</th>\n",
              "      <th>f0</th>\n",
              "      <th>f1</th>\n",
              "      <th>f2</th>\n",
              "      <th>f3</th>\n",
              "      <th>f4</th>\n",
              "      <th>f5</th>\n",
              "      <th>f6</th>\n",
              "      <th>f7</th>\n",
              "      <th>f8</th>\n",
              "      <th>f9</th>\n",
              "    </tr>\n",
              "  </thead>\n",
              "  <tbody>\n",
              "    <tr>\n",
              "      <th>0</th>\n",
              "      <td>6</td>\n",
              "      <td>0.0</td>\n",
              "      <td>0.0</td>\n",
              "      <td>0.0</td>\n",
              "      <td>0.0</td>\n",
              "      <td>0.0</td>\n",
              "      <td>0.0</td>\n",
              "      <td>1.0</td>\n",
              "      <td>0.0</td>\n",
              "      <td>0.0</td>\n",
              "      <td>0.0</td>\n",
              "    </tr>\n",
              "    <tr>\n",
              "      <th>1</th>\n",
              "      <td>0</td>\n",
              "      <td>1.0</td>\n",
              "      <td>0.0</td>\n",
              "      <td>0.0</td>\n",
              "      <td>0.0</td>\n",
              "      <td>0.0</td>\n",
              "      <td>0.0</td>\n",
              "      <td>0.0</td>\n",
              "      <td>0.0</td>\n",
              "      <td>0.0</td>\n",
              "      <td>0.0</td>\n",
              "    </tr>\n",
              "    <tr>\n",
              "      <th>2</th>\n",
              "      <td>5</td>\n",
              "      <td>0.0</td>\n",
              "      <td>0.0</td>\n",
              "      <td>0.0</td>\n",
              "      <td>0.0</td>\n",
              "      <td>0.0</td>\n",
              "      <td>1.0</td>\n",
              "      <td>0.0</td>\n",
              "      <td>0.0</td>\n",
              "      <td>0.0</td>\n",
              "      <td>0.0</td>\n",
              "    </tr>\n",
              "    <tr>\n",
              "      <th>3</th>\n",
              "      <td>8</td>\n",
              "      <td>0.0</td>\n",
              "      <td>0.0</td>\n",
              "      <td>0.0</td>\n",
              "      <td>0.0</td>\n",
              "      <td>0.0</td>\n",
              "      <td>0.0</td>\n",
              "      <td>0.0</td>\n",
              "      <td>0.0</td>\n",
              "      <td>1.0</td>\n",
              "      <td>0.0</td>\n",
              "    </tr>\n",
              "    <tr>\n",
              "      <th>4</th>\n",
              "      <td>7</td>\n",
              "      <td>0.0</td>\n",
              "      <td>0.0</td>\n",
              "      <td>0.0</td>\n",
              "      <td>0.0</td>\n",
              "      <td>0.0</td>\n",
              "      <td>0.0</td>\n",
              "      <td>0.0</td>\n",
              "      <td>1.0</td>\n",
              "      <td>0.0</td>\n",
              "      <td>0.0</td>\n",
              "    </tr>\n",
              "  </tbody>\n",
              "</table>\n",
              "</div>"
            ],
            "text/plain": [
              "   food   f0   f1   f2   f3   f4   f5   f6   f7   f8   f9\n",
              "0     6  0.0  0.0  0.0  0.0  0.0  0.0  1.0  0.0  0.0  0.0\n",
              "1     0  1.0  0.0  0.0  0.0  0.0  0.0  0.0  0.0  0.0  0.0\n",
              "2     5  0.0  0.0  0.0  0.0  0.0  1.0  0.0  0.0  0.0  0.0\n",
              "3     8  0.0  0.0  0.0  0.0  0.0  0.0  0.0  0.0  1.0  0.0\n",
              "4     7  0.0  0.0  0.0  0.0  0.0  0.0  0.0  1.0  0.0  0.0"
            ]
          },
          "execution_count": 29,
          "metadata": {},
          "output_type": "execute_result"
        }
      ],
      "source": [
        "data_y_ohe.rename(columns = {0: 'f0', 1: 'f1', 2: 'f2', 3: 'f3', 4: 'f4', 5: 'f5', 6: 'f6', 7: 'f7', 8: 'f8', 9: 'f9'}, inplace=True)\n",
        "data_y_ohe.head()"
      ]
    },
    {
      "cell_type": "code",
      "execution_count": 30,
      "metadata": {
        "colab": {
          "base_uri": "https://localhost:8080/",
          "height": 206
        },
        "id": "KawlIKvrocIu",
        "outputId": "1e1e2383-082a-4beb-abb0-9990d67e045e"
      },
      "outputs": [
        {
          "data": {
            "text/html": [
              "<div>\n",
              "<style scoped>\n",
              "    .dataframe tbody tr th:only-of-type {\n",
              "        vertical-align: middle;\n",
              "    }\n",
              "\n",
              "    .dataframe tbody tr th {\n",
              "        vertical-align: top;\n",
              "    }\n",
              "\n",
              "    .dataframe thead th {\n",
              "        text-align: right;\n",
              "    }\n",
              "</style>\n",
              "<table border=\"1\" class=\"dataframe\">\n",
              "  <thead>\n",
              "    <tr style=\"text-align: right;\">\n",
              "      <th></th>\n",
              "      <th>drink</th>\n",
              "      <th>0</th>\n",
              "      <th>1</th>\n",
              "      <th>2</th>\n",
              "      <th>3</th>\n",
              "      <th>4</th>\n",
              "      <th>5</th>\n",
              "      <th>6</th>\n",
              "      <th>7</th>\n",
              "    </tr>\n",
              "  </thead>\n",
              "  <tbody>\n",
              "    <tr>\n",
              "      <th>0</th>\n",
              "      <td>5</td>\n",
              "      <td>0.0</td>\n",
              "      <td>0.0</td>\n",
              "      <td>0.0</td>\n",
              "      <td>0.0</td>\n",
              "      <td>0.0</td>\n",
              "      <td>1.0</td>\n",
              "      <td>0.0</td>\n",
              "      <td>0.0</td>\n",
              "    </tr>\n",
              "    <tr>\n",
              "      <th>1</th>\n",
              "      <td>5</td>\n",
              "      <td>0.0</td>\n",
              "      <td>0.0</td>\n",
              "      <td>0.0</td>\n",
              "      <td>0.0</td>\n",
              "      <td>0.0</td>\n",
              "      <td>1.0</td>\n",
              "      <td>0.0</td>\n",
              "      <td>0.0</td>\n",
              "    </tr>\n",
              "    <tr>\n",
              "      <th>2</th>\n",
              "      <td>1</td>\n",
              "      <td>0.0</td>\n",
              "      <td>1.0</td>\n",
              "      <td>0.0</td>\n",
              "      <td>0.0</td>\n",
              "      <td>0.0</td>\n",
              "      <td>0.0</td>\n",
              "      <td>0.0</td>\n",
              "      <td>0.0</td>\n",
              "    </tr>\n",
              "    <tr>\n",
              "      <th>3</th>\n",
              "      <td>1</td>\n",
              "      <td>0.0</td>\n",
              "      <td>1.0</td>\n",
              "      <td>0.0</td>\n",
              "      <td>0.0</td>\n",
              "      <td>0.0</td>\n",
              "      <td>0.0</td>\n",
              "      <td>0.0</td>\n",
              "      <td>0.0</td>\n",
              "    </tr>\n",
              "    <tr>\n",
              "      <th>4</th>\n",
              "      <td>7</td>\n",
              "      <td>0.0</td>\n",
              "      <td>0.0</td>\n",
              "      <td>0.0</td>\n",
              "      <td>0.0</td>\n",
              "      <td>0.0</td>\n",
              "      <td>0.0</td>\n",
              "      <td>0.0</td>\n",
              "      <td>1.0</td>\n",
              "    </tr>\n",
              "  </tbody>\n",
              "</table>\n",
              "</div>"
            ],
            "text/plain": [
              "   drink    0    1    2    3    4    5    6    7\n",
              "0      5  0.0  0.0  0.0  0.0  0.0  1.0  0.0  0.0\n",
              "1      5  0.0  0.0  0.0  0.0  0.0  1.0  0.0  0.0\n",
              "2      1  0.0  1.0  0.0  0.0  0.0  0.0  0.0  0.0\n",
              "3      1  0.0  1.0  0.0  0.0  0.0  0.0  0.0  0.0\n",
              "4      7  0.0  0.0  0.0  0.0  0.0  0.0  0.0  1.0"
            ]
          },
          "execution_count": 30,
          "metadata": {},
          "output_type": "execute_result"
        }
      ],
      "source": [
        "data_z_ohe_oh = pd.DataFrame(ohD.fit_transform(data_z_ohe[[\"drink\"]]).toarray())\n",
        "data_z_ohe = pd.concat([data_z_ohe, data_z_ohe_oh], axis=1)\n",
        "data_z_ohe.head()"
      ]
    },
    {
      "cell_type": "code",
      "execution_count": 31,
      "metadata": {
        "colab": {
          "base_uri": "https://localhost:8080/",
          "height": 206
        },
        "id": "Nl0t-TlLf7o0",
        "outputId": "dc1f82d5-e128-4bb9-cc52-61c47e97103d"
      },
      "outputs": [
        {
          "data": {
            "text/html": [
              "<div>\n",
              "<style scoped>\n",
              "    .dataframe tbody tr th:only-of-type {\n",
              "        vertical-align: middle;\n",
              "    }\n",
              "\n",
              "    .dataframe tbody tr th {\n",
              "        vertical-align: top;\n",
              "    }\n",
              "\n",
              "    .dataframe thead th {\n",
              "        text-align: right;\n",
              "    }\n",
              "</style>\n",
              "<table border=\"1\" class=\"dataframe\">\n",
              "  <thead>\n",
              "    <tr style=\"text-align: right;\">\n",
              "      <th></th>\n",
              "      <th>drink</th>\n",
              "      <th>d0</th>\n",
              "      <th>d1</th>\n",
              "      <th>d2</th>\n",
              "      <th>d3</th>\n",
              "      <th>d4</th>\n",
              "      <th>d5</th>\n",
              "      <th>d6</th>\n",
              "      <th>d7</th>\n",
              "    </tr>\n",
              "  </thead>\n",
              "  <tbody>\n",
              "    <tr>\n",
              "      <th>0</th>\n",
              "      <td>5</td>\n",
              "      <td>0.0</td>\n",
              "      <td>0.0</td>\n",
              "      <td>0.0</td>\n",
              "      <td>0.0</td>\n",
              "      <td>0.0</td>\n",
              "      <td>1.0</td>\n",
              "      <td>0.0</td>\n",
              "      <td>0.0</td>\n",
              "    </tr>\n",
              "    <tr>\n",
              "      <th>1</th>\n",
              "      <td>5</td>\n",
              "      <td>0.0</td>\n",
              "      <td>0.0</td>\n",
              "      <td>0.0</td>\n",
              "      <td>0.0</td>\n",
              "      <td>0.0</td>\n",
              "      <td>1.0</td>\n",
              "      <td>0.0</td>\n",
              "      <td>0.0</td>\n",
              "    </tr>\n",
              "    <tr>\n",
              "      <th>2</th>\n",
              "      <td>1</td>\n",
              "      <td>0.0</td>\n",
              "      <td>1.0</td>\n",
              "      <td>0.0</td>\n",
              "      <td>0.0</td>\n",
              "      <td>0.0</td>\n",
              "      <td>0.0</td>\n",
              "      <td>0.0</td>\n",
              "      <td>0.0</td>\n",
              "    </tr>\n",
              "    <tr>\n",
              "      <th>3</th>\n",
              "      <td>1</td>\n",
              "      <td>0.0</td>\n",
              "      <td>1.0</td>\n",
              "      <td>0.0</td>\n",
              "      <td>0.0</td>\n",
              "      <td>0.0</td>\n",
              "      <td>0.0</td>\n",
              "      <td>0.0</td>\n",
              "      <td>0.0</td>\n",
              "    </tr>\n",
              "    <tr>\n",
              "      <th>4</th>\n",
              "      <td>7</td>\n",
              "      <td>0.0</td>\n",
              "      <td>0.0</td>\n",
              "      <td>0.0</td>\n",
              "      <td>0.0</td>\n",
              "      <td>0.0</td>\n",
              "      <td>0.0</td>\n",
              "      <td>0.0</td>\n",
              "      <td>1.0</td>\n",
              "    </tr>\n",
              "  </tbody>\n",
              "</table>\n",
              "</div>"
            ],
            "text/plain": [
              "   drink   d0   d1   d2   d3   d4   d5   d6   d7\n",
              "0      5  0.0  0.0  0.0  0.0  0.0  1.0  0.0  0.0\n",
              "1      5  0.0  0.0  0.0  0.0  0.0  1.0  0.0  0.0\n",
              "2      1  0.0  1.0  0.0  0.0  0.0  0.0  0.0  0.0\n",
              "3      1  0.0  1.0  0.0  0.0  0.0  0.0  0.0  0.0\n",
              "4      7  0.0  0.0  0.0  0.0  0.0  0.0  0.0  1.0"
            ]
          },
          "execution_count": 31,
          "metadata": {},
          "output_type": "execute_result"
        }
      ],
      "source": [
        "data_z_ohe.rename(columns= {0: 'd0', 1: 'd1', 2: 'd2', 3: 'd3', 4: 'd4', 5: 'd5', 6: 'd6', 7: 'd7'}, inplace=True)\n",
        "data_z_ohe.head()"
      ]
    },
    {
      "cell_type": "markdown",
      "metadata": {
        "id": "8tUwwSZ6gPMM"
      },
      "source": [
        "Making whole the fabric of society"
      ]
    },
    {
      "cell_type": "code",
      "execution_count": 32,
      "metadata": {
        "colab": {
          "base_uri": "https://localhost:8080/",
          "height": 490
        },
        "id": "OJvninLpgRbU",
        "outputId": "3e1baa23-e7ab-43c0-f866-b0d2c3f0250c"
      },
      "outputs": [
        {
          "data": {
            "text/html": [
              "<div>\n",
              "<style scoped>\n",
              "    .dataframe tbody tr th:only-of-type {\n",
              "        vertical-align: middle;\n",
              "    }\n",
              "\n",
              "    .dataframe tbody tr th {\n",
              "        vertical-align: top;\n",
              "    }\n",
              "\n",
              "    .dataframe thead th {\n",
              "        text-align: right;\n",
              "    }\n",
              "</style>\n",
              "<table border=\"1\" class=\"dataframe\">\n",
              "  <thead>\n",
              "    <tr style=\"text-align: right;\">\n",
              "      <th></th>\n",
              "      <th>sex</th>\n",
              "      <th>mood</th>\n",
              "      <th>age</th>\n",
              "      <th>sex_Laki - Laki</th>\n",
              "      <th>sex_Perempuan</th>\n",
              "      <th>mood_Marah</th>\n",
              "      <th>mood_Sedih</th>\n",
              "      <th>mood_Senang</th>\n",
              "      <th>food</th>\n",
              "      <th>f0</th>\n",
              "      <th>...</th>\n",
              "      <th>f9</th>\n",
              "      <th>drink</th>\n",
              "      <th>d0</th>\n",
              "      <th>d1</th>\n",
              "      <th>d2</th>\n",
              "      <th>d3</th>\n",
              "      <th>d4</th>\n",
              "      <th>d5</th>\n",
              "      <th>d6</th>\n",
              "      <th>d7</th>\n",
              "    </tr>\n",
              "  </thead>\n",
              "  <tbody>\n",
              "    <tr>\n",
              "      <th>0</th>\n",
              "      <td>Laki - Laki</td>\n",
              "      <td>Senang</td>\n",
              "      <td>2.0</td>\n",
              "      <td>1</td>\n",
              "      <td>0</td>\n",
              "      <td>0</td>\n",
              "      <td>0</td>\n",
              "      <td>1</td>\n",
              "      <td>6</td>\n",
              "      <td>0.0</td>\n",
              "      <td>...</td>\n",
              "      <td>0.0</td>\n",
              "      <td>5</td>\n",
              "      <td>0.0</td>\n",
              "      <td>0.0</td>\n",
              "      <td>0.0</td>\n",
              "      <td>0.0</td>\n",
              "      <td>0.0</td>\n",
              "      <td>1.0</td>\n",
              "      <td>0.0</td>\n",
              "      <td>0.0</td>\n",
              "    </tr>\n",
              "    <tr>\n",
              "      <th>1</th>\n",
              "      <td>Laki - Laki</td>\n",
              "      <td>Senang</td>\n",
              "      <td>2.0</td>\n",
              "      <td>1</td>\n",
              "      <td>0</td>\n",
              "      <td>0</td>\n",
              "      <td>0</td>\n",
              "      <td>1</td>\n",
              "      <td>0</td>\n",
              "      <td>1.0</td>\n",
              "      <td>...</td>\n",
              "      <td>0.0</td>\n",
              "      <td>5</td>\n",
              "      <td>0.0</td>\n",
              "      <td>0.0</td>\n",
              "      <td>0.0</td>\n",
              "      <td>0.0</td>\n",
              "      <td>0.0</td>\n",
              "      <td>1.0</td>\n",
              "      <td>0.0</td>\n",
              "      <td>0.0</td>\n",
              "    </tr>\n",
              "    <tr>\n",
              "      <th>2</th>\n",
              "      <td>Laki - Laki</td>\n",
              "      <td>Marah</td>\n",
              "      <td>2.0</td>\n",
              "      <td>1</td>\n",
              "      <td>0</td>\n",
              "      <td>1</td>\n",
              "      <td>0</td>\n",
              "      <td>0</td>\n",
              "      <td>5</td>\n",
              "      <td>0.0</td>\n",
              "      <td>...</td>\n",
              "      <td>0.0</td>\n",
              "      <td>1</td>\n",
              "      <td>0.0</td>\n",
              "      <td>1.0</td>\n",
              "      <td>0.0</td>\n",
              "      <td>0.0</td>\n",
              "      <td>0.0</td>\n",
              "      <td>0.0</td>\n",
              "      <td>0.0</td>\n",
              "      <td>0.0</td>\n",
              "    </tr>\n",
              "    <tr>\n",
              "      <th>3</th>\n",
              "      <td>Laki - Laki</td>\n",
              "      <td>Marah</td>\n",
              "      <td>3.0</td>\n",
              "      <td>1</td>\n",
              "      <td>0</td>\n",
              "      <td>1</td>\n",
              "      <td>0</td>\n",
              "      <td>0</td>\n",
              "      <td>8</td>\n",
              "      <td>0.0</td>\n",
              "      <td>...</td>\n",
              "      <td>0.0</td>\n",
              "      <td>1</td>\n",
              "      <td>0.0</td>\n",
              "      <td>1.0</td>\n",
              "      <td>0.0</td>\n",
              "      <td>0.0</td>\n",
              "      <td>0.0</td>\n",
              "      <td>0.0</td>\n",
              "      <td>0.0</td>\n",
              "      <td>0.0</td>\n",
              "    </tr>\n",
              "    <tr>\n",
              "      <th>4</th>\n",
              "      <td>Laki - Laki</td>\n",
              "      <td>Sedih</td>\n",
              "      <td>3.0</td>\n",
              "      <td>1</td>\n",
              "      <td>0</td>\n",
              "      <td>0</td>\n",
              "      <td>1</td>\n",
              "      <td>0</td>\n",
              "      <td>7</td>\n",
              "      <td>0.0</td>\n",
              "      <td>...</td>\n",
              "      <td>0.0</td>\n",
              "      <td>7</td>\n",
              "      <td>0.0</td>\n",
              "      <td>0.0</td>\n",
              "      <td>0.0</td>\n",
              "      <td>0.0</td>\n",
              "      <td>0.0</td>\n",
              "      <td>0.0</td>\n",
              "      <td>0.0</td>\n",
              "      <td>1.0</td>\n",
              "    </tr>\n",
              "  </tbody>\n",
              "</table>\n",
              "<p>5 rows × 28 columns</p>\n",
              "</div>"
            ],
            "text/plain": [
              "           sex    mood  age  sex_Laki - Laki  sex_Perempuan  mood_Marah  \\\n",
              "0  Laki - Laki  Senang  2.0                1              0           0   \n",
              "1  Laki - Laki  Senang  2.0                1              0           0   \n",
              "2  Laki - Laki   Marah  2.0                1              0           1   \n",
              "3  Laki - Laki   Marah  3.0                1              0           1   \n",
              "4  Laki - Laki   Sedih  3.0                1              0           0   \n",
              "\n",
              "   mood_Sedih  mood_Senang  food   f0  ...   f9  drink   d0   d1   d2   d3  \\\n",
              "0           0            1     6  0.0  ...  0.0      5  0.0  0.0  0.0  0.0   \n",
              "1           0            1     0  1.0  ...  0.0      5  0.0  0.0  0.0  0.0   \n",
              "2           0            0     5  0.0  ...  0.0      1  0.0  1.0  0.0  0.0   \n",
              "3           0            0     8  0.0  ...  0.0      1  0.0  1.0  0.0  0.0   \n",
              "4           1            0     7  0.0  ...  0.0      7  0.0  0.0  0.0  0.0   \n",
              "\n",
              "    d4   d5   d6   d7  \n",
              "0  0.0  1.0  0.0  0.0  \n",
              "1  0.0  1.0  0.0  0.0  \n",
              "2  0.0  0.0  0.0  0.0  \n",
              "3  0.0  0.0  0.0  0.0  \n",
              "4  0.0  0.0  0.0  1.0  \n",
              "\n",
              "[5 rows x 28 columns]"
            ]
          },
          "execution_count": 32,
          "metadata": {},
          "output_type": "execute_result"
        }
      ],
      "source": [
        "data_join = pd.concat([data_ohe, data_y_ohe, data_z_ohe], axis = 1)\n",
        "data_join.head()"
      ]
    },
    {
      "cell_type": "markdown",
      "metadata": {
        "id": "jwH2bD7Goq85"
      },
      "source": [
        "Inserting data into variable"
      ]
    },
    {
      "cell_type": "code",
      "execution_count": 34,
      "metadata": {
        "id": "0_StNCIBBQ2F"
      },
      "outputs": [
        {
          "data": {
            "text/plain": [
              "array([[1., 0., 0., 0., 1., 2.],\n",
              "       [1., 0., 0., 0., 1., 2.],\n",
              "       [1., 0., 1., 0., 0., 2.],\n",
              "       [1., 0., 1., 0., 0., 3.],\n",
              "       [1., 0., 0., 1., 0., 3.],\n",
              "       [0., 1., 0., 0., 1., 2.],\n",
              "       [1., 0., 0., 0., 1., 1.],\n",
              "       [0., 1., 0., 0., 1., 1.],\n",
              "       [0., 1., 1., 0., 0., 2.],\n",
              "       [0., 1., 0., 0., 1., 2.],\n",
              "       [1., 0., 0., 1., 0., 1.],\n",
              "       [0., 1., 0., 0., 1., 1.],\n",
              "       [0., 1., 1., 0., 0., 0.],\n",
              "       [1., 0., 0., 1., 0., 1.],\n",
              "       [1., 0., 0., 0., 1., 1.],\n",
              "       [1., 0., 0., 0., 1., 3.],\n",
              "       [1., 0., 0., 1., 0., 2.],\n",
              "       [0., 1., 1., 0., 0., 2.],\n",
              "       [1., 0., 1., 0., 0., 2.],\n",
              "       [1., 0., 0., 0., 1., 2.],\n",
              "       [1., 0., 0., 1., 0., 3.],\n",
              "       [1., 0., 0., 1., 0., 2.],\n",
              "       [1., 0., 1., 0., 0., 2.],\n",
              "       [0., 1., 1., 0., 0., 2.],\n",
              "       [0., 1., 0., 0., 1., 2.],\n",
              "       [1., 0., 0., 0., 1., 2.],\n",
              "       [1., 0., 0., 1., 0., 2.],\n",
              "       [0., 1., 0., 0., 1., 2.],\n",
              "       [0., 1., 0., 0., 1., 2.],\n",
              "       [0., 1., 0., 1., 0., 2.],\n",
              "       [0., 1., 0., 0., 1., 2.],\n",
              "       [0., 1., 0., 0., 1., 2.],\n",
              "       [0., 1., 0., 0., 1., 2.],\n",
              "       [0., 1., 0., 0., 1., 2.],\n",
              "       [0., 1., 0., 0., 1., 2.],\n",
              "       [0., 1., 0., 0., 1., 3.],\n",
              "       [0., 1., 0., 1., 0., 2.],\n",
              "       [1., 0., 0., 0., 1., 2.],\n",
              "       [1., 0., 0., 0., 1., 2.],\n",
              "       [0., 1., 1., 0., 0., 2.],\n",
              "       [0., 1., 0., 0., 1., 2.],\n",
              "       [0., 1., 0., 1., 0., 2.],\n",
              "       [1., 0., 0., 0., 1., 3.],\n",
              "       [0., 1., 0., 0., 1., 2.],\n",
              "       [1., 0., 1., 0., 0., 2.],\n",
              "       [1., 0., 0., 0., 1., 0.],\n",
              "       [1., 0., 0., 0., 1., 2.],\n",
              "       [0., 1., 0., 0., 1., 2.],\n",
              "       [1., 0., 0., 0., 1., 1.],\n",
              "       [0., 1., 0., 0., 1., 1.],\n",
              "       [1., 0., 1., 0., 0., 1.],\n",
              "       [0., 1., 1., 0., 0., 1.],\n",
              "       [0., 1., 0., 0., 1., 2.],\n",
              "       [0., 1., 0., 0., 1., 2.],\n",
              "       [0., 1., 0., 1., 0., 2.],\n",
              "       [0., 1., 0., 1., 0., 2.],\n",
              "       [0., 1., 0., 0., 1., 2.],\n",
              "       [0., 1., 0., 1., 0., 2.],\n",
              "       [0., 1., 0., 0., 1., 2.],\n",
              "       [0., 1., 0., 0., 1., 2.],\n",
              "       [1., 0., 0., 0., 1., 4.],\n",
              "       [0., 1., 0., 1., 0., 4.],\n",
              "       [0., 1., 0., 0., 1., 2.],\n",
              "       [0., 1., 0., 0., 1., 2.],\n",
              "       [0., 1., 0., 0., 1., 2.],\n",
              "       [0., 1., 0., 0., 1., 2.],\n",
              "       [1., 0., 1., 0., 0., 2.],\n",
              "       [0., 1., 1., 0., 0., 2.],\n",
              "       [0., 1., 0., 1., 0., 3.],\n",
              "       [1., 0., 0., 0., 1., 3.],\n",
              "       [1., 0., 0., 0., 1., 4.],\n",
              "       [0., 1., 0., 0., 1., 4.],\n",
              "       [0., 1., 0., 1., 0., 4.],\n",
              "       [1., 0., 1., 0., 0., 3.],\n",
              "       [0., 1., 1., 0., 0., 3.],\n",
              "       [0., 1., 0., 0., 1., 3.],\n",
              "       [1., 0., 0., 1., 0., 3.],\n",
              "       [0., 1., 1., 0., 0., 3.],\n",
              "       [0., 1., 0., 0., 1., 3.],\n",
              "       [1., 0., 0., 1., 0., 3.],\n",
              "       [0., 1., 1., 0., 0., 3.],\n",
              "       [1., 0., 0., 0., 1., 3.],\n",
              "       [1., 0., 0., 1., 0., 3.],\n",
              "       [0., 1., 0., 1., 0., 4.],\n",
              "       [1., 0., 0., 0., 1., 3.],\n",
              "       [1., 0., 0., 0., 1., 4.],\n",
              "       [0., 1., 1., 0., 0., 1.],\n",
              "       [0., 1., 1., 0., 0., 1.],\n",
              "       [0., 1., 1., 0., 0., 1.],\n",
              "       [1., 0., 1., 0., 0., 1.],\n",
              "       [1., 0., 1., 0., 0., 0.],\n",
              "       [0., 1., 0., 0., 1., 1.],\n",
              "       [0., 1., 0., 0., 1., 1.],\n",
              "       [1., 0., 1., 0., 0., 3.],\n",
              "       [1., 0., 1., 0., 0., 2.],\n",
              "       [1., 0., 0., 0., 1., 3.],\n",
              "       [1., 0., 0., 1., 0., 3.],\n",
              "       [1., 0., 0., 1., 0., 3.],\n",
              "       [0., 1., 0., 0., 1., 3.]])"
            ]
          },
          "execution_count": 34,
          "metadata": {},
          "output_type": "execute_result"
        }
      ],
      "source": [
        "X = data_join[[\"sex_Laki - Laki\", \"sex_Perempuan\", 'mood_Marah', 'mood_Sedih', 'mood_Senang', 'age']].values\n",
        "X"
      ]
    },
    {
      "cell_type": "code",
      "execution_count": 35,
      "metadata": {
        "id": "4UAL1JHF9kCn"
      },
      "outputs": [],
      "source": [
        "y = data_join[['f0', 'f1', 'f2', 'f3', 'f4', 'f5', 'f6', 'f7', 'f8', 'f9']].values\n",
        "z = data_join[['d0', 'd1', 'd2', 'd3', 'd4', 'd5', 'd6', 'd7']].values\n",
        "v = data[[\"food_LE\", \"drink_LE\"]].values"
      ]
    },
    {
      "cell_type": "code",
      "execution_count": null,
      "metadata": {
        "id": "3-U7LKGEAjYe"
      },
      "outputs": [],
      "source": [
        "X"
      ]
    },
    {
      "cell_type": "code",
      "execution_count": null,
      "metadata": {
        "id": "KjrZb0jJ1wUv"
      },
      "outputs": [],
      "source": [
        "y"
      ]
    },
    {
      "cell_type": "code",
      "execution_count": null,
      "metadata": {
        "id": "wuvGwEib1y49"
      },
      "outputs": [],
      "source": [
        "z"
      ]
    },
    {
      "cell_type": "markdown",
      "metadata": {
        "id": "y3AHMrkRyfsd"
      },
      "source": [
        "Train test split (use if you have 1000 data or more)"
      ]
    },
    {
      "cell_type": "code",
      "execution_count": 36,
      "metadata": {
        "id": "aPjfSHtCeV2K"
      },
      "outputs": [],
      "source": [
        "X_train_data, X_test_data, y_train_data, y_test_data = train_test_split(X , y, test_size = 0.3, random_state=1, stratify=y)"
      ]
    },
    {
      "cell_type": "code",
      "execution_count": 37,
      "metadata": {
        "id": "8QoDoWgnesUm"
      },
      "outputs": [],
      "source": [
        "Xz_train_data, Xz_test_data, z_train_data, z_test_data = train_test_split(X, z, test_size = 0.3, random_state=1, stratify=y)"
      ]
    },
    {
      "cell_type": "code",
      "execution_count": null,
      "metadata": {
        "id": "HKQ8xkp884PV"
      },
      "outputs": [],
      "source": [
        "X_train_data"
      ]
    },
    {
      "cell_type": "code",
      "execution_count": null,
      "metadata": {
        "id": "8dLtkSzv-tPO"
      },
      "outputs": [],
      "source": [
        "y_train_data"
      ]
    },
    {
      "cell_type": "code",
      "execution_count": null,
      "metadata": {
        "id": "06wl6AIB88W1"
      },
      "outputs": [],
      "source": [
        "X_test_data"
      ]
    },
    {
      "cell_type": "markdown",
      "metadata": {
        "id": "LLDuwyztwRpM"
      },
      "source": [
        "## Classifier model\n"
      ]
    },
    {
      "cell_type": "code",
      "execution_count": null,
      "metadata": {
        "colab": {
          "base_uri": "https://localhost:8080/"
        },
        "id": "SJN35MRffF8Y",
        "outputId": "68e55ca4-548f-4193-e974-70b073a4be8b"
      },
      "outputs": [
        {
          "data": {
            "text/plain": [
              "DecisionTreeClassifier()"
            ]
          },
          "execution_count": 37,
          "metadata": {},
          "output_type": "execute_result"
        }
      ],
      "source": [
        "classifier = DecisionTreeClassifier()\n",
        "classifierDrink = DecisionTreeClassifier()\n",
        "classifier.fit(X_train_data, y_train_data)\n",
        "classifierDrink.fit(Xz_train_data, z_train_data)"
      ]
    },
    {
      "cell_type": "code",
      "execution_count": 38,
      "metadata": {
        "colab": {
          "base_uri": "https://localhost:8080/"
        },
        "id": "CdWx4tV3jlMj",
        "outputId": "f62730b7-b654-4a9f-d08e-f0acc1561ece"
      },
      "outputs": [
        {
          "data": {
            "text/html": [
              "<style>#sk-container-id-1 {color: black;background-color: white;}#sk-container-id-1 pre{padding: 0;}#sk-container-id-1 div.sk-toggleable {background-color: white;}#sk-container-id-1 label.sk-toggleable__label {cursor: pointer;display: block;width: 100%;margin-bottom: 0;padding: 0.3em;box-sizing: border-box;text-align: center;}#sk-container-id-1 label.sk-toggleable__label-arrow:before {content: \"▸\";float: left;margin-right: 0.25em;color: #696969;}#sk-container-id-1 label.sk-toggleable__label-arrow:hover:before {color: black;}#sk-container-id-1 div.sk-estimator:hover label.sk-toggleable__label-arrow:before {color: black;}#sk-container-id-1 div.sk-toggleable__content {max-height: 0;max-width: 0;overflow: hidden;text-align: left;background-color: #f0f8ff;}#sk-container-id-1 div.sk-toggleable__content pre {margin: 0.2em;color: black;border-radius: 0.25em;background-color: #f0f8ff;}#sk-container-id-1 input.sk-toggleable__control:checked~div.sk-toggleable__content {max-height: 200px;max-width: 100%;overflow: auto;}#sk-container-id-1 input.sk-toggleable__control:checked~label.sk-toggleable__label-arrow:before {content: \"▾\";}#sk-container-id-1 div.sk-estimator input.sk-toggleable__control:checked~label.sk-toggleable__label {background-color: #d4ebff;}#sk-container-id-1 div.sk-label input.sk-toggleable__control:checked~label.sk-toggleable__label {background-color: #d4ebff;}#sk-container-id-1 input.sk-hidden--visually {border: 0;clip: rect(1px 1px 1px 1px);clip: rect(1px, 1px, 1px, 1px);height: 1px;margin: -1px;overflow: hidden;padding: 0;position: absolute;width: 1px;}#sk-container-id-1 div.sk-estimator {font-family: monospace;background-color: #f0f8ff;border: 1px dotted black;border-radius: 0.25em;box-sizing: border-box;margin-bottom: 0.5em;}#sk-container-id-1 div.sk-estimator:hover {background-color: #d4ebff;}#sk-container-id-1 div.sk-parallel-item::after {content: \"\";width: 100%;border-bottom: 1px solid gray;flex-grow: 1;}#sk-container-id-1 div.sk-label:hover label.sk-toggleable__label {background-color: #d4ebff;}#sk-container-id-1 div.sk-serial::before {content: \"\";position: absolute;border-left: 1px solid gray;box-sizing: border-box;top: 0;bottom: 0;left: 50%;z-index: 0;}#sk-container-id-1 div.sk-serial {display: flex;flex-direction: column;align-items: center;background-color: white;padding-right: 0.2em;padding-left: 0.2em;position: relative;}#sk-container-id-1 div.sk-item {position: relative;z-index: 1;}#sk-container-id-1 div.sk-parallel {display: flex;align-items: stretch;justify-content: center;background-color: white;position: relative;}#sk-container-id-1 div.sk-item::before, #sk-container-id-1 div.sk-parallel-item::before {content: \"\";position: absolute;border-left: 1px solid gray;box-sizing: border-box;top: 0;bottom: 0;left: 50%;z-index: -1;}#sk-container-id-1 div.sk-parallel-item {display: flex;flex-direction: column;z-index: 1;position: relative;background-color: white;}#sk-container-id-1 div.sk-parallel-item:first-child::after {align-self: flex-end;width: 50%;}#sk-container-id-1 div.sk-parallel-item:last-child::after {align-self: flex-start;width: 50%;}#sk-container-id-1 div.sk-parallel-item:only-child::after {width: 0;}#sk-container-id-1 div.sk-dashed-wrapped {border: 1px dashed gray;margin: 0 0.4em 0.5em 0.4em;box-sizing: border-box;padding-bottom: 0.4em;background-color: white;}#sk-container-id-1 div.sk-label label {font-family: monospace;font-weight: bold;display: inline-block;line-height: 1.2em;}#sk-container-id-1 div.sk-label-container {text-align: center;}#sk-container-id-1 div.sk-container {/* jupyter's `normalize.less` sets `[hidden] { display: none; }` but bootstrap.min.css set `[hidden] { display: none !important; }` so we also need the `!important` here to be able to override the default hidden behavior on the sphinx rendered scikit-learn.org. See: https://github.com/scikit-learn/scikit-learn/issues/21755 */display: inline-block !important;position: relative;}#sk-container-id-1 div.sk-text-repr-fallback {display: none;}</style><div id=\"sk-container-id-1\" class=\"sk-top-container\"><div class=\"sk-text-repr-fallback\"><pre>DecisionTreeClassifier()</pre><b>In a Jupyter environment, please rerun this cell to show the HTML representation or trust the notebook. <br />On GitHub, the HTML representation is unable to render, please try loading this page with nbviewer.org.</b></div><div class=\"sk-container\" hidden><div class=\"sk-item\"><div class=\"sk-estimator sk-toggleable\"><input class=\"sk-toggleable__control sk-hidden--visually\" id=\"sk-estimator-id-1\" type=\"checkbox\" checked><label for=\"sk-estimator-id-1\" class=\"sk-toggleable__label sk-toggleable__label-arrow\">DecisionTreeClassifier</label><div class=\"sk-toggleable__content\"><pre>DecisionTreeClassifier()</pre></div></div></div></div></div>"
            ],
            "text/plain": [
              "DecisionTreeClassifier()"
            ]
          },
          "execution_count": 38,
          "metadata": {},
          "output_type": "execute_result"
        }
      ],
      "source": [
        "classifier = DecisionTreeClassifier(max_features=None)\n",
        "classifierDrink = DecisionTreeClassifier(max_features=None)\n",
        "classifier.fit(X, y)\n",
        "classifierDrink.fit(X, z)"
      ]
    },
    {
      "cell_type": "code",
      "execution_count": 39,
      "metadata": {
        "colab": {
          "base_uri": "https://localhost:8080/"
        },
        "id": "Y8dbnrcd9E8c",
        "outputId": "ca98fb2b-12e5-458a-d764-ff4e323e694e"
      },
      "outputs": [
        {
          "name": "stdout",
          "output_type": "stream",
          "text": [
            "True food:  ['Nasi goreng']\n",
            "['Sayur-sayuran']\n",
            "['Kopi']\n",
            "[[0. 0. 0. 0. 0. 0. 0. 1. 0. 0.]]\n"
          ]
        }
      ],
      "source": [
        "test = [[0., 1., 0., 0., 1., 4.]]\n",
        "true_f = [[0., 0., 0., 0., 0., 0., 1., 0., 0., 0.]]\n",
        "test_pred = classifier.predict(test)\n",
        "drink_pred = classifierDrink.predict(test)\n",
        "for i in true_f:\n",
        "  i = np.argmax(i)\n",
        "  i = leF.inverse_transform([i])\n",
        "  print(\"True food: \", i)\n",
        "for i in test_pred:\n",
        "  i = np.argmax(i)\n",
        "  i = leF.inverse_transform([i])\n",
        "  print(i)\n",
        "for i in drink_pred:\n",
        "  i = np.argmax(i)\n",
        "  i = leD.inverse_transform([i])\n",
        "  print(i)\n",
        "print(test_pred)"
      ]
    },
    {
      "cell_type": "code",
      "execution_count": 40,
      "metadata": {
        "id": "vJEsZKamyxtf"
      },
      "outputs": [],
      "source": [
        "y_class_pred = classifier.predict(X_test_data)\n",
        "z_class_pred = classifierDrink.predict(Xz_test_data)"
      ]
    },
    {
      "cell_type": "code",
      "execution_count": null,
      "metadata": {
        "id": "Z3JXGTqXlZlz"
      },
      "outputs": [],
      "source": [
        "y_class_pred = classifier.predict(X)\n",
        "z_class_pred = classifierDrink.predict(X)"
      ]
    },
    {
      "cell_type": "markdown",
      "metadata": {
        "id": "MxbjsR0-yzbt"
      },
      "source": [
        "## Regression model (doesn't work)"
      ]
    },
    {
      "cell_type": "code",
      "execution_count": null,
      "metadata": {
        "colab": {
          "base_uri": "https://localhost:8080/"
        },
        "id": "npOm6Asv9kCs",
        "outputId": "e27a4b08-7397-4293-f549-0bba75f98c40"
      },
      "outputs": [
        {
          "data": {
            "text/plain": [
              "DecisionTreeRegressor(random_state=0)"
            ]
          },
          "execution_count": 126,
          "metadata": {},
          "output_type": "execute_result"
        }
      ],
      "source": [
        "regressorFood = DecisionTreeRegressor(random_state=0)\n",
        "regressorDrink = DecisionTreeRegressor(random_state=0)\n",
        "regressorFood.fit(X_train_data, y_train_data)\n",
        "regressorDrink.fit(Xz_train_data, z_train_data)"
      ]
    },
    {
      "cell_type": "code",
      "execution_count": null,
      "metadata": {
        "id": "Uwche6eR9kCt"
      },
      "outputs": [],
      "source": [
        "y_pred = regressorFood.predict(X_test_data)\n",
        "z_pred = regressorDrink.predict(X_test_data)"
      ]
    },
    {
      "cell_type": "markdown",
      "metadata": {
        "id": "VpLPCfiyFtmN"
      },
      "source": [
        "## Random Forest"
      ]
    },
    {
      "cell_type": "code",
      "execution_count": 47,
      "metadata": {
        "id": "qDBy-de0FxKz"
      },
      "outputs": [],
      "source": [
        "forest_classY = RandomForestClassifier(200)\n",
        "forest_classZ = RandomForestClassifier(200)"
      ]
    },
    {
      "cell_type": "code",
      "execution_count": 48,
      "metadata": {
        "colab": {
          "base_uri": "https://localhost:8080/"
        },
        "id": "JWQXihCOF55W",
        "outputId": "fde17bff-2e7d-4a13-aad6-c795cba0348a"
      },
      "outputs": [
        {
          "data": {
            "text/html": [
              "<style>#sk-container-id-2 {color: black;background-color: white;}#sk-container-id-2 pre{padding: 0;}#sk-container-id-2 div.sk-toggleable {background-color: white;}#sk-container-id-2 label.sk-toggleable__label {cursor: pointer;display: block;width: 100%;margin-bottom: 0;padding: 0.3em;box-sizing: border-box;text-align: center;}#sk-container-id-2 label.sk-toggleable__label-arrow:before {content: \"▸\";float: left;margin-right: 0.25em;color: #696969;}#sk-container-id-2 label.sk-toggleable__label-arrow:hover:before {color: black;}#sk-container-id-2 div.sk-estimator:hover label.sk-toggleable__label-arrow:before {color: black;}#sk-container-id-2 div.sk-toggleable__content {max-height: 0;max-width: 0;overflow: hidden;text-align: left;background-color: #f0f8ff;}#sk-container-id-2 div.sk-toggleable__content pre {margin: 0.2em;color: black;border-radius: 0.25em;background-color: #f0f8ff;}#sk-container-id-2 input.sk-toggleable__control:checked~div.sk-toggleable__content {max-height: 200px;max-width: 100%;overflow: auto;}#sk-container-id-2 input.sk-toggleable__control:checked~label.sk-toggleable__label-arrow:before {content: \"▾\";}#sk-container-id-2 div.sk-estimator input.sk-toggleable__control:checked~label.sk-toggleable__label {background-color: #d4ebff;}#sk-container-id-2 div.sk-label input.sk-toggleable__control:checked~label.sk-toggleable__label {background-color: #d4ebff;}#sk-container-id-2 input.sk-hidden--visually {border: 0;clip: rect(1px 1px 1px 1px);clip: rect(1px, 1px, 1px, 1px);height: 1px;margin: -1px;overflow: hidden;padding: 0;position: absolute;width: 1px;}#sk-container-id-2 div.sk-estimator {font-family: monospace;background-color: #f0f8ff;border: 1px dotted black;border-radius: 0.25em;box-sizing: border-box;margin-bottom: 0.5em;}#sk-container-id-2 div.sk-estimator:hover {background-color: #d4ebff;}#sk-container-id-2 div.sk-parallel-item::after {content: \"\";width: 100%;border-bottom: 1px solid gray;flex-grow: 1;}#sk-container-id-2 div.sk-label:hover label.sk-toggleable__label {background-color: #d4ebff;}#sk-container-id-2 div.sk-serial::before {content: \"\";position: absolute;border-left: 1px solid gray;box-sizing: border-box;top: 0;bottom: 0;left: 50%;z-index: 0;}#sk-container-id-2 div.sk-serial {display: flex;flex-direction: column;align-items: center;background-color: white;padding-right: 0.2em;padding-left: 0.2em;position: relative;}#sk-container-id-2 div.sk-item {position: relative;z-index: 1;}#sk-container-id-2 div.sk-parallel {display: flex;align-items: stretch;justify-content: center;background-color: white;position: relative;}#sk-container-id-2 div.sk-item::before, #sk-container-id-2 div.sk-parallel-item::before {content: \"\";position: absolute;border-left: 1px solid gray;box-sizing: border-box;top: 0;bottom: 0;left: 50%;z-index: -1;}#sk-container-id-2 div.sk-parallel-item {display: flex;flex-direction: column;z-index: 1;position: relative;background-color: white;}#sk-container-id-2 div.sk-parallel-item:first-child::after {align-self: flex-end;width: 50%;}#sk-container-id-2 div.sk-parallel-item:last-child::after {align-self: flex-start;width: 50%;}#sk-container-id-2 div.sk-parallel-item:only-child::after {width: 0;}#sk-container-id-2 div.sk-dashed-wrapped {border: 1px dashed gray;margin: 0 0.4em 0.5em 0.4em;box-sizing: border-box;padding-bottom: 0.4em;background-color: white;}#sk-container-id-2 div.sk-label label {font-family: monospace;font-weight: bold;display: inline-block;line-height: 1.2em;}#sk-container-id-2 div.sk-label-container {text-align: center;}#sk-container-id-2 div.sk-container {/* jupyter's `normalize.less` sets `[hidden] { display: none; }` but bootstrap.min.css set `[hidden] { display: none !important; }` so we also need the `!important` here to be able to override the default hidden behavior on the sphinx rendered scikit-learn.org. See: https://github.com/scikit-learn/scikit-learn/issues/21755 */display: inline-block !important;position: relative;}#sk-container-id-2 div.sk-text-repr-fallback {display: none;}</style><div id=\"sk-container-id-2\" class=\"sk-top-container\"><div class=\"sk-text-repr-fallback\"><pre>RandomForestClassifier(n_estimators=200)</pre><b>In a Jupyter environment, please rerun this cell to show the HTML representation or trust the notebook. <br />On GitHub, the HTML representation is unable to render, please try loading this page with nbviewer.org.</b></div><div class=\"sk-container\" hidden><div class=\"sk-item\"><div class=\"sk-estimator sk-toggleable\"><input class=\"sk-toggleable__control sk-hidden--visually\" id=\"sk-estimator-id-2\" type=\"checkbox\" checked><label for=\"sk-estimator-id-2\" class=\"sk-toggleable__label sk-toggleable__label-arrow\">RandomForestClassifier</label><div class=\"sk-toggleable__content\"><pre>RandomForestClassifier(n_estimators=200)</pre></div></div></div></div></div>"
            ],
            "text/plain": [
              "RandomForestClassifier(n_estimators=200)"
            ]
          },
          "execution_count": 48,
          "metadata": {},
          "output_type": "execute_result"
        }
      ],
      "source": [
        "forest_classY.fit(X, y)\n",
        "forest_classZ.fit(X, z)"
      ]
    },
    {
      "cell_type": "code",
      "execution_count": null,
      "metadata": {
        "colab": {
          "base_uri": "https://localhost:8080/"
        },
        "id": "tPv6YWpVGaN3",
        "outputId": "eafe93c8-d2c0-4f71-c9ea-3b2094ea411c"
      },
      "outputs": [
        {
          "data": {
            "text/plain": [
              "RandomForestClassifier(n_estimators=200)"
            ]
          },
          "execution_count": 104,
          "metadata": {},
          "output_type": "execute_result"
        }
      ],
      "source": [
        "forest_classY.fit(X_train_data, y_train_data)\n",
        "forest_classZ.fit(Xz_train_data, z_train_data)"
      ]
    },
    {
      "cell_type": "code",
      "execution_count": 49,
      "metadata": {
        "id": "OXcTImPfGLvn"
      },
      "outputs": [],
      "source": [
        "forest_classY_pred = forest_classY.predict(X_test_data)\n",
        "forest_classZ_pred = forest_classZ.predict(Xz_test_data)"
      ]
    },
    {
      "cell_type": "markdown",
      "metadata": {
        "id": "0EeWSCzvFAoI"
      },
      "source": [
        "Test random forest"
      ]
    },
    {
      "cell_type": "code",
      "execution_count": 52,
      "metadata": {
        "colab": {
          "base_uri": "https://localhost:8080/"
        },
        "id": "erEHIS3OFCrG",
        "outputId": "6dd725df-3953-41c1-a563-4cb91691ecf5"
      },
      "outputs": [
        {
          "name": "stdout",
          "output_type": "stream",
          "text": [
            "True food:  ['Nasi goreng']\n",
            "['Sayur-sayuran']\n",
            "['Kopi']\n",
            "[[0. 0. 0. 0. 0. 0. 0. 1. 0. 0.]]\n"
          ]
        }
      ],
      "source": [
        "test = [[0., 1., 0., 0., 1., 4.]]\n",
        "true_f = [[0., 0., 0., 0., 0., 0., 1., 0., 0., 0.]]\n",
        "forest_test_pred = forest_classY.predict(test)\n",
        "forest_drink_pred = forest_classZ.predict(test)\n",
        "for i in true_f:\n",
        "  i = np.argmax(i)\n",
        "  i = leF.inverse_transform([i])\n",
        "  print(\"True food: \", i)\n",
        "for i in forest_test_pred:\n",
        "  i = np.argmax(i)\n",
        "  i = leF.inverse_transform([i])\n",
        "  print(i)\n",
        "for i in forest_drink_pred:\n",
        "  i = np.argmax(i)\n",
        "  i = leD.inverse_transform([i])\n",
        "  print(i)\n",
        "print(forest_test_pred)"
      ]
    },
    {
      "cell_type": "markdown",
      "metadata": {
        "id": "b5aY1bPb9kCu"
      },
      "source": [
        "# FOR ACCURACY"
      ]
    },
    {
      "cell_type": "code",
      "execution_count": 41,
      "metadata": {
        "id": "dhFUYRytfz55"
      },
      "outputs": [],
      "source": [
        "from sklearn.metrics import classification_report"
      ]
    },
    {
      "cell_type": "markdown",
      "metadata": {
        "id": "ZuQmOPFvli0y"
      },
      "source": [
        "SPLIT TRAIN TEST REPORT"
      ]
    },
    {
      "cell_type": "code",
      "execution_count": 42,
      "metadata": {
        "id": "OpQqyq0zf6o9"
      },
      "outputs": [
        {
          "name": "stdout",
          "output_type": "stream",
          "text": [
            "              precision    recall  f1-score   support\n",
            "\n",
            "           0       0.50      0.40      0.44         5\n",
            "           1       0.00      0.00      0.00         3\n",
            "           2       0.00      0.00      0.00         2\n",
            "           3       0.00      0.00      0.00         1\n",
            "           4       0.00      0.00      0.00         1\n",
            "           5       0.75      0.75      0.75         4\n",
            "           6       1.00      0.20      0.33         5\n",
            "           7       1.00      0.50      0.67         2\n",
            "           8       0.00      0.00      0.00         5\n",
            "           9       1.00      0.50      0.67         2\n",
            "\n",
            "   micro avg       0.67      0.27      0.38        30\n",
            "   macro avg       0.42      0.24      0.29        30\n",
            "weighted avg       0.48      0.27      0.32        30\n",
            " samples avg       0.27      0.27      0.27        30\n",
            "\n"
          ]
        },
        {
          "name": "stderr",
          "output_type": "stream",
          "text": [
            "c:\\Users\\senoa.DESKTOP-TRKAE2C\\AppData\\Local\\Programs\\Python\\Python310\\lib\\site-packages\\sklearn\\metrics\\_classification.py:1327: UndefinedMetricWarning: Precision and F-score are ill-defined and being set to 0.0 in labels with no predicted samples. Use `zero_division` parameter to control this behavior.\n",
            "  _warn_prf(average, modifier, msg_start, len(result))\n",
            "c:\\Users\\senoa.DESKTOP-TRKAE2C\\AppData\\Local\\Programs\\Python\\Python310\\lib\\site-packages\\sklearn\\metrics\\_classification.py:1327: UndefinedMetricWarning: Precision and F-score are ill-defined and being set to 0.0 in samples with no predicted labels. Use `zero_division` parameter to control this behavior.\n",
            "  _warn_prf(average, modifier, msg_start, len(result))\n"
          ]
        }
      ],
      "source": [
        "print(classification_report(y_test_data, y_class_pred))"
      ]
    },
    {
      "cell_type": "code",
      "execution_count": 43,
      "metadata": {
        "id": "xtR7v4bWlOf1"
      },
      "outputs": [
        {
          "name": "stdout",
          "output_type": "stream",
          "text": [
            "              precision    recall  f1-score   support\n",
            "\n",
            "           0       0.00      0.00      0.00         1\n",
            "           1       0.67      0.33      0.44         6\n",
            "           2       0.60      0.50      0.55         6\n",
            "           3       1.00      1.00      1.00         1\n",
            "           4       0.67      0.40      0.50         5\n",
            "           5       1.00      0.25      0.40         4\n",
            "           6       0.00      0.00      0.00         2\n",
            "           7       1.00      0.20      0.33         5\n",
            "\n",
            "   micro avg       0.71      0.33      0.45        30\n",
            "   macro avg       0.62      0.34      0.40        30\n",
            "weighted avg       0.70      0.33      0.42        30\n",
            " samples avg       0.33      0.33      0.33        30\n",
            "\n"
          ]
        },
        {
          "name": "stderr",
          "output_type": "stream",
          "text": [
            "c:\\Users\\senoa.DESKTOP-TRKAE2C\\AppData\\Local\\Programs\\Python\\Python310\\lib\\site-packages\\sklearn\\metrics\\_classification.py:1327: UndefinedMetricWarning: Precision and F-score are ill-defined and being set to 0.0 in labels with no predicted samples. Use `zero_division` parameter to control this behavior.\n",
            "  _warn_prf(average, modifier, msg_start, len(result))\n",
            "c:\\Users\\senoa.DESKTOP-TRKAE2C\\AppData\\Local\\Programs\\Python\\Python310\\lib\\site-packages\\sklearn\\metrics\\_classification.py:1327: UndefinedMetricWarning: Precision and F-score are ill-defined and being set to 0.0 in samples with no predicted labels. Use `zero_division` parameter to control this behavior.\n",
            "  _warn_prf(average, modifier, msg_start, len(result))\n"
          ]
        }
      ],
      "source": [
        "print(classification_report(z_test_data, z_class_pred))"
      ]
    },
    {
      "cell_type": "markdown",
      "metadata": {
        "id": "Ba8qFo5QllRz"
      },
      "source": [
        "NOT SPLIT REPORT"
      ]
    },
    {
      "cell_type": "code",
      "execution_count": null,
      "metadata": {
        "id": "QuUA8kaWlnvh"
      },
      "outputs": [],
      "source": [
        "print(classification_report(y, y_class_pred))"
      ]
    },
    {
      "cell_type": "code",
      "execution_count": null,
      "metadata": {
        "id": "6kzuyNa_lvDu"
      },
      "outputs": [],
      "source": [
        "print(classification_report(z, z_class_pred))"
      ]
    },
    {
      "cell_type": "markdown",
      "metadata": {
        "id": "sY1GHXS0Dk4F"
      },
      "source": [
        "NOT SPLIT FOREST REPORT"
      ]
    },
    {
      "cell_type": "code",
      "execution_count": null,
      "metadata": {
        "colab": {
          "base_uri": "https://localhost:8080/",
          "height": 311
        },
        "id": "XR1LPtV8Dm1v",
        "outputId": "99c32a61-5e82-4bed-ea3c-fa09eff7eeeb"
      },
      "outputs": [],
      "source": [
        "print(classification_report(y_test_data, forest_classY))"
      ]
    },
    {
      "cell_type": "code",
      "execution_count": null,
      "metadata": {
        "id": "6XOPlAn9Dwtd"
      },
      "outputs": [],
      "source": [
        "print(classification_report(z_test_data, forest_classZ))"
      ]
    },
    {
      "cell_type": "markdown",
      "metadata": {
        "id": "v-u6ZiX5gfgu"
      },
      "source": [
        "Classifier"
      ]
    },
    {
      "cell_type": "code",
      "execution_count": 44,
      "metadata": {
        "id": "cjHihyWsCk8Q"
      },
      "outputs": [],
      "source": [
        "from sklearn.metrics import accuracy_score"
      ]
    },
    {
      "cell_type": "code",
      "execution_count": 45,
      "metadata": {
        "colab": {
          "base_uri": "https://localhost:8080/"
        },
        "id": "YS_Y1NtAgISu",
        "outputId": "40343049-4c69-41db-a492-f0e222587032"
      },
      "outputs": [
        {
          "name": "stdout",
          "output_type": "stream",
          "text": [
            "0.26666666666666666\n",
            "0.3333333333333333\n"
          ]
        }
      ],
      "source": [
        "ClassAcc = accuracy_score(y_test_data, y_class_pred)\n",
        "DrinkAcc = accuracy_score(z_test_data, z_class_pred)\n",
        "print(ClassAcc)\n",
        "print(DrinkAcc)"
      ]
    },
    {
      "cell_type": "code",
      "execution_count": null,
      "metadata": {
        "colab": {
          "base_uri": "https://localhost:8080/"
        },
        "id": "5uUDNlW0l0bA",
        "outputId": "17fd890d-2327-4587-fdd4-3b90266a1c0f"
      },
      "outputs": [
        {
          "name": "stdout",
          "output_type": "stream",
          "text": [
            "0.25252525252525254\n",
            "0.24242424242424243\n"
          ]
        }
      ],
      "source": [
        "ClassAcc = accuracy_score(y, y_class_pred)\n",
        "DrinkAcc = accuracy_score(z, z_class_pred)\n",
        "print(ClassAcc)\n",
        "print(DrinkAcc)"
      ]
    },
    {
      "cell_type": "markdown",
      "metadata": {
        "id": "zezPA2bjGb7q"
      },
      "source": [
        "Random forest"
      ]
    },
    {
      "cell_type": "code",
      "execution_count": null,
      "metadata": {
        "colab": {
          "base_uri": "https://localhost:8080/"
        },
        "id": "A3COFKoHGdcp",
        "outputId": "305298a2-f712-43ee-b48d-914fef375881"
      },
      "outputs": [
        {
          "name": "stdout",
          "output_type": "stream",
          "text": [
            "0.26666666666666666\n",
            "0.3333333333333333\n"
          ]
        }
      ],
      "source": [
        "forestYAcc = accuracy_score(y_test_data, forest_classY_pred)\n",
        "forestZAcc = accuracy_score(z_test_data, forest_classZ_pred)\n",
        "print(forestYAcc)\n",
        "print(forestZAcc)"
      ]
    },
    {
      "cell_type": "markdown",
      "metadata": {
        "id": "G2zYtg9-ghkr"
      },
      "source": [
        "Regression"
      ]
    },
    {
      "cell_type": "code",
      "execution_count": null,
      "metadata": {
        "id": "G89e9Kuh9kCu"
      },
      "outputs": [],
      "source": [
        "foodAcc = accuracy_score(y_test_data, y_pred)\n",
        "drinkAcc = accuracy_score(z_test_data, z_pred)\n",
        "print(f\"Food accuracy: \", foodAcc * 100)\n",
        "print(f\"Drink accuracy: \", drinkAcc * 100)"
      ]
    },
    {
      "cell_type": "markdown",
      "metadata": {
        "id": "HxZ-XhlK29L2"
      },
      "source": [
        "# Testing"
      ]
    },
    {
      "cell_type": "code",
      "execution_count": null,
      "metadata": {
        "id": "g2TfxOqk3gjg"
      },
      "outputs": [],
      "source": [
        "X"
      ]
    },
    {
      "cell_type": "code",
      "execution_count": 1,
      "metadata": {
        "id": "pV0F6N6l3AmV"
      },
      "outputs": [],
      "source": [
        "test = [[0., 1., 0., 0., 1., 4.]]"
      ]
    },
    {
      "cell_type": "code",
      "execution_count": null,
      "metadata": {
        "id": "_wpo2k7T3Mjd"
      },
      "outputs": [],
      "source": [
        "testF_pred = forest_classY.predict(test)\n",
        "testD_pred = forest_classZ.predict(test)"
      ]
    },
    {
      "cell_type": "code",
      "execution_count": null,
      "metadata": {
        "colab": {
          "base_uri": "https://localhost:8080/"
        },
        "id": "EjZfY7Lk3WoG",
        "outputId": "a9d64f0d-856f-4e21-d5ed-7644fea52cd0"
      },
      "outputs": [
        {
          "name": "stdout",
          "output_type": "stream",
          "text": [
            "[[0. 0. 0. 0. 0. 0. 0. 0. 0. 0.]]\n",
            "[[0. 0. 0. 0. 0. 0. 0. 0.]]\n"
          ]
        }
      ],
      "source": [
        "print(testF_pred)\n",
        "print(testD_pred)"
      ]
    },
    {
      "cell_type": "markdown",
      "metadata": {},
      "source": [
        "# Saving the model"
      ]
    },
    {
      "cell_type": "code",
      "execution_count": 46,
      "metadata": {},
      "outputs": [],
      "source": [
        "import pickle"
      ]
    },
    {
      "cell_type": "code",
      "execution_count": 53,
      "metadata": {},
      "outputs": [],
      "source": [
        "saved_model = {\"model_food\": forest_classY, \"model_drink\": forest_classZ, \"age_ENC\": leA,\n",
        "                \"food_ENC\": leF, \"drink_ENC\": leD, \"food_ohe\": ohF, \"drink_ohe\": ohD\n",
        "                }\n",
        "with open(\"saved_model.pkl\", 'wb') as file:\n",
        "    pickle.dump(saved_model, file)"
      ]
    },
    {
      "cell_type": "markdown",
      "metadata": {},
      "source": [
        "# TEST PICKLE"
      ]
    },
    {
      "cell_type": "code",
      "execution_count": 55,
      "metadata": {},
      "outputs": [],
      "source": [
        "with open('saved_model.pkl', 'rb') as file:\n",
        "    model = pickle.load(file)\n",
        "\n",
        "#model\n",
        "forestModelFood = model[\"model_food\"]\n",
        "forestModelDrink = model[\"model_drink\"]\n",
        "\n",
        "#encoder\n",
        "age_LE = model[\"age_ENC\"]\n",
        "food_LE = model[\"food_ENC\"]\n",
        "drink_LE = model[\"drink_ENC\"]\n",
        "\n",
        "food_ohe = model[\"food_ohe\"]\n",
        "drink_ohe = model[\"drink_ohe\"]"
      ]
    }
  ],
  "metadata": {
    "colab": {
      "collapsed_sections": [],
      "name": "foodMoodPredict.ipynb",
      "provenance": []
    },
    "kernelspec": {
      "display_name": "Python 3.10.5 64-bit",
      "language": "python",
      "name": "python3"
    },
    "language_info": {
      "codemirror_mode": {
        "name": "ipython",
        "version": 3
      },
      "file_extension": ".py",
      "mimetype": "text/x-python",
      "name": "python",
      "nbconvert_exporter": "python",
      "pygments_lexer": "ipython3",
      "version": "3.10.5"
    },
    "orig_nbformat": 4,
    "vscode": {
      "interpreter": {
        "hash": "6adba92ea4630946933a208615a617445025cd010f5fb1bae6c958b3be96bffd"
      }
    }
  },
  "nbformat": 4,
  "nbformat_minor": 0
}
