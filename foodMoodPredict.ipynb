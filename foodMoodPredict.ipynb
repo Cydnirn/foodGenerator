{
  "cells": [
    {
      "cell_type": "markdown",
      "metadata": {
<<<<<<< HEAD
        "id": "1drx2OXuaRCd"
      },
      "source": [
        "# Read Only, Don't Execute"
      ]
    },
    {
      "cell_type": "markdown",
      "metadata": {
=======
>>>>>>> f14c4eb5f5b2605a3f95e598977ae9cb0386e17b
        "id": "e7x2dKQG9kB8"
      },
      "source": [
        "Change \";\" into \",\""
      ]
    },
    {
      "cell_type": "code",
      "execution_count": null,
      "metadata": {
        "id": "RZb96UKF9kCG"
      },
      "outputs": [],
      "source": [
        "import os\n",
        "with open('model/test.csv', 'r') as file:\n",
        "    filedata = file.read()\n",
        "    filedata = filedata.replace(';', ',')\n",
        "\n",
        "    with open('model/test.csv', 'w') as file:\n",
        "        file.write(filedata)"
      ]
    },
    {
      "cell_type": "markdown",
      "metadata": {
<<<<<<< HEAD
        "id": "D5e7FEtUaXFz"
      },
      "source": [
        "To inverse Label encoding, simply run\n",
        "\n",
        "<font color = 'red'>[corresponding Label Encoder variable]</font>.inverse_transform(<font color = 'red'>[value]</font>)\n",
        "\n",
        "Example"
      ]
    },
    {
      "cell_type": "code",
      "execution_count": null,
      "metadata": {
        "id": "tBS1nSf8asJM"
      },
      "outputs": [],
      "source": [
        "#leA = Label Encoder for age\n",
        "leA.inverse_transform([0])\n",
        "#will print out \"Anak - anak\""
      ]
    },
    {
      "cell_type": "markdown",
      "metadata": {
        "id": "NYqcPK-SdGof"
      },
      "source": [
        "To inverse OneHotEncoder however:"
      ]
    },
    {
      "cell_type": "code",
      "execution_count": null,
      "metadata": {
        "id": "2gjPxH4Mc-Hb"
      },
      "outputs": [],
      "source": [
        "#y is the variable that's already encoded\n",
        "for i in y:\n",
        "  i = np.argmax(i)"
      ]
    },
    {
      "cell_type": "markdown",
      "metadata": {
        "id": "RqWB4rOU9kCL"
      },
      "source": [
        "# CODE STARTS HERE"
=======
        "id": "RqWB4rOU9kCL"
      },
      "source": [
        "CODE STARTS HERE"
>>>>>>> f14c4eb5f5b2605a3f95e598977ae9cb0386e17b
      ]
    },
    {
      "cell_type": "code",
<<<<<<< HEAD
      "execution_count": 1,
=======
      "execution_count": 2,
>>>>>>> f14c4eb5f5b2605a3f95e598977ae9cb0386e17b
      "metadata": {
        "id": "67YFBqjJ9kCM"
      },
      "outputs": [],
      "source": [
        "import numpy as np\n",
        "import seaborn as sns\n",
        "import pandas as pd\n",
<<<<<<< HEAD
        "from sklearn.tree import DecisionTreeRegressor\n",
        "from sklearn.tree import DecisionTreeClassifier\n",
        "from sklearn.ensemble import RandomForestClassifier"
=======
        "from sklearn.tree import DecisionTreeRegressor"
>>>>>>> f14c4eb5f5b2605a3f95e598977ae9cb0386e17b
      ]
    },
    {
      "cell_type": "code",
<<<<<<< HEAD
      "execution_count": 35,
=======
      "execution_count": 4,
>>>>>>> f14c4eb5f5b2605a3f95e598977ae9cb0386e17b
      "metadata": {
        "colab": {
          "base_uri": "https://localhost:8080/",
          "height": 206
        },
        "id": "Mowm9AcC9kCO",
<<<<<<< HEAD
        "outputId": "fba429b6-30ab-44a9-a09c-8823034cf7e8"
      },
      "outputs": [
        {
          "data": {
            "text/html": [
              "<div>\n",
=======
        "outputId": "d20a2ffa-2987-44b2-9265-eafa65fc2167"
      },
      "outputs": [
        {
          "output_type": "execute_result",
          "data": {
            "text/plain": [
              "  Jenis Kelamin  Umur Lokasi    Mood Rekomendasi Makanan Rekomendasi Minuman\n",
              "0   Laki - Laki    17    NaN  Senang         Nasi goreng     Minuman bersoda\n",
              "1   Laki - Laki    17    NaN  Senang             Cokelat     Minuman bersoda\n",
              "2   Laki - Laki    17    NaN   Marah           Mie pedas         Air mineral\n",
              "3   Laki - Laki    20    NaN   Marah              Seblak         Air mineral\n",
              "4   Laki - Laki    25    NaN   Sedih       Sayur-sayuran                 Teh"
            ],
            "text/html": [
              "\n",
              "  <div id=\"df-70943c59-9669-462f-a7ba-54cc7ebef777\">\n",
              "    <div class=\"colab-df-container\">\n",
              "      <div>\n",
>>>>>>> f14c4eb5f5b2605a3f95e598977ae9cb0386e17b
              "<style scoped>\n",
              "    .dataframe tbody tr th:only-of-type {\n",
              "        vertical-align: middle;\n",
              "    }\n",
              "\n",
              "    .dataframe tbody tr th {\n",
              "        vertical-align: top;\n",
              "    }\n",
              "\n",
              "    .dataframe thead th {\n",
              "        text-align: right;\n",
              "    }\n",
              "</style>\n",
              "<table border=\"1\" class=\"dataframe\">\n",
              "  <thead>\n",
              "    <tr style=\"text-align: right;\">\n",
              "      <th></th>\n",
              "      <th>Jenis Kelamin</th>\n",
              "      <th>Umur</th>\n",
              "      <th>Lokasi</th>\n",
              "      <th>Mood</th>\n",
              "      <th>Rekomendasi Makanan</th>\n",
              "      <th>Rekomendasi Minuman</th>\n",
              "    </tr>\n",
              "  </thead>\n",
              "  <tbody>\n",
              "    <tr>\n",
              "      <th>0</th>\n",
              "      <td>Laki - Laki</td>\n",
              "      <td>17</td>\n",
              "      <td>NaN</td>\n",
              "      <td>Senang</td>\n",
              "      <td>Nasi goreng</td>\n",
              "      <td>Minuman bersoda</td>\n",
              "    </tr>\n",
              "    <tr>\n",
              "      <th>1</th>\n",
              "      <td>Laki - Laki</td>\n",
              "      <td>17</td>\n",
              "      <td>NaN</td>\n",
              "      <td>Senang</td>\n",
              "      <td>Cokelat</td>\n",
              "      <td>Minuman bersoda</td>\n",
              "    </tr>\n",
              "    <tr>\n",
              "      <th>2</th>\n",
              "      <td>Laki - Laki</td>\n",
              "      <td>17</td>\n",
              "      <td>NaN</td>\n",
              "      <td>Marah</td>\n",
              "      <td>Mie pedas</td>\n",
              "      <td>Air mineral</td>\n",
              "    </tr>\n",
              "    <tr>\n",
              "      <th>3</th>\n",
              "      <td>Laki - Laki</td>\n",
              "      <td>20</td>\n",
              "      <td>NaN</td>\n",
              "      <td>Marah</td>\n",
              "      <td>Seblak</td>\n",
              "      <td>Air mineral</td>\n",
              "    </tr>\n",
              "    <tr>\n",
              "      <th>4</th>\n",
              "      <td>Laki - Laki</td>\n",
              "      <td>25</td>\n",
              "      <td>NaN</td>\n",
              "      <td>Sedih</td>\n",
              "      <td>Sayur-sayuran</td>\n",
              "      <td>Teh</td>\n",
              "    </tr>\n",
              "  </tbody>\n",
              "</table>\n",
<<<<<<< HEAD
              "</div>"
            ],
            "text/plain": [
              "  Jenis Kelamin  Umur Lokasi    Mood Rekomendasi Makanan Rekomendasi Minuman\n",
              "0   Laki - Laki    17    NaN  Senang         Nasi goreng     Minuman bersoda\n",
              "1   Laki - Laki    17    NaN  Senang             Cokelat     Minuman bersoda\n",
              "2   Laki - Laki    17    NaN   Marah           Mie pedas         Air mineral\n",
              "3   Laki - Laki    20    NaN   Marah              Seblak         Air mineral\n",
              "4   Laki - Laki    25    NaN   Sedih       Sayur-sayuran                 Teh"
            ]
          },
          "execution_count": 35,
          "metadata": {},
          "output_type": "execute_result"
=======
              "</div>\n",
              "      <button class=\"colab-df-convert\" onclick=\"convertToInteractive('df-70943c59-9669-462f-a7ba-54cc7ebef777')\"\n",
              "              title=\"Convert this dataframe to an interactive table.\"\n",
              "              style=\"display:none;\">\n",
              "        \n",
              "  <svg xmlns=\"http://www.w3.org/2000/svg\" height=\"24px\"viewBox=\"0 0 24 24\"\n",
              "       width=\"24px\">\n",
              "    <path d=\"M0 0h24v24H0V0z\" fill=\"none\"/>\n",
              "    <path d=\"M18.56 5.44l.94 2.06.94-2.06 2.06-.94-2.06-.94-.94-2.06-.94 2.06-2.06.94zm-11 1L8.5 8.5l.94-2.06 2.06-.94-2.06-.94L8.5 2.5l-.94 2.06-2.06.94zm10 10l.94 2.06.94-2.06 2.06-.94-2.06-.94-.94-2.06-.94 2.06-2.06.94z\"/><path d=\"M17.41 7.96l-1.37-1.37c-.4-.4-.92-.59-1.43-.59-.52 0-1.04.2-1.43.59L10.3 9.45l-7.72 7.72c-.78.78-.78 2.05 0 2.83L4 21.41c.39.39.9.59 1.41.59.51 0 1.02-.2 1.41-.59l7.78-7.78 2.81-2.81c.8-.78.8-2.07 0-2.86zM5.41 20L4 18.59l7.72-7.72 1.47 1.35L5.41 20z\"/>\n",
              "  </svg>\n",
              "      </button>\n",
              "      \n",
              "  <style>\n",
              "    .colab-df-container {\n",
              "      display:flex;\n",
              "      flex-wrap:wrap;\n",
              "      gap: 12px;\n",
              "    }\n",
              "\n",
              "    .colab-df-convert {\n",
              "      background-color: #E8F0FE;\n",
              "      border: none;\n",
              "      border-radius: 50%;\n",
              "      cursor: pointer;\n",
              "      display: none;\n",
              "      fill: #1967D2;\n",
              "      height: 32px;\n",
              "      padding: 0 0 0 0;\n",
              "      width: 32px;\n",
              "    }\n",
              "\n",
              "    .colab-df-convert:hover {\n",
              "      background-color: #E2EBFA;\n",
              "      box-shadow: 0px 1px 2px rgba(60, 64, 67, 0.3), 0px 1px 3px 1px rgba(60, 64, 67, 0.15);\n",
              "      fill: #174EA6;\n",
              "    }\n",
              "\n",
              "    [theme=dark] .colab-df-convert {\n",
              "      background-color: #3B4455;\n",
              "      fill: #D2E3FC;\n",
              "    }\n",
              "\n",
              "    [theme=dark] .colab-df-convert:hover {\n",
              "      background-color: #434B5C;\n",
              "      box-shadow: 0px 1px 3px 1px rgba(0, 0, 0, 0.15);\n",
              "      filter: drop-shadow(0px 1px 2px rgba(0, 0, 0, 0.3));\n",
              "      fill: #FFFFFF;\n",
              "    }\n",
              "  </style>\n",
              "\n",
              "      <script>\n",
              "        const buttonEl =\n",
              "          document.querySelector('#df-70943c59-9669-462f-a7ba-54cc7ebef777 button.colab-df-convert');\n",
              "        buttonEl.style.display =\n",
              "          google.colab.kernel.accessAllowed ? 'block' : 'none';\n",
              "\n",
              "        async function convertToInteractive(key) {\n",
              "          const element = document.querySelector('#df-70943c59-9669-462f-a7ba-54cc7ebef777');\n",
              "          const dataTable =\n",
              "            await google.colab.kernel.invokeFunction('convertToInteractive',\n",
              "                                                     [key], {});\n",
              "          if (!dataTable) return;\n",
              "\n",
              "          const docLinkHtml = 'Like what you see? Visit the ' +\n",
              "            '<a target=\"_blank\" href=https://colab.research.google.com/notebooks/data_table.ipynb>data table notebook</a>'\n",
              "            + ' to learn more about interactive tables.';\n",
              "          element.innerHTML = '';\n",
              "          dataTable['output_type'] = 'display_data';\n",
              "          await google.colab.output.renderOutput(dataTable, element);\n",
              "          const docLink = document.createElement('div');\n",
              "          docLink.innerHTML = docLinkHtml;\n",
              "          element.appendChild(docLink);\n",
              "        }\n",
              "      </script>\n",
              "    </div>\n",
              "  </div>\n",
              "  "
            ]
          },
          "metadata": {},
          "execution_count": 4
>>>>>>> f14c4eb5f5b2605a3f95e598977ae9cb0386e17b
        }
      ],
      "source": [
        "data = pd.read_csv(\"model/survey.csv\")\n",
        "data.head()"
      ]
    },
    {
      "cell_type": "code",
<<<<<<< HEAD
      "execution_count": 36,
=======
      "execution_count": 5,
>>>>>>> f14c4eb5f5b2605a3f95e598977ae9cb0386e17b
      "metadata": {
        "colab": {
          "base_uri": "https://localhost:8080/",
          "height": 206
        },
        "id": "FSltkiom9kCS",
<<<<<<< HEAD
        "outputId": "d57f9732-53d1-4b96-8335-cf643cd7ddf7"
      },
      "outputs": [
        {
          "data": {
            "text/html": [
              "<div>\n",
=======
        "outputId": "addc3524-fce5-45b9-9c2d-965f76a47728"
      },
      "outputs": [
        {
          "output_type": "execute_result",
          "data": {
            "text/plain": [
              "  Jenis Kelamin  Umur          Lokasi    Mood Rekomendasi Makanan  \\\n",
              "0   Laki - Laki    17  Tidak Tersedia  Senang         Nasi goreng   \n",
              "1   Laki - Laki    17  Tidak Tersedia  Senang             Cokelat   \n",
              "2   Laki - Laki    17  Tidak Tersedia   Marah           Mie pedas   \n",
              "3   Laki - Laki    20  Tidak Tersedia   Marah              Seblak   \n",
              "4   Laki - Laki    25  Tidak Tersedia   Sedih       Sayur-sayuran   \n",
              "\n",
              "  Rekomendasi Minuman  \n",
              "0     Minuman bersoda  \n",
              "1     Minuman bersoda  \n",
              "2         Air mineral  \n",
              "3         Air mineral  \n",
              "4                 Teh  "
            ],
            "text/html": [
              "\n",
              "  <div id=\"df-1b6f4075-01bc-4666-937c-6c438c533802\">\n",
              "    <div class=\"colab-df-container\">\n",
              "      <div>\n",
>>>>>>> f14c4eb5f5b2605a3f95e598977ae9cb0386e17b
              "<style scoped>\n",
              "    .dataframe tbody tr th:only-of-type {\n",
              "        vertical-align: middle;\n",
              "    }\n",
              "\n",
              "    .dataframe tbody tr th {\n",
              "        vertical-align: top;\n",
              "    }\n",
              "\n",
              "    .dataframe thead th {\n",
              "        text-align: right;\n",
              "    }\n",
              "</style>\n",
              "<table border=\"1\" class=\"dataframe\">\n",
              "  <thead>\n",
              "    <tr style=\"text-align: right;\">\n",
              "      <th></th>\n",
              "      <th>Jenis Kelamin</th>\n",
              "      <th>Umur</th>\n",
              "      <th>Lokasi</th>\n",
              "      <th>Mood</th>\n",
              "      <th>Rekomendasi Makanan</th>\n",
              "      <th>Rekomendasi Minuman</th>\n",
              "    </tr>\n",
              "  </thead>\n",
              "  <tbody>\n",
              "    <tr>\n",
              "      <th>0</th>\n",
              "      <td>Laki - Laki</td>\n",
              "      <td>17</td>\n",
              "      <td>Tidak Tersedia</td>\n",
              "      <td>Senang</td>\n",
              "      <td>Nasi goreng</td>\n",
              "      <td>Minuman bersoda</td>\n",
              "    </tr>\n",
              "    <tr>\n",
              "      <th>1</th>\n",
              "      <td>Laki - Laki</td>\n",
              "      <td>17</td>\n",
              "      <td>Tidak Tersedia</td>\n",
              "      <td>Senang</td>\n",
              "      <td>Cokelat</td>\n",
              "      <td>Minuman bersoda</td>\n",
              "    </tr>\n",
              "    <tr>\n",
              "      <th>2</th>\n",
              "      <td>Laki - Laki</td>\n",
              "      <td>17</td>\n",
              "      <td>Tidak Tersedia</td>\n",
              "      <td>Marah</td>\n",
              "      <td>Mie pedas</td>\n",
              "      <td>Air mineral</td>\n",
              "    </tr>\n",
              "    <tr>\n",
              "      <th>3</th>\n",
              "      <td>Laki - Laki</td>\n",
              "      <td>20</td>\n",
              "      <td>Tidak Tersedia</td>\n",
              "      <td>Marah</td>\n",
              "      <td>Seblak</td>\n",
              "      <td>Air mineral</td>\n",
              "    </tr>\n",
              "    <tr>\n",
              "      <th>4</th>\n",
              "      <td>Laki - Laki</td>\n",
              "      <td>25</td>\n",
              "      <td>Tidak Tersedia</td>\n",
              "      <td>Sedih</td>\n",
              "      <td>Sayur-sayuran</td>\n",
              "      <td>Teh</td>\n",
              "    </tr>\n",
              "  </tbody>\n",
              "</table>\n",
<<<<<<< HEAD
              "</div>"
            ],
            "text/plain": [
              "  Jenis Kelamin  Umur          Lokasi    Mood Rekomendasi Makanan  \\\n",
              "0   Laki - Laki    17  Tidak Tersedia  Senang         Nasi goreng   \n",
              "1   Laki - Laki    17  Tidak Tersedia  Senang             Cokelat   \n",
              "2   Laki - Laki    17  Tidak Tersedia   Marah           Mie pedas   \n",
              "3   Laki - Laki    20  Tidak Tersedia   Marah              Seblak   \n",
              "4   Laki - Laki    25  Tidak Tersedia   Sedih       Sayur-sayuran   \n",
              "\n",
              "  Rekomendasi Minuman  \n",
              "0     Minuman bersoda  \n",
              "1     Minuman bersoda  \n",
              "2         Air mineral  \n",
              "3         Air mineral  \n",
              "4                 Teh  "
            ]
          },
          "execution_count": 36,
          "metadata": {},
          "output_type": "execute_result"
=======
              "</div>\n",
              "      <button class=\"colab-df-convert\" onclick=\"convertToInteractive('df-1b6f4075-01bc-4666-937c-6c438c533802')\"\n",
              "              title=\"Convert this dataframe to an interactive table.\"\n",
              "              style=\"display:none;\">\n",
              "        \n",
              "  <svg xmlns=\"http://www.w3.org/2000/svg\" height=\"24px\"viewBox=\"0 0 24 24\"\n",
              "       width=\"24px\">\n",
              "    <path d=\"M0 0h24v24H0V0z\" fill=\"none\"/>\n",
              "    <path d=\"M18.56 5.44l.94 2.06.94-2.06 2.06-.94-2.06-.94-.94-2.06-.94 2.06-2.06.94zm-11 1L8.5 8.5l.94-2.06 2.06-.94-2.06-.94L8.5 2.5l-.94 2.06-2.06.94zm10 10l.94 2.06.94-2.06 2.06-.94-2.06-.94-.94-2.06-.94 2.06-2.06.94z\"/><path d=\"M17.41 7.96l-1.37-1.37c-.4-.4-.92-.59-1.43-.59-.52 0-1.04.2-1.43.59L10.3 9.45l-7.72 7.72c-.78.78-.78 2.05 0 2.83L4 21.41c.39.39.9.59 1.41.59.51 0 1.02-.2 1.41-.59l7.78-7.78 2.81-2.81c.8-.78.8-2.07 0-2.86zM5.41 20L4 18.59l7.72-7.72 1.47 1.35L5.41 20z\"/>\n",
              "  </svg>\n",
              "      </button>\n",
              "      \n",
              "  <style>\n",
              "    .colab-df-container {\n",
              "      display:flex;\n",
              "      flex-wrap:wrap;\n",
              "      gap: 12px;\n",
              "    }\n",
              "\n",
              "    .colab-df-convert {\n",
              "      background-color: #E8F0FE;\n",
              "      border: none;\n",
              "      border-radius: 50%;\n",
              "      cursor: pointer;\n",
              "      display: none;\n",
              "      fill: #1967D2;\n",
              "      height: 32px;\n",
              "      padding: 0 0 0 0;\n",
              "      width: 32px;\n",
              "    }\n",
              "\n",
              "    .colab-df-convert:hover {\n",
              "      background-color: #E2EBFA;\n",
              "      box-shadow: 0px 1px 2px rgba(60, 64, 67, 0.3), 0px 1px 3px 1px rgba(60, 64, 67, 0.15);\n",
              "      fill: #174EA6;\n",
              "    }\n",
              "\n",
              "    [theme=dark] .colab-df-convert {\n",
              "      background-color: #3B4455;\n",
              "      fill: #D2E3FC;\n",
              "    }\n",
              "\n",
              "    [theme=dark] .colab-df-convert:hover {\n",
              "      background-color: #434B5C;\n",
              "      box-shadow: 0px 1px 3px 1px rgba(0, 0, 0, 0.15);\n",
              "      filter: drop-shadow(0px 1px 2px rgba(0, 0, 0, 0.3));\n",
              "      fill: #FFFFFF;\n",
              "    }\n",
              "  </style>\n",
              "\n",
              "      <script>\n",
              "        const buttonEl =\n",
              "          document.querySelector('#df-1b6f4075-01bc-4666-937c-6c438c533802 button.colab-df-convert');\n",
              "        buttonEl.style.display =\n",
              "          google.colab.kernel.accessAllowed ? 'block' : 'none';\n",
              "\n",
              "        async function convertToInteractive(key) {\n",
              "          const element = document.querySelector('#df-1b6f4075-01bc-4666-937c-6c438c533802');\n",
              "          const dataTable =\n",
              "            await google.colab.kernel.invokeFunction('convertToInteractive',\n",
              "                                                     [key], {});\n",
              "          if (!dataTable) return;\n",
              "\n",
              "          const docLinkHtml = 'Like what you see? Visit the ' +\n",
              "            '<a target=\"_blank\" href=https://colab.research.google.com/notebooks/data_table.ipynb>data table notebook</a>'\n",
              "            + ' to learn more about interactive tables.';\n",
              "          element.innerHTML = '';\n",
              "          dataTable['output_type'] = 'display_data';\n",
              "          await google.colab.output.renderOutput(dataTable, element);\n",
              "          const docLink = document.createElement('div');\n",
              "          docLink.innerHTML = docLinkHtml;\n",
              "          element.appendChild(docLink);\n",
              "        }\n",
              "      </script>\n",
              "    </div>\n",
              "  </div>\n",
              "  "
            ]
          },
          "metadata": {},
          "execution_count": 5
>>>>>>> f14c4eb5f5b2605a3f95e598977ae9cb0386e17b
        }
      ],
      "source": [
        "data['Lokasi'] = data['Lokasi'].fillna(\"Tidak Tersedia\")\n",
        "data.head()"
      ]
    },
    {
      "cell_type": "markdown",
      "metadata": {
        "id": "Szoorwa49kCU"
      },
      "source": [
<<<<<<< HEAD
        "## Encoding "
=======
        "Encoding "
>>>>>>> f14c4eb5f5b2605a3f95e598977ae9cb0386e17b
      ]
    },
    {
      "cell_type": "code",
<<<<<<< HEAD
      "execution_count": 37,
=======
      "execution_count": 6,
>>>>>>> f14c4eb5f5b2605a3f95e598977ae9cb0386e17b
      "metadata": {
        "colab": {
          "base_uri": "https://localhost:8080/"
        },
        "id": "K7J7n17N9kCV",
<<<<<<< HEAD
        "outputId": "1da76e8f-8d00-443a-9123-56d119159b25"
      },
      "outputs": [
        {
=======
        "outputId": "9814dae9-89f5-43fc-ce12-86d97d635f86"
      },
      "outputs": [
        {
          "output_type": "execute_result",
>>>>>>> f14c4eb5f5b2605a3f95e598977ae9cb0386e17b
          "data": {
            "text/plain": [
              "array(['Remaja', 'Dewasa', 'Tidak normal', 'Anak - anak', 'Balita',\n",
              "       'lansia'], dtype=object)"
            ]
          },
<<<<<<< HEAD
          "execution_count": 37,
          "metadata": {},
          "output_type": "execute_result"
=======
          "metadata": {},
          "execution_count": 6
>>>>>>> f14c4eb5f5b2605a3f95e598977ae9cb0386e17b
        }
      ],
      "source": [
        "def simplify_age (age):\n",
        "    if age > 0 and age < 6:\n",
        "        return \"Balita\"\n",
        "    elif age > 6 and age < 12:\n",
        "        return \"Anak - anak\"\n",
        "    elif age > 12 and age < 18:\n",
        "        return \"Remaja\"\n",
        "    elif age > 18 and age < 65:\n",
        "        return \"Dewasa\"\n",
        "    elif age > 65 and age < 200:\n",
        "        return \"lansia\"\n",
        "    return \"Tidak normal\"\n",
        "\n",
        "data[\"Umur\"] = data[\"Umur\"].apply(simplify_age)\n",
        "data[\"Umur\"].unique()"
      ]
    },
    {
      "cell_type": "code",
<<<<<<< HEAD
      "execution_count": 38,
=======
      "execution_count": 19,
>>>>>>> f14c4eb5f5b2605a3f95e598977ae9cb0386e17b
      "metadata": {
        "id": "PG2OxexC9kCX"
      },
      "outputs": [],
      "source": [
        "sex = data[\"Jenis Kelamin\"]\n",
        "age = data[\"Umur\"]\n",
        "mood = data[\"Mood\"]\n",
        "food = data[\"Rekomendasi Makanan\"]\n",
        "drink = data['Rekomendasi Minuman']"
      ]
    },
    {
      "cell_type": "code",
<<<<<<< HEAD
      "execution_count": 39,
      "metadata": {
        "colab": {
          "base_uri": "https://localhost:8080/"
        },
        "id": "8M42da2T9kCZ",
        "outputId": "066c6aac-87c6-42f3-c080-0833885956df"
=======
      "execution_count": null,
      "metadata": {
        "id": "8M42da2T9kCZ",
        "outputId": "07d739fc-09d0-4168-8df3-3e21db39c045"
>>>>>>> f14c4eb5f5b2605a3f95e598977ae9cb0386e17b
      },
      "outputs": [
        {
          "data": {
            "text/plain": [
              "Perempuan      55\n",
              "Laki - Laki    44\n",
              "Name: Jenis Kelamin, dtype: int64"
            ]
          },
<<<<<<< HEAD
          "execution_count": 39,
=======
          "execution_count": 33,
>>>>>>> f14c4eb5f5b2605a3f95e598977ae9cb0386e17b
          "metadata": {},
          "output_type": "execute_result"
        }
      ],
      "source": [
        "sex.value_counts()"
      ]
    },
    {
      "cell_type": "code",
<<<<<<< HEAD
      "execution_count": 41,
      "metadata": {
        "colab": {
          "base_uri": "https://localhost:8080/"
        },
        "id": "2Yq-OY3A9kCc",
        "outputId": "743c69b3-2017-4591-921c-3738b8091e15"
=======
      "execution_count": null,
      "metadata": {
        "id": "2Yq-OY3A9kCc",
        "outputId": "914bacab-3e3a-4f6f-abb1-dc99a345dedf"
>>>>>>> f14c4eb5f5b2605a3f95e598977ae9cb0386e17b
      },
      "outputs": [
        {
          "data": {
            "text/plain": [
<<<<<<< HEAD
              "Remaja          44\n",
              "Dewasa          24\n",
              "Anak - anak     15\n",
              "Tidak normal     7\n",
              "lansia           7\n",
              "Balita           2\n",
              "Name: Umur, dtype: int64"
            ]
          },
          "execution_count": 41,
=======
              "Remaja         44\n",
              "Dewasa         24\n",
              "Anak - anak    15\n",
              "lansia          7\n",
              "Balita          2\n",
              "Name: Umur, dtype: int64"
            ]
          },
          "execution_count": 9,
>>>>>>> f14c4eb5f5b2605a3f95e598977ae9cb0386e17b
          "metadata": {},
          "output_type": "execute_result"
        }
      ],
      "source": [
        "age.value_counts()"
      ]
    },
    {
      "cell_type": "code",
<<<<<<< HEAD
      "execution_count": 40,
=======
      "execution_count": 7,
>>>>>>> f14c4eb5f5b2605a3f95e598977ae9cb0386e17b
      "metadata": {
        "id": "wE-WGpEs9kCe"
      },
      "outputs": [],
      "source": [
        "data = data[data.Umur != \"Tidak normal\"]\n",
        "data = data[data[\"Rekomendasi Minuman\"] != \"susu\"]"
      ]
    },
    {
      "cell_type": "code",
<<<<<<< HEAD
      "execution_count": 42,
=======
      "execution_count": 12,
>>>>>>> f14c4eb5f5b2605a3f95e598977ae9cb0386e17b
      "metadata": {
        "colab": {
          "base_uri": "https://localhost:8080/",
          "height": 175
        },
        "id": "FX9LI3He9kCf",
<<<<<<< HEAD
        "outputId": "ac893b62-59f1-4fd2-e3cf-f9e0c6d4372b"
      },
      "outputs": [
        {
          "data": {
            "text/html": [
              "<div>\n",
=======
        "outputId": "4a8a7292-d920-483d-88b3-63cf42990bf1"
      },
      "outputs": [
        {
          "output_type": "execute_result",
          "data": {
            "text/plain": [
              "       Jenis Kelamin    Umur  Lokasi    Mood Rekomendasi Makanan  \\\n",
              "count             91      91      91      91                  91   \n",
              "unique             2       5      34       3                  10   \n",
              "top        Perempuan  Remaja  Amogus  Senang         Nasi goreng   \n",
              "freq              49      44      28      49                  16   \n",
              "\n",
              "       Rekomendasi Minuman  \n",
              "count                   91  \n",
              "unique                   8  \n",
              "top            Air mineral  \n",
              "freq                    19  "
            ],
            "text/html": [
              "\n",
              "  <div id=\"df-f3e6f1f8-8247-4788-af92-2a76b757309d\">\n",
              "    <div class=\"colab-df-container\">\n",
              "      <div>\n",
>>>>>>> f14c4eb5f5b2605a3f95e598977ae9cb0386e17b
              "<style scoped>\n",
              "    .dataframe tbody tr th:only-of-type {\n",
              "        vertical-align: middle;\n",
              "    }\n",
              "\n",
              "    .dataframe tbody tr th {\n",
              "        vertical-align: top;\n",
              "    }\n",
              "\n",
              "    .dataframe thead th {\n",
              "        text-align: right;\n",
              "    }\n",
              "</style>\n",
              "<table border=\"1\" class=\"dataframe\">\n",
              "  <thead>\n",
              "    <tr style=\"text-align: right;\">\n",
              "      <th></th>\n",
              "      <th>Jenis Kelamin</th>\n",
              "      <th>Umur</th>\n",
              "      <th>Lokasi</th>\n",
              "      <th>Mood</th>\n",
              "      <th>Rekomendasi Makanan</th>\n",
              "      <th>Rekomendasi Minuman</th>\n",
              "    </tr>\n",
              "  </thead>\n",
              "  <tbody>\n",
              "    <tr>\n",
              "      <th>count</th>\n",
              "      <td>91</td>\n",
              "      <td>91</td>\n",
              "      <td>91</td>\n",
              "      <td>91</td>\n",
              "      <td>91</td>\n",
              "      <td>91</td>\n",
              "    </tr>\n",
              "    <tr>\n",
              "      <th>unique</th>\n",
              "      <td>2</td>\n",
              "      <td>5</td>\n",
              "      <td>34</td>\n",
              "      <td>3</td>\n",
              "      <td>10</td>\n",
              "      <td>8</td>\n",
              "    </tr>\n",
              "    <tr>\n",
              "      <th>top</th>\n",
              "      <td>Perempuan</td>\n",
              "      <td>Remaja</td>\n",
              "      <td>Amogus</td>\n",
              "      <td>Senang</td>\n",
              "      <td>Nasi goreng</td>\n",
              "      <td>Air mineral</td>\n",
              "    </tr>\n",
              "    <tr>\n",
              "      <th>freq</th>\n",
              "      <td>49</td>\n",
              "      <td>44</td>\n",
              "      <td>28</td>\n",
              "      <td>49</td>\n",
              "      <td>16</td>\n",
              "      <td>19</td>\n",
              "    </tr>\n",
              "  </tbody>\n",
              "</table>\n",
<<<<<<< HEAD
              "</div>"
            ],
            "text/plain": [
              "       Jenis Kelamin    Umur  Lokasi    Mood Rekomendasi Makanan  \\\n",
              "count             91      91      91      91                  91   \n",
              "unique             2       5      34       3                  10   \n",
              "top        Perempuan  Remaja  Amogus  Senang         Nasi goreng   \n",
              "freq              49      44      28      49                  16   \n",
              "\n",
              "       Rekomendasi Minuman  \n",
              "count                   91  \n",
              "unique                   8  \n",
              "top            Air mineral  \n",
              "freq                    19  "
            ]
          },
          "execution_count": 42,
          "metadata": {},
          "output_type": "execute_result"
=======
              "</div>\n",
              "      <button class=\"colab-df-convert\" onclick=\"convertToInteractive('df-f3e6f1f8-8247-4788-af92-2a76b757309d')\"\n",
              "              title=\"Convert this dataframe to an interactive table.\"\n",
              "              style=\"display:none;\">\n",
              "        \n",
              "  <svg xmlns=\"http://www.w3.org/2000/svg\" height=\"24px\"viewBox=\"0 0 24 24\"\n",
              "       width=\"24px\">\n",
              "    <path d=\"M0 0h24v24H0V0z\" fill=\"none\"/>\n",
              "    <path d=\"M18.56 5.44l.94 2.06.94-2.06 2.06-.94-2.06-.94-.94-2.06-.94 2.06-2.06.94zm-11 1L8.5 8.5l.94-2.06 2.06-.94-2.06-.94L8.5 2.5l-.94 2.06-2.06.94zm10 10l.94 2.06.94-2.06 2.06-.94-2.06-.94-.94-2.06-.94 2.06-2.06.94z\"/><path d=\"M17.41 7.96l-1.37-1.37c-.4-.4-.92-.59-1.43-.59-.52 0-1.04.2-1.43.59L10.3 9.45l-7.72 7.72c-.78.78-.78 2.05 0 2.83L4 21.41c.39.39.9.59 1.41.59.51 0 1.02-.2 1.41-.59l7.78-7.78 2.81-2.81c.8-.78.8-2.07 0-2.86zM5.41 20L4 18.59l7.72-7.72 1.47 1.35L5.41 20z\"/>\n",
              "  </svg>\n",
              "      </button>\n",
              "      \n",
              "  <style>\n",
              "    .colab-df-container {\n",
              "      display:flex;\n",
              "      flex-wrap:wrap;\n",
              "      gap: 12px;\n",
              "    }\n",
              "\n",
              "    .colab-df-convert {\n",
              "      background-color: #E8F0FE;\n",
              "      border: none;\n",
              "      border-radius: 50%;\n",
              "      cursor: pointer;\n",
              "      display: none;\n",
              "      fill: #1967D2;\n",
              "      height: 32px;\n",
              "      padding: 0 0 0 0;\n",
              "      width: 32px;\n",
              "    }\n",
              "\n",
              "    .colab-df-convert:hover {\n",
              "      background-color: #E2EBFA;\n",
              "      box-shadow: 0px 1px 2px rgba(60, 64, 67, 0.3), 0px 1px 3px 1px rgba(60, 64, 67, 0.15);\n",
              "      fill: #174EA6;\n",
              "    }\n",
              "\n",
              "    [theme=dark] .colab-df-convert {\n",
              "      background-color: #3B4455;\n",
              "      fill: #D2E3FC;\n",
              "    }\n",
              "\n",
              "    [theme=dark] .colab-df-convert:hover {\n",
              "      background-color: #434B5C;\n",
              "      box-shadow: 0px 1px 3px 1px rgba(0, 0, 0, 0.15);\n",
              "      filter: drop-shadow(0px 1px 2px rgba(0, 0, 0, 0.3));\n",
              "      fill: #FFFFFF;\n",
              "    }\n",
              "  </style>\n",
              "\n",
              "      <script>\n",
              "        const buttonEl =\n",
              "          document.querySelector('#df-f3e6f1f8-8247-4788-af92-2a76b757309d button.colab-df-convert');\n",
              "        buttonEl.style.display =\n",
              "          google.colab.kernel.accessAllowed ? 'block' : 'none';\n",
              "\n",
              "        async function convertToInteractive(key) {\n",
              "          const element = document.querySelector('#df-f3e6f1f8-8247-4788-af92-2a76b757309d');\n",
              "          const dataTable =\n",
              "            await google.colab.kernel.invokeFunction('convertToInteractive',\n",
              "                                                     [key], {});\n",
              "          if (!dataTable) return;\n",
              "\n",
              "          const docLinkHtml = 'Like what you see? Visit the ' +\n",
              "            '<a target=\"_blank\" href=https://colab.research.google.com/notebooks/data_table.ipynb>data table notebook</a>'\n",
              "            + ' to learn more about interactive tables.';\n",
              "          element.innerHTML = '';\n",
              "          dataTable['output_type'] = 'display_data';\n",
              "          await google.colab.output.renderOutput(dataTable, element);\n",
              "          const docLink = document.createElement('div');\n",
              "          docLink.innerHTML = docLinkHtml;\n",
              "          element.appendChild(docLink);\n",
              "        }\n",
              "      </script>\n",
              "    </div>\n",
              "  </div>\n",
              "  "
            ]
          },
          "metadata": {},
          "execution_count": 12
>>>>>>> f14c4eb5f5b2605a3f95e598977ae9cb0386e17b
        }
      ],
      "source": [
        "data.head()\n",
        "data.describe()"
      ]
    },
    {
      "cell_type": "code",
<<<<<<< HEAD
      "execution_count": 43,
=======
      "execution_count": 9,
>>>>>>> f14c4eb5f5b2605a3f95e598977ae9cb0386e17b
      "metadata": {
        "id": "Evm-Q5Eh9kCg"
      },
      "outputs": [],
      "source": [
        "from sklearn.preprocessing import LabelEncoder, OneHotEncoder\n",
        "ohe = OneHotEncoder()\n",
<<<<<<< HEAD
        "leS = LabelEncoder()\n",
        "leA = LabelEncoder()\n",
        "leM = LabelEncoder()\n",
        "leF = LabelEncoder()\n",
        "leD = LabelEncoder()"
=======
        "le = LabelEncoder()"
>>>>>>> f14c4eb5f5b2605a3f95e598977ae9cb0386e17b
      ]
    },
    {
      "cell_type": "markdown",
<<<<<<< HEAD
      "metadata": {
        "id": "0FwoEhIbHXLX"
      },
      "source": [
        "## CHANGE DATATYPE TO CATEGORY"
      ]
    },
    {
      "cell_type": "code",
      "execution_count": 44,
      "metadata": {
        "id": "KMkFBnRgHWt2"
      },
      "outputs": [],
      "source": [
        "data[[\"Jenis Kelamin\", \"Umur\", \"Mood\", \"Rekomendasi Makanan\", \"Rekomendasi Minuman\"]] = data[[\"Jenis Kelamin\", \"Umur\", \"Mood\", \"Rekomendasi Makanan\", \"Rekomendasi Minuman\"]].astype('category')"
      ]
    },
    {
      "cell_type": "code",
      "execution_count": 45,
      "metadata": {
        "colab": {
          "base_uri": "https://localhost:8080/"
        },
        "id": "vWnyT8f3J5ms",
        "outputId": "883e9acc-7412-46b8-f7e8-999992af3536"
      },
      "outputs": [
        {
          "name": "stdout",
          "output_type": "stream",
          "text": [
            "Jenis Kelamin:  ['Laki - Laki' 'Perempuan']\n",
            "Umur:  ['Remaja' 'Dewasa' 'Tidak normal' 'Anak - anak' 'Balita' 'lansia']\n",
            "Mood:  ['Senang' 'Marah' 'Sedih']\n",
            "Makanan:  ['Nasi goreng' 'Cokelat' 'Mie pedas' 'Seblak' 'Sayur-sayuran' 'Daging'\n",
            " 'Kacang-kacangan' 'Telur' 'Makanan laut' 'Ikan-ikanan']\n",
            "Minuman:  ['Minuman bersoda' 'Air mineral' 'Teh' 'Es krim' 'Kopi' 'Air kelapa'\n",
            " 'Susu' 'Jus' 'susu']\n"
          ]
        }
      ],
=======
      "source": [
        "CHANGE DATATYPE TO CATEGORY"
      ],
      "metadata": {
        "id": "0FwoEhIbHXLX"
      }
    },
    {
      "cell_type": "code",
      "source": [
        "data[[\"Jenis Kelamin\", \"Umur\", \"Mood\", \"Rekomendasi Makanan\", \"Rekomendasi Minuman\"]] = data[[\"Jenis Kelamin\", \"Umur\", \"Mood\", \"Rekomendasi Makanan\", \"Rekomendasi Minuman\"]].astype('category')"
      ],
      "metadata": {
        "id": "KMkFBnRgHWt2"
      },
      "execution_count": 18,
      "outputs": []
    },
    {
      "cell_type": "code",
>>>>>>> f14c4eb5f5b2605a3f95e598977ae9cb0386e17b
      "source": [
        "print(f\"Jenis Kelamin: \", sex.unique())\n",
        "print(f\"Umur: \", age.unique())\n",
        "print(f\"Mood: \", mood.unique())\n",
        "print(f\"Makanan: \", food.unique())\n",
        "print(f\"Minuman: \", drink.unique())"
<<<<<<< HEAD
=======
      ],
      "metadata": {
        "colab": {
          "base_uri": "https://localhost:8080/"
        },
        "id": "vWnyT8f3J5ms",
        "outputId": "2eb69524-9036-471e-fe63-4ffcae4e605d"
      },
      "execution_count": 26,
      "outputs": [
        {
          "output_type": "stream",
          "name": "stdout",
          "text": [
            "Jenis Kelamin:  ['Laki - Laki', 'Perempuan']\n",
            "Categories (2, object): ['Laki - Laki', 'Perempuan']\n",
            "Umur:  ['Remaja', 'Dewasa', 'Anak - anak', 'Balita', 'lansia']\n",
            "Categories (5, object): ['Anak - anak', 'Balita', 'Dewasa', 'Remaja', 'lansia']\n",
            "Mood:  ['Senang', 'Marah', 'Sedih']\n",
            "Categories (3, object): ['Marah', 'Sedih', 'Senang']\n",
            "Makanan:  ['Nasi goreng', 'Cokelat', 'Mie pedas', 'Seblak', 'Sayur-sayuran', 'Daging', 'Kacang-kacangan', 'Makanan laut', 'Ikan-ikanan', 'Telur']\n",
            "Categories (10, object): ['Cokelat', 'Daging', 'Ikan-ikanan', 'Kacang-kacangan', ...,\n",
            "                          'Nasi goreng', 'Sayur-sayuran', 'Seblak', 'Telur']\n",
            "Minuman:  ['Minuman bersoda', 'Air mineral', 'Teh', 'Es krim', 'Kopi', 'Air kelapa', 'Susu', 'Jus']\n",
            "Categories (8, object): ['Air kelapa', 'Air mineral', 'Es krim', 'Jus', 'Kopi', 'Minuman bersoda',\n",
            "                         'Susu', 'Teh']\n"
          ]
        }
>>>>>>> f14c4eb5f5b2605a3f95e598977ae9cb0386e17b
      ]
    },
    {
      "cell_type": "code",
<<<<<<< HEAD
      "execution_count": 46,
=======
      "execution_count": null,
>>>>>>> f14c4eb5f5b2605a3f95e598977ae9cb0386e17b
      "metadata": {
        "id": "qWRGgrzX9kCg"
      },
      "outputs": [],
      "source": [
<<<<<<< HEAD
        "data[\"sex_LE\"] = leS.fit_transform(data[\"Jenis Kelamin\"])\n",
        "data[\"age_LE\"] = leA.fit_transform(data[\"Umur\"])\n",
        "data[\"mood_LE\"] = leM.fit_transform(data[\"Mood\"])\n",
        "data[\"food_LE\"] = leF.fit_transform(data[\"Rekomendasi Makanan\"])\n",
        "data[\"drink_LE\"] = leD.fit_transform(data[\"Rekomendasi Minuman\"])"
=======
        "data[\"Jenis Kelamin\"] = le.fit_transform(data[\"Jenis Kelamin\"])\n",
        "data[\"Umur\"] = le.fit_transform(data[\"Umur\"])\n",
        "data[\"Mood\"] = le.fit_transform(data[\"Mood\"])\n",
        "data[\"Rekomendasi Makanan\"] = le.fit_transform(data[\"Rekomendasi Makanan\"])\n",
        "data[\"Rekomendasi Minuman\"] = le.fit_transform(data[\"Rekomendasi Minuman\"])"
>>>>>>> f14c4eb5f5b2605a3f95e598977ae9cb0386e17b
      ]
    },
    {
      "cell_type": "code",
<<<<<<< HEAD
      "execution_count": 47,
      "metadata": {
        "colab": {
          "base_uri": "https://localhost:8080/",
          "height": 354
        },
        "id": "hSQWJlRw9kCh",
        "outputId": "396b5e4f-3552-4728-d021-59c5f2cdfc5b"
=======
      "execution_count": null,
      "metadata": {
        "id": "hSQWJlRw9kCh",
        "outputId": "2285edf8-4ec2-4f5a-9f2e-55f146b5ce05"
>>>>>>> f14c4eb5f5b2605a3f95e598977ae9cb0386e17b
      },
      "outputs": [
        {
          "data": {
            "text/html": [
              "<div>\n",
              "<style scoped>\n",
              "    .dataframe tbody tr th:only-of-type {\n",
              "        vertical-align: middle;\n",
              "    }\n",
              "\n",
              "    .dataframe tbody tr th {\n",
              "        vertical-align: top;\n",
              "    }\n",
              "\n",
              "    .dataframe thead th {\n",
              "        text-align: right;\n",
              "    }\n",
              "</style>\n",
              "<table border=\"1\" class=\"dataframe\">\n",
              "  <thead>\n",
              "    <tr style=\"text-align: right;\">\n",
              "      <th></th>\n",
              "      <th>Jenis Kelamin</th>\n",
              "      <th>Umur</th>\n",
              "      <th>Lokasi</th>\n",
              "      <th>Mood</th>\n",
              "      <th>Rekomendasi Makanan</th>\n",
              "      <th>Rekomendasi Minuman</th>\n",
<<<<<<< HEAD
              "      <th>sex_LE</th>\n",
              "      <th>age_LE</th>\n",
              "      <th>mood_LE</th>\n",
              "      <th>food_LE</th>\n",
              "      <th>drink_LE</th>\n",
=======
>>>>>>> f14c4eb5f5b2605a3f95e598977ae9cb0386e17b
              "    </tr>\n",
              "  </thead>\n",
              "  <tbody>\n",
              "    <tr>\n",
              "      <th>0</th>\n",
<<<<<<< HEAD
              "      <td>Laki - Laki</td>\n",
              "      <td>Remaja</td>\n",
              "      <td>Tidak Tersedia</td>\n",
              "      <td>Senang</td>\n",
              "      <td>Nasi goreng</td>\n",
              "      <td>Minuman bersoda</td>\n",
              "      <td>0</td>\n",
              "      <td>3</td>\n",
=======
              "      <td>0</td>\n",
              "      <td>3</td>\n",
              "      <td>Tidak Tersedia</td>\n",
>>>>>>> f14c4eb5f5b2605a3f95e598977ae9cb0386e17b
              "      <td>2</td>\n",
              "      <td>6</td>\n",
              "      <td>5</td>\n",
              "    </tr>\n",
              "    <tr>\n",
              "      <th>1</th>\n",
<<<<<<< HEAD
              "      <td>Laki - Laki</td>\n",
              "      <td>Remaja</td>\n",
              "      <td>Tidak Tersedia</td>\n",
              "      <td>Senang</td>\n",
              "      <td>Cokelat</td>\n",
              "      <td>Minuman bersoda</td>\n",
              "      <td>0</td>\n",
              "      <td>3</td>\n",
=======
              "      <td>0</td>\n",
              "      <td>3</td>\n",
              "      <td>Tidak Tersedia</td>\n",
>>>>>>> f14c4eb5f5b2605a3f95e598977ae9cb0386e17b
              "      <td>2</td>\n",
              "      <td>0</td>\n",
              "      <td>5</td>\n",
              "    </tr>\n",
              "    <tr>\n",
              "      <th>2</th>\n",
<<<<<<< HEAD
              "      <td>Laki - Laki</td>\n",
              "      <td>Remaja</td>\n",
              "      <td>Tidak Tersedia</td>\n",
              "      <td>Marah</td>\n",
              "      <td>Mie pedas</td>\n",
              "      <td>Air mineral</td>\n",
              "      <td>0</td>\n",
              "      <td>3</td>\n",
=======
              "      <td>0</td>\n",
              "      <td>3</td>\n",
              "      <td>Tidak Tersedia</td>\n",
>>>>>>> f14c4eb5f5b2605a3f95e598977ae9cb0386e17b
              "      <td>0</td>\n",
              "      <td>5</td>\n",
              "      <td>1</td>\n",
              "    </tr>\n",
              "    <tr>\n",
              "      <th>3</th>\n",
<<<<<<< HEAD
              "      <td>Laki - Laki</td>\n",
              "      <td>Dewasa</td>\n",
              "      <td>Tidak Tersedia</td>\n",
              "      <td>Marah</td>\n",
              "      <td>Seblak</td>\n",
              "      <td>Air mineral</td>\n",
              "      <td>0</td>\n",
              "      <td>2</td>\n",
=======
              "      <td>0</td>\n",
              "      <td>2</td>\n",
              "      <td>Tidak Tersedia</td>\n",
>>>>>>> f14c4eb5f5b2605a3f95e598977ae9cb0386e17b
              "      <td>0</td>\n",
              "      <td>8</td>\n",
              "      <td>1</td>\n",
              "    </tr>\n",
              "    <tr>\n",
              "      <th>4</th>\n",
<<<<<<< HEAD
              "      <td>Laki - Laki</td>\n",
              "      <td>Dewasa</td>\n",
              "      <td>Tidak Tersedia</td>\n",
              "      <td>Sedih</td>\n",
              "      <td>Sayur-sayuran</td>\n",
              "      <td>Teh</td>\n",
              "      <td>0</td>\n",
              "      <td>2</td>\n",
=======
              "      <td>0</td>\n",
              "      <td>2</td>\n",
              "      <td>Tidak Tersedia</td>\n",
>>>>>>> f14c4eb5f5b2605a3f95e598977ae9cb0386e17b
              "      <td>1</td>\n",
              "      <td>7</td>\n",
              "      <td>7</td>\n",
              "    </tr>\n",
              "  </tbody>\n",
              "</table>\n",
              "</div>"
            ],
            "text/plain": [
<<<<<<< HEAD
              "  Jenis Kelamin    Umur          Lokasi    Mood Rekomendasi Makanan  \\\n",
              "0   Laki - Laki  Remaja  Tidak Tersedia  Senang         Nasi goreng   \n",
              "1   Laki - Laki  Remaja  Tidak Tersedia  Senang             Cokelat   \n",
              "2   Laki - Laki  Remaja  Tidak Tersedia   Marah           Mie pedas   \n",
              "3   Laki - Laki  Dewasa  Tidak Tersedia   Marah              Seblak   \n",
              "4   Laki - Laki  Dewasa  Tidak Tersedia   Sedih       Sayur-sayuran   \n",
              "\n",
              "  Rekomendasi Minuman  sex_LE  age_LE  mood_LE  food_LE  drink_LE  \n",
              "0     Minuman bersoda       0       3        2        6         5  \n",
              "1     Minuman bersoda       0       3        2        0         5  \n",
              "2         Air mineral       0       3        0        5         1  \n",
              "3         Air mineral       0       2        0        8         1  \n",
              "4                 Teh       0       2        1        7         7  "
            ]
          },
          "execution_count": 47,
=======
              "   Jenis Kelamin  Umur          Lokasi  Mood  Rekomendasi Makanan  \\\n",
              "0              0     3  Tidak Tersedia     2                    6   \n",
              "1              0     3  Tidak Tersedia     2                    0   \n",
              "2              0     3  Tidak Tersedia     0                    5   \n",
              "3              0     2  Tidak Tersedia     0                    8   \n",
              "4              0     2  Tidak Tersedia     1                    7   \n",
              "\n",
              "   Rekomendasi Minuman  \n",
              "0                    5  \n",
              "1                    5  \n",
              "2                    1  \n",
              "3                    1  \n",
              "4                    7  "
            ]
          },
          "execution_count": 59,
>>>>>>> f14c4eb5f5b2605a3f95e598977ae9cb0386e17b
          "metadata": {},
          "output_type": "execute_result"
        }
      ],
      "source": [
        "data.head()"
      ]
    },
    {
<<<<<<< HEAD
=======
      "cell_type": "code",
      "execution_count": null,
      "metadata": {
        "id": "6m9ie3BX9kCi",
        "outputId": "cdd30062-4c23-4832-d67b-49abea8224c7"
      },
      "outputs": [
        {
          "data": {
            "text/plain": [
              "[array([0, 1], dtype=int64)]"
            ]
          },
          "execution_count": 20,
          "metadata": {},
          "output_type": "execute_result"
        }
      ],
      "source": [
        "ohe.categories_"
      ]
    },
    {
      "cell_type": "markdown",
      "metadata": {
        "id": "5VYCpivL9kCj"
      },
      "source": [
        "USE TO INVERSE"
      ]
    },
    {
      "cell_type": "code",
      "execution_count": null,
      "metadata": {
        "id": "3xVZPc8U9kCj"
      },
      "outputs": [],
      "source": [
        "np.argmax(data['Jenis Kelamin'], axis = 1)"
      ]
    },
    {
>>>>>>> f14c4eb5f5b2605a3f95e598977ae9cb0386e17b
      "cell_type": "markdown",
      "metadata": {
        "id": "JBvjzGBG9kCk"
      },
      "source": [
<<<<<<< HEAD
        "# MACHINE LEARNING START HERE"
=======
        "MACHINE LEARNING START HERE"
>>>>>>> f14c4eb5f5b2605a3f95e598977ae9cb0386e17b
      ]
    },
    {
      "cell_type": "code",
<<<<<<< HEAD
      "execution_count": 15,
      "metadata": {
        "colab": {
          "base_uri": "https://localhost:8080/",
          "height": 354
        },
        "id": "3gOklGp09kCl",
        "outputId": "2bf64bc1-d3a7-4ea9-f333-26a63a7018b7"
=======
      "execution_count": null,
      "metadata": {
        "id": "3gOklGp09kCl",
        "outputId": "f6f6f80f-3019-417d-d16a-1dc2cb8dc5a3"
>>>>>>> f14c4eb5f5b2605a3f95e598977ae9cb0386e17b
      },
      "outputs": [
        {
          "data": {
            "text/html": [
              "<div>\n",
              "<style scoped>\n",
              "    .dataframe tbody tr th:only-of-type {\n",
              "        vertical-align: middle;\n",
              "    }\n",
              "\n",
              "    .dataframe tbody tr th {\n",
              "        vertical-align: top;\n",
              "    }\n",
              "\n",
              "    .dataframe thead th {\n",
              "        text-align: right;\n",
              "    }\n",
              "</style>\n",
              "<table border=\"1\" class=\"dataframe\">\n",
              "  <thead>\n",
              "    <tr style=\"text-align: right;\">\n",
              "      <th></th>\n",
              "      <th>Jenis Kelamin</th>\n",
              "      <th>Umur</th>\n",
              "      <th>Lokasi</th>\n",
              "      <th>Mood</th>\n",
              "      <th>Rekomendasi Makanan</th>\n",
              "      <th>Rekomendasi Minuman</th>\n",
<<<<<<< HEAD
              "      <th>sex_LE</th>\n",
              "      <th>age_LE</th>\n",
              "      <th>mood_LE</th>\n",
              "      <th>food_LE</th>\n",
              "      <th>drink_LE</th>\n",
=======
>>>>>>> f14c4eb5f5b2605a3f95e598977ae9cb0386e17b
              "    </tr>\n",
              "  </thead>\n",
              "  <tbody>\n",
              "    <tr>\n",
              "      <th>0</th>\n",
<<<<<<< HEAD
              "      <td>Laki - Laki</td>\n",
              "      <td>Remaja</td>\n",
              "      <td>Tidak Tersedia</td>\n",
              "      <td>Senang</td>\n",
              "      <td>Nasi goreng</td>\n",
              "      <td>Minuman bersoda</td>\n",
              "      <td>0</td>\n",
              "      <td>3</td>\n",
=======
              "      <td>0</td>\n",
              "      <td>3</td>\n",
              "      <td>Tidak Tersedia</td>\n",
>>>>>>> f14c4eb5f5b2605a3f95e598977ae9cb0386e17b
              "      <td>2</td>\n",
              "      <td>6</td>\n",
              "      <td>5</td>\n",
              "    </tr>\n",
              "    <tr>\n",
              "      <th>1</th>\n",
<<<<<<< HEAD
              "      <td>Laki - Laki</td>\n",
              "      <td>Remaja</td>\n",
              "      <td>Tidak Tersedia</td>\n",
              "      <td>Senang</td>\n",
              "      <td>Cokelat</td>\n",
              "      <td>Minuman bersoda</td>\n",
              "      <td>0</td>\n",
              "      <td>3</td>\n",
=======
              "      <td>0</td>\n",
              "      <td>3</td>\n",
              "      <td>Tidak Tersedia</td>\n",
>>>>>>> f14c4eb5f5b2605a3f95e598977ae9cb0386e17b
              "      <td>2</td>\n",
              "      <td>0</td>\n",
              "      <td>5</td>\n",
              "    </tr>\n",
              "    <tr>\n",
              "      <th>2</th>\n",
<<<<<<< HEAD
              "      <td>Laki - Laki</td>\n",
              "      <td>Remaja</td>\n",
              "      <td>Tidak Tersedia</td>\n",
              "      <td>Marah</td>\n",
              "      <td>Mie pedas</td>\n",
              "      <td>Air mineral</td>\n",
              "      <td>0</td>\n",
              "      <td>3</td>\n",
=======
              "      <td>0</td>\n",
              "      <td>3</td>\n",
              "      <td>Tidak Tersedia</td>\n",
>>>>>>> f14c4eb5f5b2605a3f95e598977ae9cb0386e17b
              "      <td>0</td>\n",
              "      <td>5</td>\n",
              "      <td>1</td>\n",
              "    </tr>\n",
              "    <tr>\n",
              "      <th>3</th>\n",
<<<<<<< HEAD
              "      <td>Laki - Laki</td>\n",
              "      <td>Dewasa</td>\n",
              "      <td>Tidak Tersedia</td>\n",
              "      <td>Marah</td>\n",
              "      <td>Seblak</td>\n",
              "      <td>Air mineral</td>\n",
              "      <td>0</td>\n",
              "      <td>2</td>\n",
=======
              "      <td>0</td>\n",
              "      <td>2</td>\n",
              "      <td>Tidak Tersedia</td>\n",
>>>>>>> f14c4eb5f5b2605a3f95e598977ae9cb0386e17b
              "      <td>0</td>\n",
              "      <td>8</td>\n",
              "      <td>1</td>\n",
              "    </tr>\n",
              "    <tr>\n",
              "      <th>4</th>\n",
<<<<<<< HEAD
              "      <td>Laki - Laki</td>\n",
              "      <td>Dewasa</td>\n",
              "      <td>Tidak Tersedia</td>\n",
              "      <td>Sedih</td>\n",
              "      <td>Sayur-sayuran</td>\n",
              "      <td>Teh</td>\n",
              "      <td>0</td>\n",
              "      <td>2</td>\n",
=======
              "      <td>0</td>\n",
              "      <td>2</td>\n",
              "      <td>Tidak Tersedia</td>\n",
>>>>>>> f14c4eb5f5b2605a3f95e598977ae9cb0386e17b
              "      <td>1</td>\n",
              "      <td>7</td>\n",
              "      <td>7</td>\n",
              "    </tr>\n",
              "  </tbody>\n",
              "</table>\n",
              "</div>"
            ],
            "text/plain": [
<<<<<<< HEAD
              "  Jenis Kelamin    Umur          Lokasi    Mood Rekomendasi Makanan  \\\n",
              "0   Laki - Laki  Remaja  Tidak Tersedia  Senang         Nasi goreng   \n",
              "1   Laki - Laki  Remaja  Tidak Tersedia  Senang             Cokelat   \n",
              "2   Laki - Laki  Remaja  Tidak Tersedia   Marah           Mie pedas   \n",
              "3   Laki - Laki  Dewasa  Tidak Tersedia   Marah              Seblak   \n",
              "4   Laki - Laki  Dewasa  Tidak Tersedia   Sedih       Sayur-sayuran   \n",
              "\n",
              "  Rekomendasi Minuman  sex_LE  age_LE  mood_LE  food_LE  drink_LE  \n",
              "0     Minuman bersoda       0       3        2        6         5  \n",
              "1     Minuman bersoda       0       3        2        0         5  \n",
              "2         Air mineral       0       3        0        5         1  \n",
              "3         Air mineral       0       2        0        8         1  \n",
              "4                 Teh       0       2        1        7         7  "
            ]
          },
          "execution_count": 15,
=======
              "   Jenis Kelamin  Umur          Lokasi  Mood  Rekomendasi Makanan  \\\n",
              "0              0     3  Tidak Tersedia     2                    6   \n",
              "1              0     3  Tidak Tersedia     2                    0   \n",
              "2              0     3  Tidak Tersedia     0                    5   \n",
              "3              0     2  Tidak Tersedia     0                    8   \n",
              "4              0     2  Tidak Tersedia     1                    7   \n",
              "\n",
              "   Rekomendasi Minuman  \n",
              "0                    5  \n",
              "1                    5  \n",
              "2                    1  \n",
              "3                    1  \n",
              "4                    7  "
            ]
          },
          "execution_count": 32,
>>>>>>> f14c4eb5f5b2605a3f95e598977ae9cb0386e17b
          "metadata": {},
          "output_type": "execute_result"
        }
      ],
      "source": [
        "data.head()"
      ]
    },
    {
      "cell_type": "code",
<<<<<<< HEAD
      "execution_count": 16,
      "metadata": {
        "id": "7ppHDAuSeIrR"
      },
      "outputs": [],
      "source": [
        "from sklearn.model_selection import train_test_split"
      ]
    },
    {
      "cell_type": "markdown",
      "metadata": {
        "id": "EIVUPDaYycgi"
      },
      "source": [
        "Put data into variable"
      ]
    },
    {
      "cell_type": "code",
      "execution_count": 48,
      "metadata": {
        "id": "1klpj90d9kCm"
=======
      "execution_count": null,
      "metadata": {
        "id": "1klpj90d9kCm",
        "outputId": "980b214e-1026-4363-bb47-e9cf59f9ba2a"
>>>>>>> f14c4eb5f5b2605a3f95e598977ae9cb0386e17b
      },
      "outputs": [
        {
          "data": {
            "text/plain": [
              "array([[0, 3, 2],\n",
              "       [0, 3, 2],\n",
              "       [0, 3, 0],\n",
              "       [0, 2, 0],\n",
              "       [0, 2, 1],\n",
              "       [0, 0, 2],\n",
              "       [1, 3, 0],\n",
              "       [1, 3, 2],\n",
              "       [0, 0, 1],\n",
              "       [1, 0, 2],\n",
              "       [0, 0, 1],\n",
              "       [0, 0, 2],\n",
              "       [0, 2, 2],\n",
              "       [0, 3, 1],\n",
              "       [1, 3, 0],\n",
              "       [0, 3, 2],\n",
              "       [0, 2, 1],\n",
              "       [0, 3, 0],\n",
              "       [1, 3, 0],\n",
              "       [0, 3, 2],\n",
              "       [0, 3, 1],\n",
              "       [1, 3, 2],\n",
              "       [1, 3, 2],\n",
              "       [1, 3, 1],\n",
              "       [1, 3, 2],\n",
              "       [1, 3, 2],\n",
              "       [1, 3, 2],\n",
              "       [1, 3, 2],\n",
              "       [1, 3, 2],\n",
              "       [1, 2, 2],\n",
              "       [1, 3, 1],\n",
              "       [0, 3, 2],\n",
              "       [0, 3, 2],\n",
              "       [1, 3, 0],\n",
              "       [1, 3, 2],\n",
              "       [0, 2, 2],\n",
              "       [1, 3, 2],\n",
              "       [0, 3, 0],\n",
              "       [0, 1, 2],\n",
              "       [0, 3, 2],\n",
              "       [1, 3, 2],\n",
              "       [0, 0, 2],\n",
              "       [1, 0, 2],\n",
              "       [0, 0, 0],\n",
              "       [1, 0, 0],\n",
              "       [1, 3, 2],\n",
              "       [1, 3, 2],\n",
              "       [1, 3, 1],\n",
              "       [1, 3, 1],\n",
              "       [1, 3, 2],\n",
              "       [1, 3, 1],\n",
              "       [1, 3, 2],\n",
              "       [1, 3, 2],\n",
              "       [0, 4, 2],\n",
              "       [1, 4, 1],\n",
              "       [1, 3, 2],\n",
              "       [1, 3, 2],\n",
              "       [1, 3, 2],\n",
              "       [1, 3, 2],\n",
              "       [0, 3, 0],\n",
              "       [1, 3, 0],\n",
              "       [1, 2, 1],\n",
              "       [0, 2, 2],\n",
              "       [0, 4, 2],\n",
              "       [1, 4, 2],\n",
              "       [1, 4, 1],\n",
              "       [0, 2, 0],\n",
              "       [1, 2, 0],\n",
              "       [1, 2, 2],\n",
              "       [0, 2, 1],\n",
              "       [1, 2, 0],\n",
              "       [1, 2, 2],\n",
              "       [0, 2, 1],\n",
              "       [1, 2, 0],\n",
              "       [0, 2, 2],\n",
              "       [0, 2, 1],\n",
              "       [1, 4, 1],\n",
              "       [0, 2, 2],\n",
              "       [0, 4, 2],\n",
              "       [1, 0, 0],\n",
              "       [1, 0, 0],\n",
              "       [0, 0, 0],\n",
              "       [0, 1, 0],\n",
              "       [1, 0, 2],\n",
              "       [1, 0, 2],\n",
              "       [0, 2, 0],\n",
              "       [0, 3, 0],\n",
              "       [0, 2, 2],\n",
              "       [0, 2, 1],\n",
              "       [0, 2, 1],\n",
              "       [1, 2, 2]])"
            ]
          },
<<<<<<< HEAD
          "execution_count": 48,
=======
          "execution_count": 70,
>>>>>>> f14c4eb5f5b2605a3f95e598977ae9cb0386e17b
          "metadata": {},
          "output_type": "execute_result"
        }
      ],
      "source": [
<<<<<<< HEAD
        "X = data[[\"sex_LE\",\"age_LE\", \"mood_LE\"]].values\n",
=======
        "X = data[[\"Jenis Kelamin\",\"Umur\", \"Mood\"]].values\n",
>>>>>>> f14c4eb5f5b2605a3f95e598977ae9cb0386e17b
        "X"
      ]
    },
    {
      "cell_type": "code",
<<<<<<< HEAD
      "execution_count": 49,
      "metadata": {
        "id": "4UAL1JHF9kCn"
      },
      "outputs": [],
      "source": [
        "y = data[[\"food_LE\"]].values\n",
        "z = data[[\"drink_LE\"]].values\n",
        "v = data[[\"food_LE\", \"drink_LE\"]].values"
      ]
    },
    {
      "cell_type": "code",
      "execution_count": null,
      "metadata": {
        "id": "KjrZb0jJ1wUv"
      },
      "outputs": [],
      "source": [
=======
      "execution_count": null,
      "metadata": {
        "id": "4UAL1JHF9kCn"
      },
      "outputs": [],
      "source": [
        "y = data[[\"Rekomendasi Makanan\"]].values\n",
        "z = data[[\"Rekomendasi Minuman\"]].values"
      ]
    },
    {
      "cell_type": "code",
      "execution_count": null,
      "metadata": {
        "id": "A-F9Y6JQ9kCn",
        "outputId": "ed3f8962-ec96-467d-f250-fd601ed13956"
      },
      "outputs": [
        {
          "data": {
            "text/plain": [
              "array([[6],\n",
              "       [0],\n",
              "       [5],\n",
              "       [8],\n",
              "       [7],\n",
              "       [1],\n",
              "       [8],\n",
              "       [6],\n",
              "       [7],\n",
              "       [3],\n",
              "       [1],\n",
              "       [6],\n",
              "       [8],\n",
              "       [8],\n",
              "       [8],\n",
              "       [5],\n",
              "       [1],\n",
              "       [1],\n",
              "       [5],\n",
              "       [6],\n",
              "       [0],\n",
              "       [4],\n",
              "       [8],\n",
              "       [0],\n",
              "       [5],\n",
              "       [1],\n",
              "       [5],\n",
              "       [4],\n",
              "       [6],\n",
              "       [2],\n",
              "       [8],\n",
              "       [9],\n",
              "       [4],\n",
              "       [8],\n",
              "       [9],\n",
              "       [8],\n",
              "       [8],\n",
              "       [7],\n",
              "       [9],\n",
              "       [9],\n",
              "       [6],\n",
              "       [0],\n",
              "       [0],\n",
              "       [6],\n",
              "       [8],\n",
              "       [5],\n",
              "       [1],\n",
              "       [8],\n",
              "       [0],\n",
              "       [4],\n",
              "       [5],\n",
              "       [3],\n",
              "       [8],\n",
              "       [7],\n",
              "       [0],\n",
              "       [1],\n",
              "       [6],\n",
              "       [1],\n",
              "       [5],\n",
              "       [2],\n",
              "       [0],\n",
              "       [5],\n",
              "       [2],\n",
              "       [1],\n",
              "       [7],\n",
              "       [7],\n",
              "       [5],\n",
              "       [8],\n",
              "       [6],\n",
              "       [0],\n",
              "       [5],\n",
              "       [6],\n",
              "       [0],\n",
              "       [8],\n",
              "       [6],\n",
              "       [0],\n",
              "       [7],\n",
              "       [0],\n",
              "       [2],\n",
              "       [6],\n",
              "       [6],\n",
              "       [2],\n",
              "       [5],\n",
              "       [0],\n",
              "       [0],\n",
              "       [5],\n",
              "       [8],\n",
              "       [6],\n",
              "       [6],\n",
              "       [0],\n",
              "       [6]])"
            ]
          },
          "execution_count": 72,
          "metadata": {},
          "output_type": "execute_result"
        }
      ],
      "source": [
>>>>>>> f14c4eb5f5b2605a3f95e598977ae9cb0386e17b
        "y"
      ]
    },
    {
      "cell_type": "code",
      "execution_count": null,
      "metadata": {
<<<<<<< HEAD
        "id": "wuvGwEib1y49"
      },
      "outputs": [],
      "source": [
        "z"
      ]
    },
    {
      "cell_type": "markdown",
      "metadata": {
        "id": "y3AHMrkRyfsd"
      },
      "source": [
        "Train test split (use if you have 1000 data or more)"
      ]
    },
    {
      "cell_type": "code",
      "execution_count": 20,
      "metadata": {
        "id": "aPjfSHtCeV2K"
      },
      "outputs": [],
      "source": [
        "X_train_data, X_test_data, y_train_data, y_test_data = train_test_split(X , y, test_size = 0.3)"
      ]
    },
    {
      "cell_type": "code",
      "execution_count": 21,
      "metadata": {
        "id": "8QoDoWgnesUm"
      },
      "outputs": [],
      "source": [
        "Xz_train_data, Xz_test_data, z_train_data, z_test_data = train_test_split(X, z, test_size = 0.3)"
      ]
    },
    {
      "cell_type": "markdown",
      "metadata": {
        "id": "2vh_pgMgyj-P"
      },
      "source": [
        "Transfor to OneHotEncoding"
      ]
    },
    {
      "cell_type": "code",
      "execution_count": 50,
      "metadata": {
        "id": "HL_JkfFK9kCo"
=======
        "id": "HL_JkfFK9kCo",
        "outputId": "8ab42f61-94bf-40fc-c0b2-c9f15763ed22"
>>>>>>> f14c4eb5f5b2605a3f95e598977ae9cb0386e17b
      },
      "outputs": [
        {
          "data": {
            "text/plain": [
              "array([[1., 0., 0., 0., 0., 1., 0., 0., 0., 1.],\n",
              "       [1., 0., 0., 0., 0., 1., 0., 0., 0., 1.],\n",
              "       [1., 0., 0., 0., 0., 1., 0., 1., 0., 0.],\n",
              "       [1., 0., 0., 0., 1., 0., 0., 1., 0., 0.],\n",
              "       [1., 0., 0., 0., 1., 0., 0., 0., 1., 0.],\n",
              "       [1., 0., 1., 0., 0., 0., 0., 0., 0., 1.],\n",
              "       [0., 1., 0., 0., 0., 1., 0., 1., 0., 0.],\n",
              "       [0., 1., 0., 0., 0., 1., 0., 0., 0., 1.],\n",
              "       [1., 0., 1., 0., 0., 0., 0., 0., 1., 0.],\n",
              "       [0., 1., 1., 0., 0., 0., 0., 0., 0., 1.],\n",
              "       [1., 0., 1., 0., 0., 0., 0., 0., 1., 0.],\n",
              "       [1., 0., 1., 0., 0., 0., 0., 0., 0., 1.],\n",
              "       [1., 0., 0., 0., 1., 0., 0., 0., 0., 1.],\n",
              "       [1., 0., 0., 0., 0., 1., 0., 0., 1., 0.],\n",
              "       [0., 1., 0., 0., 0., 1., 0., 1., 0., 0.],\n",
              "       [1., 0., 0., 0., 0., 1., 0., 0., 0., 1.],\n",
              "       [1., 0., 0., 0., 1., 0., 0., 0., 1., 0.],\n",
              "       [1., 0., 0., 0., 0., 1., 0., 1., 0., 0.],\n",
              "       [0., 1., 0., 0., 0., 1., 0., 1., 0., 0.],\n",
              "       [1., 0., 0., 0., 0., 1., 0., 0., 0., 1.],\n",
              "       [1., 0., 0., 0., 0., 1., 0., 0., 1., 0.],\n",
              "       [0., 1., 0., 0., 0., 1., 0., 0., 0., 1.],\n",
              "       [0., 1., 0., 0., 0., 1., 0., 0., 0., 1.],\n",
              "       [0., 1., 0., 0., 0., 1., 0., 0., 1., 0.],\n",
              "       [0., 1., 0., 0., 0., 1., 0., 0., 0., 1.],\n",
              "       [0., 1., 0., 0., 0., 1., 0., 0., 0., 1.],\n",
              "       [0., 1., 0., 0., 0., 1., 0., 0., 0., 1.],\n",
              "       [0., 1., 0., 0., 0., 1., 0., 0., 0., 1.],\n",
              "       [0., 1., 0., 0., 0., 1., 0., 0., 0., 1.],\n",
              "       [0., 1., 0., 0., 1., 0., 0., 0., 0., 1.],\n",
              "       [0., 1., 0., 0., 0., 1., 0., 0., 1., 0.],\n",
              "       [1., 0., 0., 0., 0., 1., 0., 0., 0., 1.],\n",
              "       [1., 0., 0., 0., 0., 1., 0., 0., 0., 1.],\n",
              "       [0., 1., 0., 0., 0., 1., 0., 1., 0., 0.],\n",
              "       [0., 1., 0., 0., 0., 1., 0., 0., 0., 1.],\n",
              "       [1., 0., 0., 0., 1., 0., 0., 0., 0., 1.],\n",
              "       [0., 1., 0., 0., 0., 1., 0., 0., 0., 1.],\n",
              "       [1., 0., 0., 0., 0., 1., 0., 1., 0., 0.],\n",
              "       [1., 0., 0., 1., 0., 0., 0., 0., 0., 1.],\n",
              "       [1., 0., 0., 0., 0., 1., 0., 0., 0., 1.],\n",
              "       [0., 1., 0., 0., 0., 1., 0., 0., 0., 1.],\n",
              "       [1., 0., 1., 0., 0., 0., 0., 0., 0., 1.],\n",
              "       [0., 1., 1., 0., 0., 0., 0., 0., 0., 1.],\n",
              "       [1., 0., 1., 0., 0., 0., 0., 1., 0., 0.],\n",
              "       [0., 1., 1., 0., 0., 0., 0., 1., 0., 0.],\n",
              "       [0., 1., 0., 0., 0., 1., 0., 0., 0., 1.],\n",
              "       [0., 1., 0., 0., 0., 1., 0., 0., 0., 1.],\n",
              "       [0., 1., 0., 0., 0., 1., 0., 0., 1., 0.],\n",
              "       [0., 1., 0., 0., 0., 1., 0., 0., 1., 0.],\n",
              "       [0., 1., 0., 0., 0., 1., 0., 0., 0., 1.],\n",
              "       [0., 1., 0., 0., 0., 1., 0., 0., 1., 0.],\n",
              "       [0., 1., 0., 0., 0., 1., 0., 0., 0., 1.],\n",
              "       [0., 1., 0., 0., 0., 1., 0., 0., 0., 1.],\n",
              "       [1., 0., 0., 0., 0., 0., 1., 0., 0., 1.],\n",
              "       [0., 1., 0., 0., 0., 0., 1., 0., 1., 0.],\n",
              "       [0., 1., 0., 0., 0., 1., 0., 0., 0., 1.],\n",
              "       [0., 1., 0., 0., 0., 1., 0., 0., 0., 1.],\n",
              "       [0., 1., 0., 0., 0., 1., 0., 0., 0., 1.],\n",
              "       [0., 1., 0., 0., 0., 1., 0., 0., 0., 1.],\n",
              "       [1., 0., 0., 0., 0., 1., 0., 1., 0., 0.],\n",
              "       [0., 1., 0., 0., 0., 1., 0., 1., 0., 0.],\n",
              "       [0., 1., 0., 0., 1., 0., 0., 0., 1., 0.],\n",
              "       [1., 0., 0., 0., 1., 0., 0., 0., 0., 1.],\n",
              "       [1., 0., 0., 0., 0., 0., 1., 0., 0., 1.],\n",
              "       [0., 1., 0., 0., 0., 0., 1., 0., 0., 1.],\n",
              "       [0., 1., 0., 0., 0., 0., 1., 0., 1., 0.],\n",
              "       [1., 0., 0., 0., 1., 0., 0., 1., 0., 0.],\n",
              "       [0., 1., 0., 0., 1., 0., 0., 1., 0., 0.],\n",
              "       [0., 1., 0., 0., 1., 0., 0., 0., 0., 1.],\n",
              "       [1., 0., 0., 0., 1., 0., 0., 0., 1., 0.],\n",
              "       [0., 1., 0., 0., 1., 0., 0., 1., 0., 0.],\n",
              "       [0., 1., 0., 0., 1., 0., 0., 0., 0., 1.],\n",
              "       [1., 0., 0., 0., 1., 0., 0., 0., 1., 0.],\n",
              "       [0., 1., 0., 0., 1., 0., 0., 1., 0., 0.],\n",
              "       [1., 0., 0., 0., 1., 0., 0., 0., 0., 1.],\n",
              "       [1., 0., 0., 0., 1., 0., 0., 0., 1., 0.],\n",
              "       [0., 1., 0., 0., 0., 0., 1., 0., 1., 0.],\n",
              "       [1., 0., 0., 0., 1., 0., 0., 0., 0., 1.],\n",
              "       [1., 0., 0., 0., 0., 0., 1., 0., 0., 1.],\n",
              "       [0., 1., 1., 0., 0., 0., 0., 1., 0., 0.],\n",
              "       [0., 1., 1., 0., 0., 0., 0., 1., 0., 0.],\n",
              "       [1., 0., 1., 0., 0., 0., 0., 1., 0., 0.],\n",
              "       [1., 0., 0., 1., 0., 0., 0., 1., 0., 0.],\n",
              "       [0., 1., 1., 0., 0., 0., 0., 0., 0., 1.],\n",
              "       [0., 1., 1., 0., 0., 0., 0., 0., 0., 1.],\n",
              "       [1., 0., 0., 0., 1., 0., 0., 1., 0., 0.],\n",
              "       [1., 0., 0., 0., 0., 1., 0., 1., 0., 0.],\n",
              "       [1., 0., 0., 0., 1., 0., 0., 0., 0., 1.],\n",
              "       [1., 0., 0., 0., 1., 0., 0., 0., 1., 0.],\n",
              "       [1., 0., 0., 0., 1., 0., 0., 0., 1., 0.],\n",
              "       [0., 1., 0., 0., 1., 0., 0., 0., 0., 1.]])"
            ]
          },
<<<<<<< HEAD
          "execution_count": 50,
=======
          "execution_count": 73,
>>>>>>> f14c4eb5f5b2605a3f95e598977ae9cb0386e17b
          "metadata": {},
          "output_type": "execute_result"
        }
      ],
      "source": [
        "X = ohe.fit_transform(X).toarray()\n",
        "X"
      ]
    },
    {
      "cell_type": "code",
<<<<<<< HEAD
      "execution_count": 51,
      "metadata": {
        "id": "tAF4SF7E9kCp"
=======
      "execution_count": null,
      "metadata": {
        "id": "tAF4SF7E9kCp",
        "outputId": "d6898b38-7163-4840-d7db-b10ad3b76afe"
>>>>>>> f14c4eb5f5b2605a3f95e598977ae9cb0386e17b
      },
      "outputs": [
        {
          "data": {
            "text/plain": [
              "array([[0., 0., 0., 0., 0., 0., 1., 0., 0., 0.],\n",
              "       [1., 0., 0., 0., 0., 0., 0., 0., 0., 0.],\n",
              "       [0., 0., 0., 0., 0., 1., 0., 0., 0., 0.],\n",
              "       [0., 0., 0., 0., 0., 0., 0., 0., 1., 0.],\n",
              "       [0., 0., 0., 0., 0., 0., 0., 1., 0., 0.],\n",
              "       [0., 1., 0., 0., 0., 0., 0., 0., 0., 0.],\n",
              "       [0., 0., 0., 0., 0., 0., 0., 0., 1., 0.],\n",
              "       [0., 0., 0., 0., 0., 0., 1., 0., 0., 0.],\n",
              "       [0., 0., 0., 0., 0., 0., 0., 1., 0., 0.],\n",
              "       [0., 0., 0., 1., 0., 0., 0., 0., 0., 0.],\n",
              "       [0., 1., 0., 0., 0., 0., 0., 0., 0., 0.],\n",
              "       [0., 0., 0., 0., 0., 0., 1., 0., 0., 0.],\n",
              "       [0., 0., 0., 0., 0., 0., 0., 0., 1., 0.],\n",
              "       [0., 0., 0., 0., 0., 0., 0., 0., 1., 0.],\n",
              "       [0., 0., 0., 0., 0., 0., 0., 0., 1., 0.],\n",
              "       [0., 0., 0., 0., 0., 1., 0., 0., 0., 0.],\n",
              "       [0., 1., 0., 0., 0., 0., 0., 0., 0., 0.],\n",
              "       [0., 1., 0., 0., 0., 0., 0., 0., 0., 0.],\n",
              "       [0., 0., 0., 0., 0., 1., 0., 0., 0., 0.],\n",
              "       [0., 0., 0., 0., 0., 0., 1., 0., 0., 0.],\n",
              "       [1., 0., 0., 0., 0., 0., 0., 0., 0., 0.],\n",
              "       [0., 0., 0., 0., 1., 0., 0., 0., 0., 0.],\n",
              "       [0., 0., 0., 0., 0., 0., 0., 0., 1., 0.],\n",
              "       [1., 0., 0., 0., 0., 0., 0., 0., 0., 0.],\n",
              "       [0., 0., 0., 0., 0., 1., 0., 0., 0., 0.],\n",
              "       [0., 1., 0., 0., 0., 0., 0., 0., 0., 0.],\n",
              "       [0., 0., 0., 0., 0., 1., 0., 0., 0., 0.],\n",
              "       [0., 0., 0., 0., 1., 0., 0., 0., 0., 0.],\n",
              "       [0., 0., 0., 0., 0., 0., 1., 0., 0., 0.],\n",
              "       [0., 0., 1., 0., 0., 0., 0., 0., 0., 0.],\n",
              "       [0., 0., 0., 0., 0., 0., 0., 0., 1., 0.],\n",
              "       [0., 0., 0., 0., 0., 0., 0., 0., 0., 1.],\n",
              "       [0., 0., 0., 0., 1., 0., 0., 0., 0., 0.],\n",
              "       [0., 0., 0., 0., 0., 0., 0., 0., 1., 0.],\n",
              "       [0., 0., 0., 0., 0., 0., 0., 0., 0., 1.],\n",
              "       [0., 0., 0., 0., 0., 0., 0., 0., 1., 0.],\n",
              "       [0., 0., 0., 0., 0., 0., 0., 0., 1., 0.],\n",
              "       [0., 0., 0., 0., 0., 0., 0., 1., 0., 0.],\n",
              "       [0., 0., 0., 0., 0., 0., 0., 0., 0., 1.],\n",
              "       [0., 0., 0., 0., 0., 0., 0., 0., 0., 1.],\n",
              "       [0., 0., 0., 0., 0., 0., 1., 0., 0., 0.],\n",
              "       [1., 0., 0., 0., 0., 0., 0., 0., 0., 0.],\n",
              "       [1., 0., 0., 0., 0., 0., 0., 0., 0., 0.],\n",
              "       [0., 0., 0., 0., 0., 0., 1., 0., 0., 0.],\n",
              "       [0., 0., 0., 0., 0., 0., 0., 0., 1., 0.],\n",
              "       [0., 0., 0., 0., 0., 1., 0., 0., 0., 0.],\n",
              "       [0., 1., 0., 0., 0., 0., 0., 0., 0., 0.],\n",
              "       [0., 0., 0., 0., 0., 0., 0., 0., 1., 0.],\n",
              "       [1., 0., 0., 0., 0., 0., 0., 0., 0., 0.],\n",
              "       [0., 0., 0., 0., 1., 0., 0., 0., 0., 0.],\n",
              "       [0., 0., 0., 0., 0., 1., 0., 0., 0., 0.],\n",
              "       [0., 0., 0., 1., 0., 0., 0., 0., 0., 0.],\n",
              "       [0., 0., 0., 0., 0., 0., 0., 0., 1., 0.],\n",
              "       [0., 0., 0., 0., 0., 0., 0., 1., 0., 0.],\n",
              "       [1., 0., 0., 0., 0., 0., 0., 0., 0., 0.],\n",
              "       [0., 1., 0., 0., 0., 0., 0., 0., 0., 0.],\n",
              "       [0., 0., 0., 0., 0., 0., 1., 0., 0., 0.],\n",
              "       [0., 1., 0., 0., 0., 0., 0., 0., 0., 0.],\n",
              "       [0., 0., 0., 0., 0., 1., 0., 0., 0., 0.],\n",
              "       [0., 0., 1., 0., 0., 0., 0., 0., 0., 0.],\n",
              "       [1., 0., 0., 0., 0., 0., 0., 0., 0., 0.],\n",
              "       [0., 0., 0., 0., 0., 1., 0., 0., 0., 0.],\n",
              "       [0., 0., 1., 0., 0., 0., 0., 0., 0., 0.],\n",
              "       [0., 1., 0., 0., 0., 0., 0., 0., 0., 0.],\n",
              "       [0., 0., 0., 0., 0., 0., 0., 1., 0., 0.],\n",
              "       [0., 0., 0., 0., 0., 0., 0., 1., 0., 0.],\n",
              "       [0., 0., 0., 0., 0., 1., 0., 0., 0., 0.],\n",
              "       [0., 0., 0., 0., 0., 0., 0., 0., 1., 0.],\n",
              "       [0., 0., 0., 0., 0., 0., 1., 0., 0., 0.],\n",
              "       [1., 0., 0., 0., 0., 0., 0., 0., 0., 0.],\n",
              "       [0., 0., 0., 0., 0., 1., 0., 0., 0., 0.],\n",
              "       [0., 0., 0., 0., 0., 0., 1., 0., 0., 0.],\n",
              "       [1., 0., 0., 0., 0., 0., 0., 0., 0., 0.],\n",
              "       [0., 0., 0., 0., 0., 0., 0., 0., 1., 0.],\n",
              "       [0., 0., 0., 0., 0., 0., 1., 0., 0., 0.],\n",
              "       [1., 0., 0., 0., 0., 0., 0., 0., 0., 0.],\n",
              "       [0., 0., 0., 0., 0., 0., 0., 1., 0., 0.],\n",
              "       [1., 0., 0., 0., 0., 0., 0., 0., 0., 0.],\n",
              "       [0., 0., 1., 0., 0., 0., 0., 0., 0., 0.],\n",
              "       [0., 0., 0., 0., 0., 0., 1., 0., 0., 0.],\n",
              "       [0., 0., 0., 0., 0., 0., 1., 0., 0., 0.],\n",
              "       [0., 0., 1., 0., 0., 0., 0., 0., 0., 0.],\n",
              "       [0., 0., 0., 0., 0., 1., 0., 0., 0., 0.],\n",
              "       [1., 0., 0., 0., 0., 0., 0., 0., 0., 0.],\n",
              "       [1., 0., 0., 0., 0., 0., 0., 0., 0., 0.],\n",
              "       [0., 0., 0., 0., 0., 1., 0., 0., 0., 0.],\n",
              "       [0., 0., 0., 0., 0., 0., 0., 0., 1., 0.],\n",
              "       [0., 0., 0., 0., 0., 0., 1., 0., 0., 0.],\n",
              "       [0., 0., 0., 0., 0., 0., 1., 0., 0., 0.],\n",
              "       [1., 0., 0., 0., 0., 0., 0., 0., 0., 0.],\n",
              "       [0., 0., 0., 0., 0., 0., 1., 0., 0., 0.]])"
            ]
          },
<<<<<<< HEAD
          "execution_count": 51,
=======
          "execution_count": 74,
>>>>>>> f14c4eb5f5b2605a3f95e598977ae9cb0386e17b
          "metadata": {},
          "output_type": "execute_result"
        }
      ],
      "source": [
        "y = ohe.fit_transform(y).toarray()\n",
        "y"
      ]
    },
    {
      "cell_type": "code",
<<<<<<< HEAD
      "execution_count": 52,
      "metadata": {
        "id": "Q4vv3Rp39kCq"
=======
      "execution_count": null,
      "metadata": {
        "id": "Q4vv3Rp39kCq",
        "outputId": "ba54c35c-1951-4cdb-d5d3-ad8400c2d92a"
>>>>>>> f14c4eb5f5b2605a3f95e598977ae9cb0386e17b
      },
      "outputs": [
        {
          "data": {
            "text/plain": [
              "array([[0., 0., 0., 0., 0., 1., 0., 0.],\n",
              "       [0., 0., 0., 0., 0., 1., 0., 0.],\n",
              "       [0., 1., 0., 0., 0., 0., 0., 0.],\n",
              "       [0., 1., 0., 0., 0., 0., 0., 0.],\n",
              "       [0., 0., 0., 0., 0., 0., 0., 1.],\n",
              "       [0., 0., 0., 0., 0., 0., 0., 1.],\n",
              "       [0., 0., 0., 0., 0., 1., 0., 0.],\n",
              "       [0., 0., 0., 0., 0., 0., 0., 1.],\n",
              "       [0., 0., 1., 0., 0., 0., 0., 0.],\n",
              "       [0., 0., 0., 0., 1., 0., 0., 0.],\n",
              "       [0., 1., 0., 0., 0., 0., 0., 0.],\n",
              "       [0., 0., 0., 0., 0., 0., 0., 1.],\n",
              "       [0., 0., 0., 0., 1., 0., 0., 0.],\n",
              "       [0., 0., 0., 0., 1., 0., 0., 0.],\n",
              "       [1., 0., 0., 0., 0., 0., 0., 0.],\n",
              "       [0., 0., 0., 0., 1., 0., 0., 0.],\n",
              "       [0., 0., 0., 0., 0., 1., 0., 0.],\n",
              "       [0., 0., 1., 0., 0., 0., 0., 0.],\n",
              "       [0., 0., 0., 0., 0., 1., 0., 0.],\n",
              "       [0., 0., 0., 0., 0., 0., 0., 1.],\n",
              "       [0., 0., 0., 0., 0., 1., 0., 0.],\n",
              "       [0., 0., 0., 0., 0., 0., 0., 1.],\n",
              "       [0., 0., 0., 0., 0., 0., 1., 0.],\n",
              "       [0., 0., 1., 0., 0., 0., 0., 0.],\n",
              "       [0., 0., 0., 1., 0., 0., 0., 0.],\n",
              "       [0., 0., 1., 0., 0., 0., 0., 0.],\n",
              "       [0., 0., 0., 0., 1., 0., 0., 0.],\n",
              "       [1., 0., 0., 0., 0., 0., 0., 0.],\n",
              "       [0., 0., 1., 0., 0., 0., 0., 0.],\n",
              "       [0., 0., 0., 0., 0., 1., 0., 0.],\n",
              "       [0., 0., 0., 1., 0., 0., 0., 0.],\n",
              "       [0., 0., 0., 0., 1., 0., 0., 0.],\n",
              "       [0., 0., 0., 0., 0., 0., 1., 0.],\n",
              "       [0., 0., 1., 0., 0., 0., 0., 0.],\n",
              "       [0., 1., 0., 0., 0., 0., 0., 0.],\n",
              "       [1., 0., 0., 0., 0., 0., 0., 0.],\n",
              "       [0., 1., 0., 0., 0., 0., 0., 0.],\n",
              "       [1., 0., 0., 0., 0., 0., 0., 0.],\n",
              "       [0., 0., 0., 1., 0., 0., 0., 0.],\n",
              "       [0., 0., 0., 0., 0., 0., 0., 1.],\n",
              "       [0., 0., 0., 0., 0., 0., 0., 1.],\n",
              "       [0., 0., 1., 0., 0., 0., 0., 0.],\n",
              "       [0., 0., 1., 0., 0., 0., 0., 0.],\n",
              "       [0., 0., 0., 0., 0., 1., 0., 0.],\n",
              "       [0., 0., 0., 0., 0., 1., 0., 0.],\n",
              "       [0., 0., 0., 0., 1., 0., 0., 0.],\n",
              "       [0., 0., 0., 0., 0., 1., 0., 0.],\n",
              "       [0., 0., 1., 0., 0., 0., 0., 0.],\n",
              "       [0., 0., 0., 0., 1., 0., 0., 0.],\n",
              "       [1., 0., 0., 0., 0., 0., 0., 0.],\n",
              "       [0., 0., 0., 0., 0., 1., 0., 0.],\n",
              "       [0., 0., 0., 1., 0., 0., 0., 0.],\n",
              "       [0., 0., 0., 0., 0., 0., 0., 1.],\n",
              "       [0., 0., 0., 0., 1., 0., 0., 0.],\n",
              "       [0., 1., 0., 0., 0., 0., 0., 0.],\n",
              "       [0., 0., 0., 0., 0., 0., 1., 0.],\n",
              "       [0., 0., 0., 0., 0., 0., 1., 0.],\n",
              "       [0., 0., 0., 0., 0., 0., 1., 0.],\n",
              "       [0., 0., 0., 0., 0., 1., 0., 0.],\n",
              "       [0., 0., 0., 0., 0., 0., 1., 0.],\n",
              "       [0., 0., 0., 0., 0., 1., 0., 0.],\n",
              "       [0., 0., 1., 0., 0., 0., 0., 0.],\n",
              "       [0., 1., 0., 0., 0., 0., 0., 0.],\n",
              "       [0., 0., 0., 0., 1., 0., 0., 0.],\n",
              "       [0., 0., 0., 0., 1., 0., 0., 0.],\n",
              "       [0., 1., 0., 0., 0., 0., 0., 0.],\n",
              "       [0., 0., 0., 0., 0., 1., 0., 0.],\n",
              "       [0., 1., 0., 0., 0., 0., 0., 0.],\n",
              "       [0., 1., 0., 0., 0., 0., 0., 0.],\n",
              "       [0., 0., 1., 0., 0., 0., 0., 0.],\n",
              "       [0., 0., 0., 0., 0., 0., 1., 0.],\n",
              "       [0., 0., 0., 0., 1., 0., 0., 0.],\n",
              "       [0., 0., 1., 0., 0., 0., 0., 0.],\n",
              "       [0., 0., 0., 0., 0., 1., 0., 0.],\n",
              "       [0., 1., 0., 0., 0., 0., 0., 0.],\n",
              "       [0., 0., 1., 0., 0., 0., 0., 0.],\n",
              "       [0., 1., 0., 0., 0., 0., 0., 0.],\n",
              "       [0., 0., 1., 0., 0., 0., 0., 0.],\n",
              "       [0., 1., 0., 0., 0., 0., 0., 0.],\n",
              "       [0., 1., 0., 0., 0., 0., 0., 0.],\n",
              "       [0., 1., 0., 0., 0., 0., 0., 0.],\n",
              "       [0., 1., 0., 0., 0., 0., 0., 0.],\n",
              "       [0., 0., 0., 0., 0., 1., 0., 0.],\n",
              "       [0., 0., 1., 0., 0., 0., 0., 0.],\n",
              "       [0., 0., 1., 0., 0., 0., 0., 0.],\n",
              "       [0., 1., 0., 0., 0., 0., 0., 0.],\n",
              "       [0., 1., 0., 0., 0., 0., 0., 0.],\n",
              "       [0., 0., 0., 0., 0., 1., 0., 0.],\n",
              "       [0., 1., 0., 0., 0., 0., 0., 0.],\n",
              "       [0., 0., 1., 0., 0., 0., 0., 0.],\n",
              "       [0., 0., 1., 0., 0., 0., 0., 0.]])"
            ]
          },
<<<<<<< HEAD
          "execution_count": 52,
=======
          "execution_count": 75,
>>>>>>> f14c4eb5f5b2605a3f95e598977ae9cb0386e17b
          "metadata": {},
          "output_type": "execute_result"
        }
      ],
      "source": [
        "z = ohe.fit_transform(z).toarray()\n",
        "z"
      ]
    },
    {
      "cell_type": "code",
      "execution_count": null,
      "metadata": {
<<<<<<< HEAD
        "id": "hEDT3X3VB5J9"
      },
      "outputs": [],
      "source": [
        "v = ohe.fit_transform(v).toarray()\n",
        "v"
      ]
    },
    {
      "cell_type": "markdown",
      "metadata": {
        "id": "LLDuwyztwRpM"
      },
      "source": [
        "## Classifier model\n"
      ]
    },
    {
      "cell_type": "code",
      "execution_count": 53,
      "metadata": {
        "colab": {
          "base_uri": "https://localhost:8080/"
        },
        "id": "SJN35MRffF8Y",
        "outputId": "4102029c-3663-40e7-e6b2-fb5a5b3cafb6"
      },
      "outputs": [
        {
          "data": {
            "text/html": [
              "<style>#sk-container-id-3 {color: black;background-color: white;}#sk-container-id-3 pre{padding: 0;}#sk-container-id-3 div.sk-toggleable {background-color: white;}#sk-container-id-3 label.sk-toggleable__label {cursor: pointer;display: block;width: 100%;margin-bottom: 0;padding: 0.3em;box-sizing: border-box;text-align: center;}#sk-container-id-3 label.sk-toggleable__label-arrow:before {content: \"▸\";float: left;margin-right: 0.25em;color: #696969;}#sk-container-id-3 label.sk-toggleable__label-arrow:hover:before {color: black;}#sk-container-id-3 div.sk-estimator:hover label.sk-toggleable__label-arrow:before {color: black;}#sk-container-id-3 div.sk-toggleable__content {max-height: 0;max-width: 0;overflow: hidden;text-align: left;background-color: #f0f8ff;}#sk-container-id-3 div.sk-toggleable__content pre {margin: 0.2em;color: black;border-radius: 0.25em;background-color: #f0f8ff;}#sk-container-id-3 input.sk-toggleable__control:checked~div.sk-toggleable__content {max-height: 200px;max-width: 100%;overflow: auto;}#sk-container-id-3 input.sk-toggleable__control:checked~label.sk-toggleable__label-arrow:before {content: \"▾\";}#sk-container-id-3 div.sk-estimator input.sk-toggleable__control:checked~label.sk-toggleable__label {background-color: #d4ebff;}#sk-container-id-3 div.sk-label input.sk-toggleable__control:checked~label.sk-toggleable__label {background-color: #d4ebff;}#sk-container-id-3 input.sk-hidden--visually {border: 0;clip: rect(1px 1px 1px 1px);clip: rect(1px, 1px, 1px, 1px);height: 1px;margin: -1px;overflow: hidden;padding: 0;position: absolute;width: 1px;}#sk-container-id-3 div.sk-estimator {font-family: monospace;background-color: #f0f8ff;border: 1px dotted black;border-radius: 0.25em;box-sizing: border-box;margin-bottom: 0.5em;}#sk-container-id-3 div.sk-estimator:hover {background-color: #d4ebff;}#sk-container-id-3 div.sk-parallel-item::after {content: \"\";width: 100%;border-bottom: 1px solid gray;flex-grow: 1;}#sk-container-id-3 div.sk-label:hover label.sk-toggleable__label {background-color: #d4ebff;}#sk-container-id-3 div.sk-serial::before {content: \"\";position: absolute;border-left: 1px solid gray;box-sizing: border-box;top: 0;bottom: 0;left: 50%;z-index: 0;}#sk-container-id-3 div.sk-serial {display: flex;flex-direction: column;align-items: center;background-color: white;padding-right: 0.2em;padding-left: 0.2em;position: relative;}#sk-container-id-3 div.sk-item {position: relative;z-index: 1;}#sk-container-id-3 div.sk-parallel {display: flex;align-items: stretch;justify-content: center;background-color: white;position: relative;}#sk-container-id-3 div.sk-item::before, #sk-container-id-3 div.sk-parallel-item::before {content: \"\";position: absolute;border-left: 1px solid gray;box-sizing: border-box;top: 0;bottom: 0;left: 50%;z-index: -1;}#sk-container-id-3 div.sk-parallel-item {display: flex;flex-direction: column;z-index: 1;position: relative;background-color: white;}#sk-container-id-3 div.sk-parallel-item:first-child::after {align-self: flex-end;width: 50%;}#sk-container-id-3 div.sk-parallel-item:last-child::after {align-self: flex-start;width: 50%;}#sk-container-id-3 div.sk-parallel-item:only-child::after {width: 0;}#sk-container-id-3 div.sk-dashed-wrapped {border: 1px dashed gray;margin: 0 0.4em 0.5em 0.4em;box-sizing: border-box;padding-bottom: 0.4em;background-color: white;}#sk-container-id-3 div.sk-label label {font-family: monospace;font-weight: bold;display: inline-block;line-height: 1.2em;}#sk-container-id-3 div.sk-label-container {text-align: center;}#sk-container-id-3 div.sk-container {/* jupyter's `normalize.less` sets `[hidden] { display: none; }` but bootstrap.min.css set `[hidden] { display: none !important; }` so we also need the `!important` here to be able to override the default hidden behavior on the sphinx rendered scikit-learn.org. See: https://github.com/scikit-learn/scikit-learn/issues/21755 */display: inline-block !important;position: relative;}#sk-container-id-3 div.sk-text-repr-fallback {display: none;}</style><div id=\"sk-container-id-3\" class=\"sk-top-container\"><div class=\"sk-text-repr-fallback\"><pre>DecisionTreeClassifier()</pre><b>In a Jupyter environment, please rerun this cell to show the HTML representation or trust the notebook. <br />On GitHub, the HTML representation is unable to render, please try loading this page with nbviewer.org.</b></div><div class=\"sk-container\" hidden><div class=\"sk-item\"><div class=\"sk-estimator sk-toggleable\"><input class=\"sk-toggleable__control sk-hidden--visually\" id=\"sk-estimator-id-3\" type=\"checkbox\" checked><label for=\"sk-estimator-id-3\" class=\"sk-toggleable__label sk-toggleable__label-arrow\">DecisionTreeClassifier</label><div class=\"sk-toggleable__content\"><pre>DecisionTreeClassifier()</pre></div></div></div></div></div>"
            ],
            "text/plain": [
              "DecisionTreeClassifier()"
            ]
          },
          "execution_count": 53,
          "metadata": {},
          "output_type": "execute_result"
        }
      ],
      "source": [
        "classifier = DecisionTreeClassifier()\n",
        "classifierDrink = DecisionTreeClassifier()\n",
        "classifier.fit(X, y)\n",
        "classifierDrink.fit(X, z)"
      ]
    },
    {
      "cell_type": "code",
      "execution_count": 54,
      "metadata": {
        "id": "vJEsZKamyxtf"
      },
      "outputs": [],
      "source": [
        "y_class_pred = classifier.predict(X)\n",
        "z_class_pred = classifierDrink.predict(X)"
      ]
    },
    {
      "cell_type": "markdown",
      "metadata": {
        "id": "MxbjsR0-yzbt"
      },
      "source": [
        "## Regression model (doesn't work)"
      ]
    },
    {
      "cell_type": "code",
      "execution_count": 55,
      "metadata": {
        "colab": {
          "base_uri": "https://localhost:8080/"
        },
        "id": "npOm6Asv9kCs",
        "outputId": "e87a0ed8-54dc-4576-b500-95e6eb15ec25"
=======
        "id": "npOm6Asv9kCs",
        "outputId": "fcd77c75-cb90-469f-87ac-51dc93738460"
>>>>>>> f14c4eb5f5b2605a3f95e598977ae9cb0386e17b
      },
      "outputs": [
        {
          "data": {
            "text/html": [
<<<<<<< HEAD
              "<style>#sk-container-id-4 {color: black;background-color: white;}#sk-container-id-4 pre{padding: 0;}#sk-container-id-4 div.sk-toggleable {background-color: white;}#sk-container-id-4 label.sk-toggleable__label {cursor: pointer;display: block;width: 100%;margin-bottom: 0;padding: 0.3em;box-sizing: border-box;text-align: center;}#sk-container-id-4 label.sk-toggleable__label-arrow:before {content: \"▸\";float: left;margin-right: 0.25em;color: #696969;}#sk-container-id-4 label.sk-toggleable__label-arrow:hover:before {color: black;}#sk-container-id-4 div.sk-estimator:hover label.sk-toggleable__label-arrow:before {color: black;}#sk-container-id-4 div.sk-toggleable__content {max-height: 0;max-width: 0;overflow: hidden;text-align: left;background-color: #f0f8ff;}#sk-container-id-4 div.sk-toggleable__content pre {margin: 0.2em;color: black;border-radius: 0.25em;background-color: #f0f8ff;}#sk-container-id-4 input.sk-toggleable__control:checked~div.sk-toggleable__content {max-height: 200px;max-width: 100%;overflow: auto;}#sk-container-id-4 input.sk-toggleable__control:checked~label.sk-toggleable__label-arrow:before {content: \"▾\";}#sk-container-id-4 div.sk-estimator input.sk-toggleable__control:checked~label.sk-toggleable__label {background-color: #d4ebff;}#sk-container-id-4 div.sk-label input.sk-toggleable__control:checked~label.sk-toggleable__label {background-color: #d4ebff;}#sk-container-id-4 input.sk-hidden--visually {border: 0;clip: rect(1px 1px 1px 1px);clip: rect(1px, 1px, 1px, 1px);height: 1px;margin: -1px;overflow: hidden;padding: 0;position: absolute;width: 1px;}#sk-container-id-4 div.sk-estimator {font-family: monospace;background-color: #f0f8ff;border: 1px dotted black;border-radius: 0.25em;box-sizing: border-box;margin-bottom: 0.5em;}#sk-container-id-4 div.sk-estimator:hover {background-color: #d4ebff;}#sk-container-id-4 div.sk-parallel-item::after {content: \"\";width: 100%;border-bottom: 1px solid gray;flex-grow: 1;}#sk-container-id-4 div.sk-label:hover label.sk-toggleable__label {background-color: #d4ebff;}#sk-container-id-4 div.sk-serial::before {content: \"\";position: absolute;border-left: 1px solid gray;box-sizing: border-box;top: 0;bottom: 0;left: 50%;z-index: 0;}#sk-container-id-4 div.sk-serial {display: flex;flex-direction: column;align-items: center;background-color: white;padding-right: 0.2em;padding-left: 0.2em;position: relative;}#sk-container-id-4 div.sk-item {position: relative;z-index: 1;}#sk-container-id-4 div.sk-parallel {display: flex;align-items: stretch;justify-content: center;background-color: white;position: relative;}#sk-container-id-4 div.sk-item::before, #sk-container-id-4 div.sk-parallel-item::before {content: \"\";position: absolute;border-left: 1px solid gray;box-sizing: border-box;top: 0;bottom: 0;left: 50%;z-index: -1;}#sk-container-id-4 div.sk-parallel-item {display: flex;flex-direction: column;z-index: 1;position: relative;background-color: white;}#sk-container-id-4 div.sk-parallel-item:first-child::after {align-self: flex-end;width: 50%;}#sk-container-id-4 div.sk-parallel-item:last-child::after {align-self: flex-start;width: 50%;}#sk-container-id-4 div.sk-parallel-item:only-child::after {width: 0;}#sk-container-id-4 div.sk-dashed-wrapped {border: 1px dashed gray;margin: 0 0.4em 0.5em 0.4em;box-sizing: border-box;padding-bottom: 0.4em;background-color: white;}#sk-container-id-4 div.sk-label label {font-family: monospace;font-weight: bold;display: inline-block;line-height: 1.2em;}#sk-container-id-4 div.sk-label-container {text-align: center;}#sk-container-id-4 div.sk-container {/* jupyter's `normalize.less` sets `[hidden] { display: none; }` but bootstrap.min.css set `[hidden] { display: none !important; }` so we also need the `!important` here to be able to override the default hidden behavior on the sphinx rendered scikit-learn.org. See: https://github.com/scikit-learn/scikit-learn/issues/21755 */display: inline-block !important;position: relative;}#sk-container-id-4 div.sk-text-repr-fallback {display: none;}</style><div id=\"sk-container-id-4\" class=\"sk-top-container\"><div class=\"sk-text-repr-fallback\"><pre>DecisionTreeRegressor(random_state=0)</pre><b>In a Jupyter environment, please rerun this cell to show the HTML representation or trust the notebook. <br />On GitHub, the HTML representation is unable to render, please try loading this page with nbviewer.org.</b></div><div class=\"sk-container\" hidden><div class=\"sk-item\"><div class=\"sk-estimator sk-toggleable\"><input class=\"sk-toggleable__control sk-hidden--visually\" id=\"sk-estimator-id-4\" type=\"checkbox\" checked><label for=\"sk-estimator-id-4\" class=\"sk-toggleable__label sk-toggleable__label-arrow\">DecisionTreeRegressor</label><div class=\"sk-toggleable__content\"><pre>DecisionTreeRegressor(random_state=0)</pre></div></div></div></div></div>"
=======
              "<style>#sk-container-id-2 {color: black;background-color: white;}#sk-container-id-2 pre{padding: 0;}#sk-container-id-2 div.sk-toggleable {background-color: white;}#sk-container-id-2 label.sk-toggleable__label {cursor: pointer;display: block;width: 100%;margin-bottom: 0;padding: 0.3em;box-sizing: border-box;text-align: center;}#sk-container-id-2 label.sk-toggleable__label-arrow:before {content: \"▸\";float: left;margin-right: 0.25em;color: #696969;}#sk-container-id-2 label.sk-toggleable__label-arrow:hover:before {color: black;}#sk-container-id-2 div.sk-estimator:hover label.sk-toggleable__label-arrow:before {color: black;}#sk-container-id-2 div.sk-toggleable__content {max-height: 0;max-width: 0;overflow: hidden;text-align: left;background-color: #f0f8ff;}#sk-container-id-2 div.sk-toggleable__content pre {margin: 0.2em;color: black;border-radius: 0.25em;background-color: #f0f8ff;}#sk-container-id-2 input.sk-toggleable__control:checked~div.sk-toggleable__content {max-height: 200px;max-width: 100%;overflow: auto;}#sk-container-id-2 input.sk-toggleable__control:checked~label.sk-toggleable__label-arrow:before {content: \"▾\";}#sk-container-id-2 div.sk-estimator input.sk-toggleable__control:checked~label.sk-toggleable__label {background-color: #d4ebff;}#sk-container-id-2 div.sk-label input.sk-toggleable__control:checked~label.sk-toggleable__label {background-color: #d4ebff;}#sk-container-id-2 input.sk-hidden--visually {border: 0;clip: rect(1px 1px 1px 1px);clip: rect(1px, 1px, 1px, 1px);height: 1px;margin: -1px;overflow: hidden;padding: 0;position: absolute;width: 1px;}#sk-container-id-2 div.sk-estimator {font-family: monospace;background-color: #f0f8ff;border: 1px dotted black;border-radius: 0.25em;box-sizing: border-box;margin-bottom: 0.5em;}#sk-container-id-2 div.sk-estimator:hover {background-color: #d4ebff;}#sk-container-id-2 div.sk-parallel-item::after {content: \"\";width: 100%;border-bottom: 1px solid gray;flex-grow: 1;}#sk-container-id-2 div.sk-label:hover label.sk-toggleable__label {background-color: #d4ebff;}#sk-container-id-2 div.sk-serial::before {content: \"\";position: absolute;border-left: 1px solid gray;box-sizing: border-box;top: 0;bottom: 0;left: 50%;z-index: 0;}#sk-container-id-2 div.sk-serial {display: flex;flex-direction: column;align-items: center;background-color: white;padding-right: 0.2em;padding-left: 0.2em;position: relative;}#sk-container-id-2 div.sk-item {position: relative;z-index: 1;}#sk-container-id-2 div.sk-parallel {display: flex;align-items: stretch;justify-content: center;background-color: white;position: relative;}#sk-container-id-2 div.sk-item::before, #sk-container-id-2 div.sk-parallel-item::before {content: \"\";position: absolute;border-left: 1px solid gray;box-sizing: border-box;top: 0;bottom: 0;left: 50%;z-index: -1;}#sk-container-id-2 div.sk-parallel-item {display: flex;flex-direction: column;z-index: 1;position: relative;background-color: white;}#sk-container-id-2 div.sk-parallel-item:first-child::after {align-self: flex-end;width: 50%;}#sk-container-id-2 div.sk-parallel-item:last-child::after {align-self: flex-start;width: 50%;}#sk-container-id-2 div.sk-parallel-item:only-child::after {width: 0;}#sk-container-id-2 div.sk-dashed-wrapped {border: 1px dashed gray;margin: 0 0.4em 0.5em 0.4em;box-sizing: border-box;padding-bottom: 0.4em;background-color: white;}#sk-container-id-2 div.sk-label label {font-family: monospace;font-weight: bold;display: inline-block;line-height: 1.2em;}#sk-container-id-2 div.sk-label-container {text-align: center;}#sk-container-id-2 div.sk-container {/* jupyter's `normalize.less` sets `[hidden] { display: none; }` but bootstrap.min.css set `[hidden] { display: none !important; }` so we also need the `!important` here to be able to override the default hidden behavior on the sphinx rendered scikit-learn.org. See: https://github.com/scikit-learn/scikit-learn/issues/21755 */display: inline-block !important;position: relative;}#sk-container-id-2 div.sk-text-repr-fallback {display: none;}</style><div id=\"sk-container-id-2\" class=\"sk-top-container\"><div class=\"sk-text-repr-fallback\"><pre>DecisionTreeRegressor(random_state=0)</pre><b>In a Jupyter environment, please rerun this cell to show the HTML representation or trust the notebook. <br />On GitHub, the HTML representation is unable to render, please try loading this page with nbviewer.org.</b></div><div class=\"sk-container\" hidden><div class=\"sk-item\"><div class=\"sk-estimator sk-toggleable\"><input class=\"sk-toggleable__control sk-hidden--visually\" id=\"sk-estimator-id-2\" type=\"checkbox\" checked><label for=\"sk-estimator-id-2\" class=\"sk-toggleable__label sk-toggleable__label-arrow\">DecisionTreeRegressor</label><div class=\"sk-toggleable__content\"><pre>DecisionTreeRegressor(random_state=0)</pre></div></div></div></div></div>"
>>>>>>> f14c4eb5f5b2605a3f95e598977ae9cb0386e17b
            ],
            "text/plain": [
              "DecisionTreeRegressor(random_state=0)"
            ]
          },
<<<<<<< HEAD
          "execution_count": 55,
=======
          "execution_count": 82,
>>>>>>> f14c4eb5f5b2605a3f95e598977ae9cb0386e17b
          "metadata": {},
          "output_type": "execute_result"
        }
      ],
      "source": [
        "regressorFood = DecisionTreeRegressor(random_state=0)\n",
        "regressorDrink = DecisionTreeRegressor(random_state=0)\n",
<<<<<<< HEAD
        "regressorFood.fit(X_train_data, y_train_data)\n",
        "regressorDrink.fit(Xz_train_data, z_train_data)"
=======
        "regressorFood.fit(X, y)\n",
        "regressorDrink.fit(X,z)"
>>>>>>> f14c4eb5f5b2605a3f95e598977ae9cb0386e17b
      ]
    },
    {
      "cell_type": "code",
<<<<<<< HEAD
      "execution_count": 56,
=======
      "execution_count": null,
>>>>>>> f14c4eb5f5b2605a3f95e598977ae9cb0386e17b
      "metadata": {
        "id": "Uwche6eR9kCt"
      },
      "outputs": [],
      "source": [
<<<<<<< HEAD
        "y_pred = regressorFood.predict(X_test_data)\n",
        "z_pred = regressorDrink.predict(X_test_data)"
      ]
    },
    {
      "cell_type": "markdown",
      "metadata": {
        "id": "VpLPCfiyFtmN"
      },
      "source": [
        "## Random Forest"
      ]
    },
    {
      "cell_type": "code",
      "execution_count": 27,
      "metadata": {
        "id": "qDBy-de0FxKz"
      },
      "outputs": [],
      "source": [
        "forest_classY = RandomForestClassifier(500)\n",
        "forest_classZ = RandomForestClassifier(500)"
      ]
    },
    {
      "cell_type": "code",
      "execution_count": 28,
      "metadata": {
        "colab": {
          "base_uri": "https://localhost:8080/"
        },
        "id": "JWQXihCOF55W",
        "outputId": "7461eaad-c4c0-4082-8cb5-d2dce3bb9ad0"
      },
      "outputs": [
        {
          "data": {
            "text/html": [
              "<style>#sk-container-id-2 {color: black;background-color: white;}#sk-container-id-2 pre{padding: 0;}#sk-container-id-2 div.sk-toggleable {background-color: white;}#sk-container-id-2 label.sk-toggleable__label {cursor: pointer;display: block;width: 100%;margin-bottom: 0;padding: 0.3em;box-sizing: border-box;text-align: center;}#sk-container-id-2 label.sk-toggleable__label-arrow:before {content: \"▸\";float: left;margin-right: 0.25em;color: #696969;}#sk-container-id-2 label.sk-toggleable__label-arrow:hover:before {color: black;}#sk-container-id-2 div.sk-estimator:hover label.sk-toggleable__label-arrow:before {color: black;}#sk-container-id-2 div.sk-toggleable__content {max-height: 0;max-width: 0;overflow: hidden;text-align: left;background-color: #f0f8ff;}#sk-container-id-2 div.sk-toggleable__content pre {margin: 0.2em;color: black;border-radius: 0.25em;background-color: #f0f8ff;}#sk-container-id-2 input.sk-toggleable__control:checked~div.sk-toggleable__content {max-height: 200px;max-width: 100%;overflow: auto;}#sk-container-id-2 input.sk-toggleable__control:checked~label.sk-toggleable__label-arrow:before {content: \"▾\";}#sk-container-id-2 div.sk-estimator input.sk-toggleable__control:checked~label.sk-toggleable__label {background-color: #d4ebff;}#sk-container-id-2 div.sk-label input.sk-toggleable__control:checked~label.sk-toggleable__label {background-color: #d4ebff;}#sk-container-id-2 input.sk-hidden--visually {border: 0;clip: rect(1px 1px 1px 1px);clip: rect(1px, 1px, 1px, 1px);height: 1px;margin: -1px;overflow: hidden;padding: 0;position: absolute;width: 1px;}#sk-container-id-2 div.sk-estimator {font-family: monospace;background-color: #f0f8ff;border: 1px dotted black;border-radius: 0.25em;box-sizing: border-box;margin-bottom: 0.5em;}#sk-container-id-2 div.sk-estimator:hover {background-color: #d4ebff;}#sk-container-id-2 div.sk-parallel-item::after {content: \"\";width: 100%;border-bottom: 1px solid gray;flex-grow: 1;}#sk-container-id-2 div.sk-label:hover label.sk-toggleable__label {background-color: #d4ebff;}#sk-container-id-2 div.sk-serial::before {content: \"\";position: absolute;border-left: 1px solid gray;box-sizing: border-box;top: 0;bottom: 0;left: 50%;z-index: 0;}#sk-container-id-2 div.sk-serial {display: flex;flex-direction: column;align-items: center;background-color: white;padding-right: 0.2em;padding-left: 0.2em;position: relative;}#sk-container-id-2 div.sk-item {position: relative;z-index: 1;}#sk-container-id-2 div.sk-parallel {display: flex;align-items: stretch;justify-content: center;background-color: white;position: relative;}#sk-container-id-2 div.sk-item::before, #sk-container-id-2 div.sk-parallel-item::before {content: \"\";position: absolute;border-left: 1px solid gray;box-sizing: border-box;top: 0;bottom: 0;left: 50%;z-index: -1;}#sk-container-id-2 div.sk-parallel-item {display: flex;flex-direction: column;z-index: 1;position: relative;background-color: white;}#sk-container-id-2 div.sk-parallel-item:first-child::after {align-self: flex-end;width: 50%;}#sk-container-id-2 div.sk-parallel-item:last-child::after {align-self: flex-start;width: 50%;}#sk-container-id-2 div.sk-parallel-item:only-child::after {width: 0;}#sk-container-id-2 div.sk-dashed-wrapped {border: 1px dashed gray;margin: 0 0.4em 0.5em 0.4em;box-sizing: border-box;padding-bottom: 0.4em;background-color: white;}#sk-container-id-2 div.sk-label label {font-family: monospace;font-weight: bold;display: inline-block;line-height: 1.2em;}#sk-container-id-2 div.sk-label-container {text-align: center;}#sk-container-id-2 div.sk-container {/* jupyter's `normalize.less` sets `[hidden] { display: none; }` but bootstrap.min.css set `[hidden] { display: none !important; }` so we also need the `!important` here to be able to override the default hidden behavior on the sphinx rendered scikit-learn.org. See: https://github.com/scikit-learn/scikit-learn/issues/21755 */display: inline-block !important;position: relative;}#sk-container-id-2 div.sk-text-repr-fallback {display: none;}</style><div id=\"sk-container-id-2\" class=\"sk-top-container\"><div class=\"sk-text-repr-fallback\"><pre>RandomForestClassifier(n_estimators=500)</pre><b>In a Jupyter environment, please rerun this cell to show the HTML representation or trust the notebook. <br />On GitHub, the HTML representation is unable to render, please try loading this page with nbviewer.org.</b></div><div class=\"sk-container\" hidden><div class=\"sk-item\"><div class=\"sk-estimator sk-toggleable\"><input class=\"sk-toggleable__control sk-hidden--visually\" id=\"sk-estimator-id-2\" type=\"checkbox\" checked><label for=\"sk-estimator-id-2\" class=\"sk-toggleable__label sk-toggleable__label-arrow\">RandomForestClassifier</label><div class=\"sk-toggleable__content\"><pre>RandomForestClassifier(n_estimators=500)</pre></div></div></div></div></div>"
            ],
            "text/plain": [
              "RandomForestClassifier(n_estimators=500)"
            ]
          },
          "execution_count": 28,
          "metadata": {},
          "output_type": "execute_result"
        }
      ],
      "source": [
        "forest_classY.fit(X, y)\n",
        "forest_classZ.fit(X, z)"
      ]
    },
    {
      "cell_type": "code",
      "execution_count": 29,
      "metadata": {
        "id": "OXcTImPfGLvn"
      },
      "outputs": [],
      "source": [
        "forest_classY_pred = forest_classY.predict(X)\n",
        "forest_classZ_pred = forest_classZ.predict(X)"
=======
        "y_pred = regressorFood.predict(X)\n",
        "z_pred = regressorDrink.predict(X)"
>>>>>>> f14c4eb5f5b2605a3f95e598977ae9cb0386e17b
      ]
    },
    {
      "cell_type": "markdown",
      "metadata": {
        "id": "b5aY1bPb9kCu"
      },
      "source": [
        "FOR ACCURACY"
      ]
    },
    {
      "cell_type": "code",
<<<<<<< HEAD
      "execution_count": 30,
      "metadata": {
        "id": "dhFUYRytfz55"
      },
      "outputs": [],
      "source": [
        "from sklearn.metrics import classification_report"
      ]
    },
    {
      "cell_type": "code",
      "execution_count": null,
      "metadata": {
        "id": "OpQqyq0zf6o9"
      },
      "outputs": [],
      "source": [
        "print(classification_report(y, y_class_pred))"
      ]
    },
    {
      "cell_type": "markdown",
      "metadata": {
        "id": "v-u6ZiX5gfgu"
      },
      "source": [
        "Classifier"
      ]
    },
    {
      "cell_type": "code",
      "execution_count": 32,
      "metadata": {
        "id": "cjHihyWsCk8Q"
      },
      "outputs": [],
      "source": [
        "from sklearn.metrics import accuracy_score"
      ]
    },
    {
      "cell_type": "code",
      "execution_count": 57,
      "metadata": {
        "colab": {
          "base_uri": "https://localhost:8080/"
        },
        "id": "YS_Y1NtAgISu",
        "outputId": "a5a0a6f0-517e-4746-e21a-fc05a5a3a4ac"
=======
      "execution_count": null,
      "metadata": {
        "id": "G89e9Kuh9kCu",
        "outputId": "9ca78301-8318-4a80-9f17-6f80036077ab"
>>>>>>> f14c4eb5f5b2605a3f95e598977ae9cb0386e17b
      },
      "outputs": [
        {
          "name": "stdout",
          "output_type": "stream",
          "text": [
<<<<<<< HEAD
            "0.27472527472527475\n",
            "0.27472527472527475\n"
=======
            "Food accuracy:  27.249771139735845\n",
            "Drink accuracy:  24.969032292527178\n"
>>>>>>> f14c4eb5f5b2605a3f95e598977ae9cb0386e17b
          ]
        }
      ],
      "source": [
<<<<<<< HEAD
        "ClassAcc = accuracy_score(y, y_class_pred)\n",
        "DrinkAcc = accuracy_score(z, z_class_pred)\n",
        "print(ClassAcc)\n",
        "print(DrinkAcc)"
      ]
    },
    {
      "cell_type": "markdown",
      "metadata": {
        "id": "zezPA2bjGb7q"
      },
      "source": [
        "Random forest"
      ]
    },
    {
      "cell_type": "code",
      "execution_count": 34,
      "metadata": {
        "colab": {
          "base_uri": "https://localhost:8080/"
        },
        "id": "A3COFKoHGdcp",
        "outputId": "32fa4853-4a8a-42a3-91e5-b5f924e6b01c"
      },
      "outputs": [
        {
          "name": "stdout",
          "output_type": "stream",
          "text": [
            "0.27472527472527475\n",
            "0.2857142857142857\n"
          ]
        }
      ],
      "source": [
        "forestYAcc = accuracy_score(y, forest_classY_pred)\n",
        "forestZAcc = accuracy_score(z, forest_classZ_pred)\n",
        "print(forestYAcc)\n",
        "print(forestZAcc)"
      ]
    },
    {
      "cell_type": "markdown",
      "metadata": {
        "id": "G2zYtg9-ghkr"
      },
      "source": [
        "Regression"
      ]
    },
    {
      "cell_type": "code",
      "execution_count": null,
      "metadata": {
        "id": "G89e9Kuh9kCu"
      },
      "outputs": [],
      "source": [
        "foodAcc = accuracy_score(y_test_data, y_pred)\n",
        "drinkAcc = accuracy_score(z_test_data, z_pred)\n",
=======
        "foodAcc = regressorFood.score(X, y)\n",
        "drinkAcc = regressorDrink.score(X, z)\n",
>>>>>>> f14c4eb5f5b2605a3f95e598977ae9cb0386e17b
        "print(f\"Food accuracy: \", foodAcc * 100)\n",
        "print(f\"Drink accuracy: \", drinkAcc * 100)"
      ]
    }
  ],
  "metadata": {
<<<<<<< HEAD
    "colab": {
      "collapsed_sections": [],
      "name": "foodMoodPredict.ipynb",
      "provenance": []
    },
=======
>>>>>>> f14c4eb5f5b2605a3f95e598977ae9cb0386e17b
    "kernelspec": {
      "display_name": "Python 3.10.5 64-bit",
      "language": "python",
      "name": "python3"
    },
    "language_info": {
      "codemirror_mode": {
        "name": "ipython",
        "version": 3
      },
      "file_extension": ".py",
      "mimetype": "text/x-python",
      "name": "python",
      "nbconvert_exporter": "python",
      "pygments_lexer": "ipython3",
      "version": "3.10.5"
    },
    "orig_nbformat": 4,
    "vscode": {
      "interpreter": {
        "hash": "6adba92ea4630946933a208615a617445025cd010f5fb1bae6c958b3be96bffd"
      }
<<<<<<< HEAD
=======
    },
    "colab": {
      "name": "foodMoodPredict.ipynb",
      "provenance": [],
      "collapsed_sections": []
>>>>>>> f14c4eb5f5b2605a3f95e598977ae9cb0386e17b
    }
  },
  "nbformat": 4,
  "nbformat_minor": 0
<<<<<<< HEAD
}
=======
}
>>>>>>> f14c4eb5f5b2605a3f95e598977ae9cb0386e17b
