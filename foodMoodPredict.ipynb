{
 "cells": [
  {
   "cell_type": "code",
   "execution_count": 1,
   "metadata": {},
   "outputs": [],
   "source": [
    "import numpy as np\n",
    "import seaborn as sns\n",
    "import pandas as pd\n",
    "from sklearn.tree import DecisionTreeRegressor"
   ]
  },
  {
   "cell_type": "code",
   "execution_count": 3,
   "metadata": {},
   "outputs": [
    {
     "data": {
      "text/html": [
       "<div>\n",
       "<style scoped>\n",
       "    .dataframe tbody tr th:only-of-type {\n",
       "        vertical-align: middle;\n",
       "    }\n",
       "\n",
       "    .dataframe tbody tr th {\n",
       "        vertical-align: top;\n",
       "    }\n",
       "\n",
       "    .dataframe thead th {\n",
       "        text-align: right;\n",
       "    }\n",
       "</style>\n",
       "<table border=\"1\" class=\"dataframe\">\n",
       "  <thead>\n",
       "    <tr style=\"text-align: right;\">\n",
       "      <th></th>\n",
       "      <th>Jenis Kelamin</th>\n",
       "      <th>Umur</th>\n",
       "      <th>Lokasi</th>\n",
       "      <th>Mood</th>\n",
       "      <th>Rekomendasi Makanan</th>\n",
       "      <th>Rekomendasi Minuman</th>\n",
       "    </tr>\n",
       "  </thead>\n",
       "  <tbody>\n",
       "    <tr>\n",
       "      <th>0</th>\n",
       "      <td>Laki - Laki</td>\n",
       "      <td>17</td>\n",
       "      <td>NaN</td>\n",
       "      <td>Senang</td>\n",
       "      <td>Nasi goreng</td>\n",
       "      <td>Minuman bersoda</td>\n",
       "    </tr>\n",
       "    <tr>\n",
       "      <th>1</th>\n",
       "      <td>Laki - Laki</td>\n",
       "      <td>17</td>\n",
       "      <td>NaN</td>\n",
       "      <td>Senang</td>\n",
       "      <td>Cokelat</td>\n",
       "      <td>Minuman bersoda</td>\n",
       "    </tr>\n",
       "    <tr>\n",
       "      <th>2</th>\n",
       "      <td>Laki - Laki</td>\n",
       "      <td>17</td>\n",
       "      <td>NaN</td>\n",
       "      <td>Marah</td>\n",
       "      <td>Mie pedas</td>\n",
       "      <td>Air mineral</td>\n",
       "    </tr>\n",
       "    <tr>\n",
       "      <th>3</th>\n",
       "      <td>Laki - Laki</td>\n",
       "      <td>20</td>\n",
       "      <td>NaN</td>\n",
       "      <td>Marah</td>\n",
       "      <td>Seblak</td>\n",
       "      <td>Air mineral</td>\n",
       "    </tr>\n",
       "    <tr>\n",
       "      <th>4</th>\n",
       "      <td>Laki - Laki</td>\n",
       "      <td>25</td>\n",
       "      <td>NaN</td>\n",
       "      <td>Sedih</td>\n",
       "      <td>Sayur-sayuran</td>\n",
       "      <td>Teh</td>\n",
       "    </tr>\n",
       "  </tbody>\n",
       "</table>\n",
       "</div>"
      ],
      "text/plain": [
       "  Jenis Kelamin  Umur Lokasi    Mood Rekomendasi Makanan Rekomendasi Minuman\n",
       "0   Laki - Laki    17    NaN  Senang         Nasi goreng     Minuman bersoda\n",
       "1   Laki - Laki    17    NaN  Senang             Cokelat     Minuman bersoda\n",
       "2   Laki - Laki    17    NaN   Marah           Mie pedas         Air mineral\n",
       "3   Laki - Laki    20    NaN   Marah              Seblak         Air mineral\n",
       "4   Laki - Laki    25    NaN   Sedih       Sayur-sayuran                 Teh"
      ]
     },
     "execution_count": 3,
     "metadata": {},
     "output_type": "execute_result"
    }
   ],
   "source": [
    "data = pd.read_csv(\"model/survey.csv\")\n",
    "data.head()"
   ]
  },
  {
   "cell_type": "code",
   "execution_count": 5,
   "metadata": {},
   "outputs": [
    {
     "data": {
      "text/html": [
       "<div>\n",
       "<style scoped>\n",
       "    .dataframe tbody tr th:only-of-type {\n",
       "        vertical-align: middle;\n",
       "    }\n",
       "\n",
       "    .dataframe tbody tr th {\n",
       "        vertical-align: top;\n",
       "    }\n",
       "\n",
       "    .dataframe thead th {\n",
       "        text-align: right;\n",
       "    }\n",
       "</style>\n",
       "<table border=\"1\" class=\"dataframe\">\n",
       "  <thead>\n",
       "    <tr style=\"text-align: right;\">\n",
       "      <th></th>\n",
       "      <th>Jenis Kelamin</th>\n",
       "      <th>Umur</th>\n",
       "      <th>Lokasi</th>\n",
       "      <th>Mood</th>\n",
       "      <th>Rekomendasi Makanan</th>\n",
       "      <th>Rekomendasi Minuman</th>\n",
       "    </tr>\n",
       "  </thead>\n",
       "  <tbody>\n",
       "    <tr>\n",
       "      <th>0</th>\n",
       "      <td>Laki - Laki</td>\n",
       "      <td>17</td>\n",
       "      <td>Tidak Tersedia</td>\n",
       "      <td>Senang</td>\n",
       "      <td>Nasi goreng</td>\n",
       "      <td>Minuman bersoda</td>\n",
       "    </tr>\n",
       "    <tr>\n",
       "      <th>1</th>\n",
       "      <td>Laki - Laki</td>\n",
       "      <td>17</td>\n",
       "      <td>Tidak Tersedia</td>\n",
       "      <td>Senang</td>\n",
       "      <td>Cokelat</td>\n",
       "      <td>Minuman bersoda</td>\n",
       "    </tr>\n",
       "    <tr>\n",
       "      <th>2</th>\n",
       "      <td>Laki - Laki</td>\n",
       "      <td>17</td>\n",
       "      <td>Tidak Tersedia</td>\n",
       "      <td>Marah</td>\n",
       "      <td>Mie pedas</td>\n",
       "      <td>Air mineral</td>\n",
       "    </tr>\n",
       "    <tr>\n",
       "      <th>3</th>\n",
       "      <td>Laki - Laki</td>\n",
       "      <td>20</td>\n",
       "      <td>Tidak Tersedia</td>\n",
       "      <td>Marah</td>\n",
       "      <td>Seblak</td>\n",
       "      <td>Air mineral</td>\n",
       "    </tr>\n",
       "    <tr>\n",
       "      <th>4</th>\n",
       "      <td>Laki - Laki</td>\n",
       "      <td>25</td>\n",
       "      <td>Tidak Tersedia</td>\n",
       "      <td>Sedih</td>\n",
       "      <td>Sayur-sayuran</td>\n",
       "      <td>Teh</td>\n",
       "    </tr>\n",
       "  </tbody>\n",
       "</table>\n",
       "</div>"
      ],
      "text/plain": [
       "  Jenis Kelamin  Umur          Lokasi    Mood Rekomendasi Makanan  \\\n",
       "0   Laki - Laki    17  Tidak Tersedia  Senang         Nasi goreng   \n",
       "1   Laki - Laki    17  Tidak Tersedia  Senang             Cokelat   \n",
       "2   Laki - Laki    17  Tidak Tersedia   Marah           Mie pedas   \n",
       "3   Laki - Laki    20  Tidak Tersedia   Marah              Seblak   \n",
       "4   Laki - Laki    25  Tidak Tersedia   Sedih       Sayur-sayuran   \n",
       "\n",
       "  Rekomendasi Minuman  \n",
       "0     Minuman bersoda  \n",
       "1     Minuman bersoda  \n",
       "2         Air mineral  \n",
       "3         Air mineral  \n",
       "4                 Teh  "
      ]
     },
     "execution_count": 5,
     "metadata": {},
     "output_type": "execute_result"
    }
   ],
   "source": [
    "data['Lokasi'] = data['Lokasi'].fillna(\"Tidak Tersedia\")\n",
    "data.head()"
   ]
  },
  {
   "cell_type": "code",
   "execution_count": null,
   "metadata": {},
   "outputs": [],
   "source": []
  },
  {
   "cell_type": "code",
   "execution_count": 4,
   "metadata": {},
   "outputs": [
    {
     "ename": "NameError",
     "evalue": "name 'X' is not defined",
     "output_type": "error",
     "traceback": [
      "\u001b[1;31m---------------------------------------------------------------------------\u001b[0m",
      "\u001b[1;31mNameError\u001b[0m                                 Traceback (most recent call last)",
      "\u001b[1;32mg:\\Project\\Website\\foodGenerator\\foodMoodPredict.ipynb Cell 4\u001b[0m in \u001b[0;36m<cell line: 2>\u001b[1;34m()\u001b[0m\n\u001b[0;32m      <a href='vscode-notebook-cell:/g%3A/Project/Website/foodGenerator/foodMoodPredict.ipynb#ch0000003?line=0'>1</a>\u001b[0m regressor \u001b[39m=\u001b[39m DecisionTreeRegressor(random_state\u001b[39m=\u001b[39m\u001b[39m0\u001b[39m)\n\u001b[1;32m----> <a href='vscode-notebook-cell:/g%3A/Project/Website/foodGenerator/foodMoodPredict.ipynb#ch0000003?line=1'>2</a>\u001b[0m regressor\u001b[39m.\u001b[39mfit(X, y)\n",
      "\u001b[1;31mNameError\u001b[0m: name 'X' is not defined"
     ]
    }
   ],
   "source": [
    "regressor = DecisionTreeRegressor(random_state=0)\n",
    "regressor.fit(X, y)"
   ]
  }
 ],
 "metadata": {
  "kernelspec": {
   "display_name": "Python 3.10.5 64-bit",
   "language": "python",
   "name": "python3"
  },
  "language_info": {
   "codemirror_mode": {
    "name": "ipython",
    "version": 3
   },
   "file_extension": ".py",
   "mimetype": "text/x-python",
   "name": "python",
   "nbconvert_exporter": "python",
   "pygments_lexer": "ipython3",
   "version": "3.10.5"
  },
  "orig_nbformat": 4,
  "vscode": {
   "interpreter": {
    "hash": "6adba92ea4630946933a208615a617445025cd010f5fb1bae6c958b3be96bffd"
   }
  }
 },
 "nbformat": 4,
 "nbformat_minor": 2
}
