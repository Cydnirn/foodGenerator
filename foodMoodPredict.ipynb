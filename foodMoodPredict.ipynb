{
 "cells": [
  {
   "cell_type": "markdown",
   "metadata": {},
   "source": [
    "Change \";\" into \",\""
   ]
  },
  {
   "cell_type": "code",
   "execution_count": 77,
   "metadata": {},
   "outputs": [],
   "source": [
    "import os\n",
    "with open('model/test.csv', 'r') as file:\n",
    "    filedata = file.read()\n",
    "    filedata = filedata.replace(';', ',')\n",
    "\n",
    "    with open('model/test.csv', 'w') as file:\n",
    "        file.write(filedata)"
   ]
  },
  {
   "cell_type": "markdown",
   "metadata": {},
   "source": [
    "CODE STARTS HERE"
   ]
  },
  {
   "cell_type": "code",
   "execution_count": 1,
   "metadata": {},
   "outputs": [],
   "source": [
    "import numpy as np\n",
    "import seaborn as sns\n",
    "import pandas as pd\n",
    "from sklearn.tree import DecisionTreeRegressor"
   ]
  },
  {
   "cell_type": "code",
   "execution_count": 65,
   "metadata": {},
   "outputs": [
    {
     "data": {
      "text/html": [
       "<div>\n",
       "<style scoped>\n",
       "    .dataframe tbody tr th:only-of-type {\n",
       "        vertical-align: middle;\n",
       "    }\n",
       "\n",
       "    .dataframe tbody tr th {\n",
       "        vertical-align: top;\n",
       "    }\n",
       "\n",
       "    .dataframe thead th {\n",
       "        text-align: right;\n",
       "    }\n",
       "</style>\n",
       "<table border=\"1\" class=\"dataframe\">\n",
       "  <thead>\n",
       "    <tr style=\"text-align: right;\">\n",
       "      <th></th>\n",
       "      <th>Jenis Kelamin</th>\n",
       "      <th>Umur</th>\n",
       "      <th>Lokasi</th>\n",
       "      <th>Mood</th>\n",
       "      <th>Rekomendasi Makanan</th>\n",
       "      <th>Rekomendasi Minuman</th>\n",
       "    </tr>\n",
       "  </thead>\n",
       "  <tbody>\n",
       "    <tr>\n",
       "      <th>0</th>\n",
       "      <td>Laki - Laki</td>\n",
       "      <td>17</td>\n",
       "      <td>NaN</td>\n",
       "      <td>Senang</td>\n",
       "      <td>Nasi goreng</td>\n",
       "      <td>Minuman bersoda</td>\n",
       "    </tr>\n",
       "    <tr>\n",
       "      <th>1</th>\n",
       "      <td>Laki - Laki</td>\n",
       "      <td>17</td>\n",
       "      <td>NaN</td>\n",
       "      <td>Senang</td>\n",
       "      <td>Cokelat</td>\n",
       "      <td>Minuman bersoda</td>\n",
       "    </tr>\n",
       "    <tr>\n",
       "      <th>2</th>\n",
       "      <td>Laki - Laki</td>\n",
       "      <td>17</td>\n",
       "      <td>NaN</td>\n",
       "      <td>Marah</td>\n",
       "      <td>Mie pedas</td>\n",
       "      <td>Air mineral</td>\n",
       "    </tr>\n",
       "    <tr>\n",
       "      <th>3</th>\n",
       "      <td>Laki - Laki</td>\n",
       "      <td>20</td>\n",
       "      <td>NaN</td>\n",
       "      <td>Marah</td>\n",
       "      <td>Seblak</td>\n",
       "      <td>Air mineral</td>\n",
       "    </tr>\n",
       "    <tr>\n",
       "      <th>4</th>\n",
       "      <td>Laki - Laki</td>\n",
       "      <td>25</td>\n",
       "      <td>NaN</td>\n",
       "      <td>Sedih</td>\n",
       "      <td>Sayur-sayuran</td>\n",
       "      <td>Teh</td>\n",
       "    </tr>\n",
       "  </tbody>\n",
       "</table>\n",
       "</div>"
      ],
      "text/plain": [
       "  Jenis Kelamin  Umur Lokasi    Mood Rekomendasi Makanan Rekomendasi Minuman\n",
       "0   Laki - Laki    17    NaN  Senang         Nasi goreng     Minuman bersoda\n",
       "1   Laki - Laki    17    NaN  Senang             Cokelat     Minuman bersoda\n",
       "2   Laki - Laki    17    NaN   Marah           Mie pedas         Air mineral\n",
       "3   Laki - Laki    20    NaN   Marah              Seblak         Air mineral\n",
       "4   Laki - Laki    25    NaN   Sedih       Sayur-sayuran                 Teh"
      ]
     },
     "execution_count": 65,
     "metadata": {},
     "output_type": "execute_result"
    }
   ],
   "source": [
    "data = pd.read_csv(\"model/survey.csv\")\n",
    "test = pd.read_csv(\"model/test.csv\")\n",
    "data.head()"
   ]
  },
  {
   "cell_type": "code",
   "execution_count": 14,
   "metadata": {},
   "outputs": [],
   "source": [
    "sex = data[\"Jenis Kelamin\"]\n",
    "age = data[\"Umur\"]\n",
    "mood = data[\"Mood\"]\n",
    "food = data[\"Rekomendasi Makanan\"]\n",
    "drink = data['Rekomendasi Minuman']"
   ]
  },
  {
   "cell_type": "code",
   "execution_count": 66,
   "metadata": {},
   "outputs": [
    {
     "data": {
      "text/html": [
       "<div>\n",
       "<style scoped>\n",
       "    .dataframe tbody tr th:only-of-type {\n",
       "        vertical-align: middle;\n",
       "    }\n",
       "\n",
       "    .dataframe tbody tr th {\n",
       "        vertical-align: top;\n",
       "    }\n",
       "\n",
       "    .dataframe thead th {\n",
       "        text-align: right;\n",
       "    }\n",
       "</style>\n",
       "<table border=\"1\" class=\"dataframe\">\n",
       "  <thead>\n",
       "    <tr style=\"text-align: right;\">\n",
       "      <th></th>\n",
       "      <th>Jenis Kelamin</th>\n",
       "      <th>Umur</th>\n",
       "      <th>Lokasi</th>\n",
       "      <th>Mood</th>\n",
       "      <th>Rekomendasi Makanan</th>\n",
       "      <th>Rekomendasi Minuman</th>\n",
       "    </tr>\n",
       "  </thead>\n",
       "  <tbody>\n",
       "    <tr>\n",
       "      <th>0</th>\n",
       "      <td>Laki - Laki</td>\n",
       "      <td>17</td>\n",
       "      <td>Tidak Tersedia</td>\n",
       "      <td>Senang</td>\n",
       "      <td>Nasi goreng</td>\n",
       "      <td>Minuman bersoda</td>\n",
       "    </tr>\n",
       "    <tr>\n",
       "      <th>1</th>\n",
       "      <td>Laki - Laki</td>\n",
       "      <td>17</td>\n",
       "      <td>Tidak Tersedia</td>\n",
       "      <td>Senang</td>\n",
       "      <td>Cokelat</td>\n",
       "      <td>Minuman bersoda</td>\n",
       "    </tr>\n",
       "    <tr>\n",
       "      <th>2</th>\n",
       "      <td>Laki - Laki</td>\n",
       "      <td>17</td>\n",
       "      <td>Tidak Tersedia</td>\n",
       "      <td>Marah</td>\n",
       "      <td>Mie pedas</td>\n",
       "      <td>Air mineral</td>\n",
       "    </tr>\n",
       "    <tr>\n",
       "      <th>3</th>\n",
       "      <td>Laki - Laki</td>\n",
       "      <td>20</td>\n",
       "      <td>Tidak Tersedia</td>\n",
       "      <td>Marah</td>\n",
       "      <td>Seblak</td>\n",
       "      <td>Air mineral</td>\n",
       "    </tr>\n",
       "    <tr>\n",
       "      <th>4</th>\n",
       "      <td>Laki - Laki</td>\n",
       "      <td>25</td>\n",
       "      <td>Tidak Tersedia</td>\n",
       "      <td>Sedih</td>\n",
       "      <td>Sayur-sayuran</td>\n",
       "      <td>Teh</td>\n",
       "    </tr>\n",
       "  </tbody>\n",
       "</table>\n",
       "</div>"
      ],
      "text/plain": [
       "  Jenis Kelamin  Umur          Lokasi    Mood Rekomendasi Makanan  \\\n",
       "0   Laki - Laki    17  Tidak Tersedia  Senang         Nasi goreng   \n",
       "1   Laki - Laki    17  Tidak Tersedia  Senang             Cokelat   \n",
       "2   Laki - Laki    17  Tidak Tersedia   Marah           Mie pedas   \n",
       "3   Laki - Laki    20  Tidak Tersedia   Marah              Seblak   \n",
       "4   Laki - Laki    25  Tidak Tersedia   Sedih       Sayur-sayuran   \n",
       "\n",
       "  Rekomendasi Minuman  \n",
       "0     Minuman bersoda  \n",
       "1     Minuman bersoda  \n",
       "2         Air mineral  \n",
       "3         Air mineral  \n",
       "4                 Teh  "
      ]
     },
     "execution_count": 66,
     "metadata": {},
     "output_type": "execute_result"
    }
   ],
   "source": [
    "data['Lokasi'] = data['Lokasi'].fillna(\"Tidak Tersedia\")\n",
    "data.head()"
   ]
  },
  {
   "cell_type": "markdown",
   "metadata": {},
   "source": [
    "Encoding "
   ]
  },
  {
   "cell_type": "code",
   "execution_count": null,
   "metadata": {},
   "outputs": [],
   "source": [
    "def simplify_age (age):\n",
    "    if age > 0 and age < 6:\n",
    "        return \"Balita\"\n",
    "    elif age > 6 and age < 12:\n",
    "        return \"Anak - anak\"\n",
    "    elif age > 12 and age < 18:\n",
    "        return \"Remaja\"\n",
    "    elif age > 18 and age < 65:\n",
    "        return \"Dewasa\"\n",
    "    elif age > 65 and age < 200:\n",
    "        return \"lansia\"\n",
    "    return \"Tidak normal\"\n",
    "\n",
    "data[\"Umur\"] = data[\"Umur\"].apply(simplify_age)\n",
    "data[\"Umur\"].unique()"
   ]
  },
  {
   "cell_type": "code",
   "execution_count": 69,
   "metadata": {},
   "outputs": [
    {
     "data": {
      "text/html": [
       "<div>\n",
       "<style scoped>\n",
       "    .dataframe tbody tr th:only-of-type {\n",
       "        vertical-align: middle;\n",
       "    }\n",
       "\n",
       "    .dataframe tbody tr th {\n",
       "        vertical-align: top;\n",
       "    }\n",
       "\n",
       "    .dataframe thead th {\n",
       "        text-align: right;\n",
       "    }\n",
       "</style>\n",
       "<table border=\"1\" class=\"dataframe\">\n",
       "  <thead>\n",
       "    <tr style=\"text-align: right;\">\n",
       "      <th></th>\n",
       "      <th>Jenis Kelamin</th>\n",
       "      <th>Umur</th>\n",
       "      <th>Lokasi</th>\n",
       "      <th>Mood</th>\n",
       "      <th>Rekomendasi Makanan</th>\n",
       "      <th>Rekomendasi Minuman</th>\n",
       "    </tr>\n",
       "  </thead>\n",
       "  <tbody>\n",
       "    <tr>\n",
       "      <th>0</th>\n",
       "      <td>Laki - Laki</td>\n",
       "      <td>Remaja</td>\n",
       "      <td>Tidak Tersedia</td>\n",
       "      <td>Senang</td>\n",
       "      <td>Nasi goreng</td>\n",
       "      <td>Minuman bersoda</td>\n",
       "    </tr>\n",
       "    <tr>\n",
       "      <th>1</th>\n",
       "      <td>Laki - Laki</td>\n",
       "      <td>Remaja</td>\n",
       "      <td>Tidak Tersedia</td>\n",
       "      <td>Senang</td>\n",
       "      <td>Cokelat</td>\n",
       "      <td>Minuman bersoda</td>\n",
       "    </tr>\n",
       "    <tr>\n",
       "      <th>2</th>\n",
       "      <td>Laki - Laki</td>\n",
       "      <td>Remaja</td>\n",
       "      <td>Tidak Tersedia</td>\n",
       "      <td>Marah</td>\n",
       "      <td>Mie pedas</td>\n",
       "      <td>Air mineral</td>\n",
       "    </tr>\n",
       "    <tr>\n",
       "      <th>3</th>\n",
       "      <td>Laki - Laki</td>\n",
       "      <td>Dewasa</td>\n",
       "      <td>Tidak Tersedia</td>\n",
       "      <td>Marah</td>\n",
       "      <td>Seblak</td>\n",
       "      <td>Air mineral</td>\n",
       "    </tr>\n",
       "    <tr>\n",
       "      <th>4</th>\n",
       "      <td>Laki - Laki</td>\n",
       "      <td>Dewasa</td>\n",
       "      <td>Tidak Tersedia</td>\n",
       "      <td>Sedih</td>\n",
       "      <td>Sayur-sayuran</td>\n",
       "      <td>Teh</td>\n",
       "    </tr>\n",
       "  </tbody>\n",
       "</table>\n",
       "</div>"
      ],
      "text/plain": [
       "  Jenis Kelamin    Umur          Lokasi    Mood Rekomendasi Makanan  \\\n",
       "0   Laki - Laki  Remaja  Tidak Tersedia  Senang         Nasi goreng   \n",
       "1   Laki - Laki  Remaja  Tidak Tersedia  Senang             Cokelat   \n",
       "2   Laki - Laki  Remaja  Tidak Tersedia   Marah           Mie pedas   \n",
       "3   Laki - Laki  Dewasa  Tidak Tersedia   Marah              Seblak   \n",
       "4   Laki - Laki  Dewasa  Tidak Tersedia   Sedih       Sayur-sayuran   \n",
       "\n",
       "  Rekomendasi Minuman  \n",
       "0     Minuman bersoda  \n",
       "1     Minuman bersoda  \n",
       "2         Air mineral  \n",
       "3         Air mineral  \n",
       "4                 Teh  "
      ]
     },
     "execution_count": 69,
     "metadata": {},
     "output_type": "execute_result"
    }
   ],
   "source": [
    "data.head()"
   ]
  },
  {
   "cell_type": "code",
   "execution_count": 70,
   "metadata": {},
   "outputs": [
    {
     "data": {
      "text/plain": [
       "array([0, 1])"
      ]
     },
     "execution_count": 70,
     "metadata": {},
     "output_type": "execute_result"
    }
   ],
   "source": [
    "from sklearn.preprocessing import LabelEncoder\n",
    "le_sex = LabelEncoder()\n",
    "data['Jenis Kelamin'] = le_sex.fit_transform(data['Jenis Kelamin'])\n",
    "data[\"Jenis Kelamin\"].unique()"
   ]
  },
  {
   "cell_type": "code",
   "execution_count": 71,
   "metadata": {},
   "outputs": [
    {
     "data": {
      "text/plain": [
       "array([3, 2, 4, 0, 1, 5])"
      ]
     },
     "execution_count": 71,
     "metadata": {},
     "output_type": "execute_result"
    }
   ],
   "source": [
    "le_age = LabelEncoder()\n",
    "data[\"Umur\"] = le_age.fit_transform(data[\"Umur\"])\n",
    "data[\"Umur\"].unique()"
   ]
  },
  {
   "cell_type": "code",
   "execution_count": 72,
   "metadata": {},
   "outputs": [
    {
     "data": {
      "text/plain": [
       "array([2, 0, 1])"
      ]
     },
     "execution_count": 72,
     "metadata": {},
     "output_type": "execute_result"
    }
   ],
   "source": [
    "le_mood = LabelEncoder()\n",
    "data[\"Mood\"] = le_mood.fit_transform(data[\"Mood\"])\n",
    "data[\"Mood\"].unique()"
   ]
  },
  {
   "cell_type": "code",
   "execution_count": 73,
   "metadata": {},
   "outputs": [
    {
     "data": {
      "text/plain": [
       "array([6, 0, 5, 8, 7, 1, 3, 9, 4, 2])"
      ]
     },
     "execution_count": 73,
     "metadata": {},
     "output_type": "execute_result"
    }
   ],
   "source": [
    "le_food = LabelEncoder()\n",
    "data[\"Rekomendasi Makanan\"] = le_food.fit_transform(data[\"Rekomendasi Makanan\"])\n",
    "data[\"Rekomendasi Makanan\"].unique()"
   ]
  },
  {
   "cell_type": "code",
   "execution_count": 74,
   "metadata": {},
   "outputs": [
    {
     "data": {
      "text/plain": [
       "array([5, 1, 7, 2, 4, 0, 6, 3, 8])"
      ]
     },
     "execution_count": 74,
     "metadata": {},
     "output_type": "execute_result"
    }
   ],
   "source": [
    "le_drink = LabelEncoder()\n",
    "data[\"Rekomendasi Minuman\"] = le_drink.fit_transform(data[\"Rekomendasi Minuman\"])\n",
    "data[\"Rekomendasi Minuman\"].unique()"
   ]
  },
  {
   "cell_type": "markdown",
   "metadata": {},
   "source": [
    "USE TO INVERSE"
   ]
  },
  {
   "cell_type": "code",
   "execution_count": null,
   "metadata": {},
   "outputs": [
    {
     "data": {
      "text/plain": [
       "array(['Senang', 'Marah', 'Sedih'], dtype=object)"
      ]
     },
     "execution_count": 49,
     "metadata": {},
     "output_type": "execute_result"
    }
   ],
   "source": [
    "data['Mood'] = le_mood.inverse_transform(data[\"Mood\"])\n",
    "data['Mood'].unique()"
   ]
  },
  {
   "cell_type": "markdown",
   "metadata": {},
   "source": [
    "MACHINE LEARNING START HERE"
   ]
  },
  {
   "cell_type": "code",
   "execution_count": 53,
   "metadata": {},
   "outputs": [
    {
     "data": {
      "text/html": [
       "<div>\n",
       "<style scoped>\n",
       "    .dataframe tbody tr th:only-of-type {\n",
       "        vertical-align: middle;\n",
       "    }\n",
       "\n",
       "    .dataframe tbody tr th {\n",
       "        vertical-align: top;\n",
       "    }\n",
       "\n",
       "    .dataframe thead th {\n",
       "        text-align: right;\n",
       "    }\n",
       "</style>\n",
       "<table border=\"1\" class=\"dataframe\">\n",
       "  <thead>\n",
       "    <tr style=\"text-align: right;\">\n",
       "      <th></th>\n",
       "      <th>Jenis Kelamin</th>\n",
       "      <th>Umur</th>\n",
       "      <th>Lokasi</th>\n",
       "      <th>Mood</th>\n",
       "      <th>Rekomendasi Makanan</th>\n",
       "      <th>Rekomendasi Minuman</th>\n",
       "    </tr>\n",
       "  </thead>\n",
       "  <tbody>\n",
       "    <tr>\n",
       "      <th>0</th>\n",
       "      <td>0</td>\n",
       "      <td>3</td>\n",
       "      <td>Tidak Tersedia</td>\n",
       "      <td>2</td>\n",
       "      <td>6</td>\n",
       "      <td>5</td>\n",
       "    </tr>\n",
       "    <tr>\n",
       "      <th>1</th>\n",
       "      <td>0</td>\n",
       "      <td>3</td>\n",
       "      <td>Tidak Tersedia</td>\n",
       "      <td>2</td>\n",
       "      <td>0</td>\n",
       "      <td>5</td>\n",
       "    </tr>\n",
       "    <tr>\n",
       "      <th>2</th>\n",
       "      <td>0</td>\n",
       "      <td>3</td>\n",
       "      <td>Tidak Tersedia</td>\n",
       "      <td>0</td>\n",
       "      <td>5</td>\n",
       "      <td>1</td>\n",
       "    </tr>\n",
       "    <tr>\n",
       "      <th>3</th>\n",
       "      <td>0</td>\n",
       "      <td>2</td>\n",
       "      <td>Tidak Tersedia</td>\n",
       "      <td>0</td>\n",
       "      <td>8</td>\n",
       "      <td>1</td>\n",
       "    </tr>\n",
       "    <tr>\n",
       "      <th>4</th>\n",
       "      <td>0</td>\n",
       "      <td>2</td>\n",
       "      <td>Tidak Tersedia</td>\n",
       "      <td>1</td>\n",
       "      <td>7</td>\n",
       "      <td>7</td>\n",
       "    </tr>\n",
       "  </tbody>\n",
       "</table>\n",
       "</div>"
      ],
      "text/plain": [
       "   Jenis Kelamin  Umur          Lokasi  Mood  Rekomendasi Makanan  \\\n",
       "0              0     3  Tidak Tersedia     2                    6   \n",
       "1              0     3  Tidak Tersedia     2                    0   \n",
       "2              0     3  Tidak Tersedia     0                    5   \n",
       "3              0     2  Tidak Tersedia     0                    8   \n",
       "4              0     2  Tidak Tersedia     1                    7   \n",
       "\n",
       "   Rekomendasi Minuman  \n",
       "0                    5  \n",
       "1                    5  \n",
       "2                    1  \n",
       "3                    1  \n",
       "4                    7  "
      ]
     },
     "execution_count": 53,
     "metadata": {},
     "output_type": "execute_result"
    }
   ],
   "source": [
    "data.head()"
   ]
  },
  {
   "cell_type": "code",
   "execution_count": 62,
   "metadata": {},
   "outputs": [
    {
     "data": {
      "text/html": [
       "<div>\n",
       "<style scoped>\n",
       "    .dataframe tbody tr th:only-of-type {\n",
       "        vertical-align: middle;\n",
       "    }\n",
       "\n",
       "    .dataframe tbody tr th {\n",
       "        vertical-align: top;\n",
       "    }\n",
       "\n",
       "    .dataframe thead th {\n",
       "        text-align: right;\n",
       "    }\n",
       "</style>\n",
       "<table border=\"1\" class=\"dataframe\">\n",
       "  <thead>\n",
       "    <tr style=\"text-align: right;\">\n",
       "      <th></th>\n",
       "      <th>Jenis Kelamin</th>\n",
       "      <th>Umur</th>\n",
       "      <th>Mood</th>\n",
       "    </tr>\n",
       "  </thead>\n",
       "  <tbody>\n",
       "    <tr>\n",
       "      <th>0</th>\n",
       "      <td>0</td>\n",
       "      <td>3</td>\n",
       "      <td>2</td>\n",
       "    </tr>\n",
       "    <tr>\n",
       "      <th>1</th>\n",
       "      <td>0</td>\n",
       "      <td>3</td>\n",
       "      <td>2</td>\n",
       "    </tr>\n",
       "    <tr>\n",
       "      <th>2</th>\n",
       "      <td>0</td>\n",
       "      <td>3</td>\n",
       "      <td>0</td>\n",
       "    </tr>\n",
       "    <tr>\n",
       "      <th>3</th>\n",
       "      <td>0</td>\n",
       "      <td>2</td>\n",
       "      <td>0</td>\n",
       "    </tr>\n",
       "    <tr>\n",
       "      <th>4</th>\n",
       "      <td>0</td>\n",
       "      <td>2</td>\n",
       "      <td>1</td>\n",
       "    </tr>\n",
       "  </tbody>\n",
       "</table>\n",
       "</div>"
      ],
      "text/plain": [
       "   Jenis Kelamin  Umur  Mood\n",
       "0              0     3     2\n",
       "1              0     3     2\n",
       "2              0     3     0\n",
       "3              0     2     0\n",
       "4              0     2     1"
      ]
     },
     "execution_count": 62,
     "metadata": {},
     "output_type": "execute_result"
    }
   ],
   "source": [
    "features = [\"Jenis Kelamin\", \"Umur\", \"Mood\"]\n",
    "X = data[features]\n",
    "y = data[\"Rekomendasi Makanan\"]\n",
    "z = data[\"Rekomendasi Minuman\"]\n",
    "X.head()"
   ]
  },
  {
   "cell_type": "code",
   "execution_count": 63,
   "metadata": {},
   "outputs": [
    {
     "data": {
      "text/html": [
       "<style>#sk-container-id-1 {color: black;background-color: white;}#sk-container-id-1 pre{padding: 0;}#sk-container-id-1 div.sk-toggleable {background-color: white;}#sk-container-id-1 label.sk-toggleable__label {cursor: pointer;display: block;width: 100%;margin-bottom: 0;padding: 0.3em;box-sizing: border-box;text-align: center;}#sk-container-id-1 label.sk-toggleable__label-arrow:before {content: \"▸\";float: left;margin-right: 0.25em;color: #696969;}#sk-container-id-1 label.sk-toggleable__label-arrow:hover:before {color: black;}#sk-container-id-1 div.sk-estimator:hover label.sk-toggleable__label-arrow:before {color: black;}#sk-container-id-1 div.sk-toggleable__content {max-height: 0;max-width: 0;overflow: hidden;text-align: left;background-color: #f0f8ff;}#sk-container-id-1 div.sk-toggleable__content pre {margin: 0.2em;color: black;border-radius: 0.25em;background-color: #f0f8ff;}#sk-container-id-1 input.sk-toggleable__control:checked~div.sk-toggleable__content {max-height: 200px;max-width: 100%;overflow: auto;}#sk-container-id-1 input.sk-toggleable__control:checked~label.sk-toggleable__label-arrow:before {content: \"▾\";}#sk-container-id-1 div.sk-estimator input.sk-toggleable__control:checked~label.sk-toggleable__label {background-color: #d4ebff;}#sk-container-id-1 div.sk-label input.sk-toggleable__control:checked~label.sk-toggleable__label {background-color: #d4ebff;}#sk-container-id-1 input.sk-hidden--visually {border: 0;clip: rect(1px 1px 1px 1px);clip: rect(1px, 1px, 1px, 1px);height: 1px;margin: -1px;overflow: hidden;padding: 0;position: absolute;width: 1px;}#sk-container-id-1 div.sk-estimator {font-family: monospace;background-color: #f0f8ff;border: 1px dotted black;border-radius: 0.25em;box-sizing: border-box;margin-bottom: 0.5em;}#sk-container-id-1 div.sk-estimator:hover {background-color: #d4ebff;}#sk-container-id-1 div.sk-parallel-item::after {content: \"\";width: 100%;border-bottom: 1px solid gray;flex-grow: 1;}#sk-container-id-1 div.sk-label:hover label.sk-toggleable__label {background-color: #d4ebff;}#sk-container-id-1 div.sk-serial::before {content: \"\";position: absolute;border-left: 1px solid gray;box-sizing: border-box;top: 0;bottom: 0;left: 50%;z-index: 0;}#sk-container-id-1 div.sk-serial {display: flex;flex-direction: column;align-items: center;background-color: white;padding-right: 0.2em;padding-left: 0.2em;position: relative;}#sk-container-id-1 div.sk-item {position: relative;z-index: 1;}#sk-container-id-1 div.sk-parallel {display: flex;align-items: stretch;justify-content: center;background-color: white;position: relative;}#sk-container-id-1 div.sk-item::before, #sk-container-id-1 div.sk-parallel-item::before {content: \"\";position: absolute;border-left: 1px solid gray;box-sizing: border-box;top: 0;bottom: 0;left: 50%;z-index: -1;}#sk-container-id-1 div.sk-parallel-item {display: flex;flex-direction: column;z-index: 1;position: relative;background-color: white;}#sk-container-id-1 div.sk-parallel-item:first-child::after {align-self: flex-end;width: 50%;}#sk-container-id-1 div.sk-parallel-item:last-child::after {align-self: flex-start;width: 50%;}#sk-container-id-1 div.sk-parallel-item:only-child::after {width: 0;}#sk-container-id-1 div.sk-dashed-wrapped {border: 1px dashed gray;margin: 0 0.4em 0.5em 0.4em;box-sizing: border-box;padding-bottom: 0.4em;background-color: white;}#sk-container-id-1 div.sk-label label {font-family: monospace;font-weight: bold;display: inline-block;line-height: 1.2em;}#sk-container-id-1 div.sk-label-container {text-align: center;}#sk-container-id-1 div.sk-container {/* jupyter's `normalize.less` sets `[hidden] { display: none; }` but bootstrap.min.css set `[hidden] { display: none !important; }` so we also need the `!important` here to be able to override the default hidden behavior on the sphinx rendered scikit-learn.org. See: https://github.com/scikit-learn/scikit-learn/issues/21755 */display: inline-block !important;position: relative;}#sk-container-id-1 div.sk-text-repr-fallback {display: none;}</style><div id=\"sk-container-id-1\" class=\"sk-top-container\"><div class=\"sk-text-repr-fallback\"><pre>DecisionTreeRegressor(random_state=0)</pre><b>In a Jupyter environment, please rerun this cell to show the HTML representation or trust the notebook. <br />On GitHub, the HTML representation is unable to render, please try loading this page with nbviewer.org.</b></div><div class=\"sk-container\" hidden><div class=\"sk-item\"><div class=\"sk-estimator sk-toggleable\"><input class=\"sk-toggleable__control sk-hidden--visually\" id=\"sk-estimator-id-1\" type=\"checkbox\" checked><label for=\"sk-estimator-id-1\" class=\"sk-toggleable__label sk-toggleable__label-arrow\">DecisionTreeRegressor</label><div class=\"sk-toggleable__content\"><pre>DecisionTreeRegressor(random_state=0)</pre></div></div></div></div></div>"
      ],
      "text/plain": [
       "DecisionTreeRegressor(random_state=0)"
      ]
     },
     "execution_count": 63,
     "metadata": {},
     "output_type": "execute_result"
    }
   ],
   "source": [
    "regressorFood = DecisionTreeRegressor(random_state=0)\n",
    "regressorDrink = DecisionTreeRegressor(random_state=0)\n",
    "regressorFood.fit(X, y)\n",
    "regressorDrink.fit(X,z)"
   ]
  },
  {
   "cell_type": "code",
   "execution_count": 64,
   "metadata": {},
   "outputs": [],
   "source": [
    "y_pred = regressorFood.predict(X)\n",
    "z_pred = regressorDrink.predict(X)"
   ]
  },
  {
   "cell_type": "code",
   "execution_count": null,
   "metadata": {},
   "outputs": [],
   "source": []
  }
 ],
 "metadata": {
  "kernelspec": {
   "display_name": "Python 3.10.5 64-bit",
   "language": "python",
   "name": "python3"
  },
  "language_info": {
   "codemirror_mode": {
    "name": "ipython",
    "version": 3
   },
   "file_extension": ".py",
   "mimetype": "text/x-python",
   "name": "python",
   "nbconvert_exporter": "python",
   "pygments_lexer": "ipython3",
   "version": "3.10.5"
  },
  "orig_nbformat": 4,
  "vscode": {
   "interpreter": {
    "hash": "6adba92ea4630946933a208615a617445025cd010f5fb1bae6c958b3be96bffd"
   }
  }
 },
 "nbformat": 4,
 "nbformat_minor": 2
}
